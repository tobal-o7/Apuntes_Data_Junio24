{
 "cells": [
  {
   "cell_type": "code",
   "execution_count": 6,
   "metadata": {},
   "outputs": [],
   "source": [
    "#Vamos ejecutarlo:\n",
    "class Coche:\n",
    "    def __init__(self,marca,modelo):\n",
    "        self.marca = marca\n",
    "        self.modelo = modelo\n",
    "        self.velocidad = 0 #Atributo de instancia, cuando cree un objeto de esta clase, tendra este atributo por defecto\n",
    "\n",
    "    def acelerar(self):\n",
    "        self.velocidad += 10\n",
    "        print(f\"El coche {self.marca} {self.modelo} acelera a {self.velocidad} km/h\")\n",
    "    def frenar(self):\n",
    "        self.velocidad -= 5\n",
    "        print(f\"El coche {self.marca} {self.modelo} frena a {self.velocidad} km/h\")\n"
   ]
  },
  {
   "cell_type": "code",
   "execution_count": 7,
   "metadata": {},
   "outputs": [
    {
     "name": "stdout",
     "output_type": "stream",
     "text": [
      "<__main__.Coche object at 0x000002C16B9DEDB0>\n"
     ]
    }
   ],
   "source": [
    "#Creamos primer objeto /instancia\n",
    "coche1 = Coche(\"SEAT\",\"Ibiza\")\n",
    "\n",
    "print(coche1)"
   ]
  },
  {
   "cell_type": "code",
   "execution_count": 9,
   "metadata": {},
   "outputs": [
    {
     "ename": "TypeError",
     "evalue": "'str' object is not callable",
     "output_type": "error",
     "traceback": [
      "\u001b[1;31m---------------------------------------------------------------------------\u001b[0m",
      "\u001b[1;31mTypeError\u001b[0m                                 Traceback (most recent call last)",
      "Cell \u001b[1;32mIn[9], line 1\u001b[0m\n\u001b[1;32m----> 1\u001b[0m \u001b[43mcoche1\u001b[49m\u001b[38;5;241;43m.\u001b[39;49m\u001b[43mmarca\u001b[49m\u001b[43m(\u001b[49m\u001b[43m)\u001b[49m\n",
      "\u001b[1;31mTypeError\u001b[0m: 'str' object is not callable"
     ]
    }
   ],
   "source": [
    "coche1.marca()"
   ]
  },
  {
   "cell_type": "markdown",
   "metadata": {},
   "source": [
    "### [BONUS](#Ejercicio)\n",
    "\n",
    "***1 - Tarjeta Bancaria:***\n",
    "\n",
    "Crear una clase tarjeta de crédito que tenga como atributos el número de la tarjeta, fecha de caducidad,nombre del titular, estado de la tarjeta, pin y el saldo. Y como métodos, activar tarjeta, desactivar tarjeta, pagar, retirar, ingresar y consultar saldo.\n",
    "\n",
    "Ten en cuenta las siguientes restricciones:\n",
    "- El único parámetro para el constructor será el Nombre del Titula de la tarjeta\n",
    "- La fecha de caducidad será el mes de emision + 2 años de validez\n",
    "- El numero de la tarjeta deber tener 8 dígitos que se generen de manera aleatoria al crear la tarjeta\n",
    "- El pin debe tener 4 dígitos aleatorios\n",
    "- La tarjeta tiene que estar desactivada por defecto\n",
    "- El saldo no puede ser negativo\n",
    "- El saldo por defecto debe ser 500€"
   ]
  },
  {
   "cell_type": "code",
   "execution_count": 1,
   "metadata": {},
   "outputs": [],
   "source": [
    "import random\n",
    "    \n",
    "class Bank_card:\n",
    "    __pin = None\n",
    "    __card_number = None\n",
    "    __default_balance = None\n",
    "    \n",
    "    \n",
    "    def __init__(self,name):\n",
    "        self.name = name\n",
    "        \n",
    "    \n",
    "    ## entry name ##\n",
    "    # def name_holder(self,name):\n",
    "    #     self.name = name\n",
    "        # print(self.name)\n",
    "        \n",
    "        \n",
    "    ## current date / validation date ##\n",
    "    def date(self,current_date):\n",
    "        self.current_date = current_date\n",
    "        \n",
    "        \n",
    "    ## random 8 number generator ##\n",
    "    \n",
    "        \n",
    "    def card_number(self):\n",
    "        eight_nums = []\n",
    "        while len(eight_nums) < 8:\n",
    "            new_num = random.randint(0,9)\n",
    "            eight_nums.append(new_num)\n",
    "        self.card_number = eight_nums\n",
    "        \n",
    "        \n",
    "    ## random 4 number generator ##\n",
    "    def pin_num_4(self):\n",
    "        pin = []\n",
    "        while len(pin) < 4:\n",
    "            new_number = random.randint(0,9)\n",
    "            pin.append(new_number)\n",
    "        self.pin_num_4 = pin\n",
    "        \n",
    "        \n",
    "    ## bank activate default de-activated ##\n",
    "    def activate(self,off = False):\n",
    "        self.off = off\n",
    "        restart = 2\n",
    "        while restart == 2:\n",
    "            on_or_off = input(f'do you wish to turn on your bank (type Y or N): ').upper()\n",
    "            if on_or_off == 'Y':\n",
    "                off = True\n",
    "                print(f'bank status = {off}')\n",
    "                break\n",
    "            elif on_or_off == 'N':\n",
    "                print(f'bank status = {off}')\n",
    "                break\n",
    "            else:\n",
    "                restart = 2\n",
    "            \n",
    "    ## El saldo no puede ser negativo  ##    \n",
    "    def balance_no_negative(self,balance):\n",
    "        if balance == 0:\n",
    "            print('you cant go negative!')\n",
    "        \n",
    "    \n",
    "    ## El saldo por defecto debe ser 500€ ##    \n",
    "    def default_balance(self, balance : int):\n",
    "        if balance < 500:\n",
    "            print('you cant have a balance under 500.')\n",
    "        if balance > 500:\n",
    "            print('you have enough balance; Welcome!')\n",
    "        if balance == 500:\n",
    "            print('you have enough balance; Welcome!')\n",
    "            \n",
    "    "
   ]
  },
  {
   "cell_type": "markdown",
   "metadata": {},
   "source": [
    "## NAME"
   ]
  },
  {
   "cell_type": "code",
   "execution_count": 36,
   "metadata": {},
   "outputs": [
    {
     "name": "stdout",
     "output_type": "stream",
     "text": [
      "Hi cristobal!\n"
     ]
    }
   ],
   "source": [
    "bank_name = Bank_card('cristobal')\n",
    "print(f'Hi {bank_name.name}!')"
   ]
  },
  {
   "cell_type": "markdown",
   "metadata": {},
   "source": [
    "## DATE (not done yet)"
   ]
  },
  {
   "cell_type": "code",
   "execution_count": 77,
   "metadata": {},
   "outputs": [],
   "source": [
    "bank_end = Bank_card('Tobal')\n",
    "bank_end.date('today')\n",
    "# now i need to add 2 years"
   ]
  },
  {
   "cell_type": "markdown",
   "metadata": {},
   "source": [
    "## eight digit number"
   ]
  },
  {
   "cell_type": "code",
   "execution_count": 84,
   "metadata": {},
   "outputs": [
    {
     "data": {
      "text/plain": [
       "{'name': 'Tobal', 'random_8_digit': [2, 9, 2, 0, 3, 6, 0, 7]}"
      ]
     },
     "execution_count": 84,
     "metadata": {},
     "output_type": "execute_result"
    }
   ],
   "source": [
    "tarjeta_tobal = Bank_card('Tobal')# this adds the class to a object i.e a variable but better.\n",
    "tarjeta_tobal.random_8_digit()# then i can call the function that i want to use.\n",
    "tarjeta_tobal.__dict__# this shows attributes in a dict form (i think)"
   ]
  },
  {
   "cell_type": "code",
   "execution_count": 48,
   "metadata": {},
   "outputs": [
    {
     "ename": "TypeError",
     "evalue": "Bank_card.random_8_digit() missing 1 required positional argument: 'self'",
     "output_type": "error",
     "traceback": [
      "\u001b[1;31m---------------------------------------------------------------------------\u001b[0m",
      "\u001b[1;31mTypeError\u001b[0m                                 Traceback (most recent call last)",
      "Cell \u001b[1;32mIn[48], line 2\u001b[0m\n\u001b[0;32m      1\u001b[0m \u001b[38;5;66;03m# random_card_num1 = Bank_card.random_8_digit()\u001b[39;00m\n\u001b[1;32m----> 2\u001b[0m \u001b[43mBank_card\u001b[49m\u001b[38;5;241;43m.\u001b[39;49m\u001b[43mrandom_8_digit\u001b[49m\u001b[43m(\u001b[49m\u001b[43m)\u001b[49m\n\u001b[0;32m      3\u001b[0m \u001b[38;5;66;03m# print(f'Here are your 8 numbers: {random_card_num1.random_8}.')\u001b[39;00m\n",
      "\u001b[1;31mTypeError\u001b[0m: Bank_card.random_8_digit() missing 1 required positional argument: 'self'"
     ]
    }
   ],
   "source": [
    "random_card_num1 = Bank_card.random_8_digit()# here im calling the function from the class which wont work.\n",
    "Bank_card.random_8_digit()\n",
    "# print(f'Here are your 8 numbers: {random_card_num1.random_8}.')"
   ]
  },
  {
   "cell_type": "markdown",
   "metadata": {},
   "source": [
    "## pin num\n"
   ]
  },
  {
   "cell_type": "code",
   "execution_count": 165,
   "metadata": {},
   "outputs": [
    {
     "data": {
      "text/plain": [
       "{'name': 'Tobal', 'pin_num_4': [5, 5, 4, 2]}"
      ]
     },
     "execution_count": 165,
     "metadata": {},
     "output_type": "execute_result"
    }
   ],
   "source": [
    "pin1 = Bank_card('Tobal')\n",
    "pin1.pin_num_4()\n",
    "\n",
    "pin1.__dict__"
   ]
  },
  {
   "cell_type": "markdown",
   "metadata": {},
   "source": [
    "## activation"
   ]
  },
  {
   "cell_type": "code",
   "execution_count": 168,
   "metadata": {},
   "outputs": [],
   "source": [
    "de_activated = Bank_card('Tobal')\n",
    "de_activated.activate()"
   ]
  },
  {
   "cell_type": "markdown",
   "metadata": {},
   "source": [
    "## Balance"
   ]
  },
  {
   "cell_type": "code",
   "execution_count": 149,
   "metadata": {},
   "outputs": [
    {
     "name": "stdout",
     "output_type": "stream",
     "text": [
      "you have enough balance; Welcome!\n"
     ]
    }
   ],
   "source": [
    "balance = Bank_card('Tobal')\n",
    "balance.default_balance(600)"
   ]
  },
  {
   "cell_type": "markdown",
   "metadata": {},
   "source": [
    "## negative balance"
   ]
  },
  {
   "cell_type": "code",
   "execution_count": 151,
   "metadata": {},
   "outputs": [],
   "source": [
    "negative = Bank_card('Tobal')\n",
    "negative.balance_no_negative(0-5)"
   ]
  }
 ],
 "metadata": {
  "kernelspec": {
   "display_name": "Python 3",
   "language": "python",
   "name": "python3"
  },
  "language_info": {
   "codemirror_mode": {
    "name": "ipython",
    "version": 3
   },
   "file_extension": ".py",
   "mimetype": "text/x-python",
   "name": "python",
   "nbconvert_exporter": "python",
   "pygments_lexer": "ipython3",
   "version": "3.12.3"
  }
 },
 "nbformat": 4,
 "nbformat_minor": 2
}
