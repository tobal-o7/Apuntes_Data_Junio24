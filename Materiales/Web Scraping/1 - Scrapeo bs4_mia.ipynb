{
  "cells": [
    {
      "cell_type": "markdown",
      "metadata": {
        "id": "xdQ0EtZAgT3j"
      },
      "source": [
        "# 1 - Web Scraping / Scrapeo con BeatifulSoup (Bs4)\n",
        "<p align = 'center'>\n",
        "<img src = 'https://editor.analyticsvidhya.com/uploads/75676cover.jfif'/>\n",
        "</p>\n",
        "\n",
        "Web scraping o raspado web, es una técnica utilizada mediante programas de software para extraer información de sitios web de manera automatizada y masiva. Usualmente, estos programas simulan la navegación de un humano en la web ya sea utilizando el protocolo HTTP manualmente, o incrustando un navegador en una aplicación.\n",
        "\n",
        "El web scraping está muy relacionado con la indexación de la web, la cual indexa la información de la web utilizando un robot y es una técnica universal adoptada por la mayoría de los motores de búsqueda. Sin embargo, el web scraping se enfoca más en la transformación de datos sin estructura en la web, como el formato HTML, en datos estructurados que pueden ser almacenados y analizados en una base de datos central, en una hoja de cálculo o en alguna otra fuente de almacenamiento. Alguno de los usos del web scraping son la comparación de precios en tiendas, la monitorización de datos relacionados con el clima de cierta región, la detección de cambios en sitios webs y la integración de datos en sitios webs.\n",
        "\n",
        "En los últimos años el web scraping se ha convertido en una **técnica muy utilizada** dentro del sector del posicionamiento web gracias a su capacidad de generar grandes cantidades de datos para crear contenidos de calidad.\n",
        "\n",
        "Podríamos pensar que el web scraping es nuestro recurso a **falta de una API o un feed RSS**. A falta de una fuente de datos, siempre podemos extraer aquello que sale por pantalla."
      ]
    },
    {
      "cell_type": "markdown",
      "metadata": {
        "id": "rpYvopdjC95u"
      },
      "source": [
        "Todo aquello que necesite interactividad con la página web va a necesitar **selenium**, una librería que nos permite darle instrucciones a nuestro explorador para poder simular los movimientos que haríamos por dentro de la web:\n",
        " - Cambiar de página\n",
        " - Rellenar formularios\n",
        " - Hacer click en botones\n",
        " - Cerrar pop-ups\n",
        " - Rechazar cookies\n",
        " \n",
        "Por otro lado, todo aquello que sea estático podemos tirar únicamente de **BeautifulSoup**, la primera librería para scrapeo que vamos a conocer que nos permite, una vez cargada la página de la que vamos a extraer la información, recorrer el código HTML y quedarnos con aquellos datos que necesitemos.\n",
        "\n",
        "Tendremos que realizar scrapeo cuando no dispongamos de una fuente más sencilla de la que obtener información como una API, una base de datos, fichero, etc..."
      ]
    },
    {
      "cell_type": "markdown",
      "metadata": {
        "id": "5q0_jKSEgT38"
      },
      "source": [
        "# 2 - Extracción de los datos del HTML\n",
        "\n",
        "Para scrapear necesitamos saber que pinta tiene la **estructura general** que tiene un HTML.\n",
        "\n",
        "El HTML consiste en contenido `<etiquetado>`, es como si fueran cajas de contenido, organizado de manera jerárquica:\n",
        "\n",
        "```\n",
        "<html>\n",
        "    <head>\n",
        "        <title>Titulo de la pagina</title>\n",
        "    </head>\n",
        "    <body>\n",
        "        <h1>Cabecera</h1>\n",
        "        <p>Parrafo</p>\n",
        "    </body>\n",
        "</html>\n",
        "```\n",
        "\n",
        "$$$$\n",
        "\n",
        "Las etiquetas el HTML se pueden clasificar en varios grupos, dependiendo del tipo de contenido que posea. Estos son algunos ejemplos:\n",
        "\n",
        "+ cabecera: `<h1>`, `<h2>`, `<h3>`, `<hgroup>`...\n",
        "+ texto: `<b>`, `<p>`, `<span>`...\n",
        "+ embebido: `<audio>`, `<img>`, `<video>`...\n",
        "+ tabular: `<table>`, `<tr>`, `<td>`, `<tbody>`...\n",
        "+ secciones: `<header>`, `<section>`, `<article>`...\n",
        "+ metadata: `<meta>`, `<title>`, `<script>`...\n",
        "\n",
        "$$$$\n",
        "\n",
        "\n",
        "Las etiquetas pueden tener atributos. Por ejemplo:\n",
        "\n",
        "`<div class=\"text-monospace\" id=\"name_132\", href=\"www.example.com\"> Contenido de la pagina </div>`\n",
        "\n",
        "Esta etiqueta `div` tiene los siguientes atributos:\n",
        "\n",
        "+ class: atributo con valor \"text-monospace\". La clase no es única en la página, varios elementos pueden tener la misma clase.\n",
        "+ id: atributo con valor \"name_132\". El id de una etiqueta la identifica de manera unívoca, no puede haber dos etiquetas con el mismo id.\n",
        "+ href: atributo con valor \"www.example.com\". El href suele contener el link a otra parte de la página.\n",
        "\n",
        "Siguiendo con la analogía de las cajas, si una etiqueta de HTML es una caja, los atributos serían las pegatinas pegadas en la tapa de la caja.\n",
        "\n",
        "Conociendo cual es el contenido que queremos extraer, debemos encontrar las **etiquetas** que nos interesan dentro de todo el HTML de la página web."
      ]
    },
    {
      "cell_type": "markdown",
      "metadata": {
        "id": "F-yRUsk8gT4E"
      },
      "source": [
        "Para ello vamos a usar **[BeautifulSoup](https://www.crummy.com/software/BeautifulSoup/bs4/doc/)**."
      ]
    },
    {
      "cell_type": "code",
      "execution_count": null,
      "metadata": {
        "id": "NCO_EbNigT4E"
      },
      "outputs": [],
      "source": [
        "#%pip install beautifulsoup4"
      ]
    },
    {
      "cell_type": "code",
      "execution_count": 1,
      "metadata": {
        "id": "7j8giB5MgT4H"
      },
      "outputs": [],
      "source": [
        "import requests as req\n",
        "from bs4 import BeautifulSoup as bs #este alias es standard"
      ]
    },
    {
      "cell_type": "markdown",
      "metadata": {
        "id": "Wx1oq9PrgT4I"
      },
      "source": [
        "# 3 - Scrapeando **WIKIPEDIA**\n",
        "\n",
        "Vamos a echar un ojo a esta web **[Países europeos según esperanza de vida](https://en.wikipedia.org/wiki/List_of_European_countries_by_life_expectancy)** para intentar sacar la información de la tabla que contiene la esperanza de vida de los países europeos."
      ]
    },
    {
      "cell_type": "markdown",
      "metadata": {
        "id": "5E8jOiYhu1J_"
      },
      "source": [
        "Hasta ahora habíamos visto `requests`para hacer llamadas a url (normalmente endpoints de las APIS que hemos estado mirando)\n",
        "\n",
        "¿Y si llamamos a una url de una web digamos `normal`?"
      ]
    },
    {
      "cell_type": "code",
      "execution_count": null,
      "metadata": {
        "colab": {
          "base_uri": "https://localhost:8080/",
          "height": 157
        },
        "id": "fIghRQ_agT4J",
        "outputId": "d5254b86-0b8c-48a2-f639-a92a3a9b65f3"
      },
      "outputs": [],
      "source": [
        "#url de la pagina a scrapear\n",
        "url = 'https://en.wikipedia.org/wiki/List_of_European_countries_by_life_expectancy'\n",
        "\n",
        "html = req.get(url).text #obtenemos el contenido de la pagina\n",
        "html[:1000] #mostramos los primeros 1000 caracteres"
      ]
    },
    {
      "cell_type": "code",
      "execution_count": null,
      "metadata": {
        "colab": {
          "base_uri": "https://localhost:8080/",
          "height": 157
        },
        "id": "sS-BcQM2gT4K",
        "outputId": "0d35b6b6-e364-4d32-b751-de8a0895b700"
      },
      "outputs": [],
      "source": [
        "str(html).split('/head>')[1][:1000] #mostramos los primeros 1000 caracteres de la seccion body / Esto es una gualtrapada para ver el codigo html de la pagina"
      ]
    },
    {
      "cell_type": "code",
      "execution_count": 4,
      "metadata": {},
      "outputs": [
        {
          "data": {
            "text/plain": [
              "632766"
            ]
          },
          "execution_count": 4,
          "metadata": {},
          "output_type": "execute_result"
        }
      ],
      "source": [
        "# cantidad de caracteres que tiene esta parte del codigo html\n",
        "len(str(html).split('/head>')[1])"
      ]
    },
    {
      "cell_type": "markdown",
      "metadata": {
        "id": "NSXqfGkpFqpk"
      },
      "source": [
        "Esto es infumable y para nada práctico. Para ello BeautifulSoup entra en juego para facilitarnos la vida.\n",
        "\n",
        "Vimos en la docu, la manera de pasarle un `html` para que nos lo parsee (traduzca/convierta) en un objeto de BeautifulSoup muchos más manejable, amigable y con muchos métodos que nos facilitan el poder navegar el `html` para encontrar el contenido exacto que queremos extraer.\n",
        "\n",
        "Así, al **parsearlo**, es mucho más **legible**. A este objeto por convención se le llama `soup`."
      ]
    },
    {
      "cell_type": "code",
      "execution_count": 5,
      "metadata": {
        "colab": {
          "base_uri": "https://localhost:8080/",
          "height": 186
        },
        "id": "XtWBIiA4gT4L",
        "outputId": "ff3e478f-7517-44e3-b520-7e9ae774877a",
        "scrolled": false
      },
      "outputs": [
        {
          "data": {
            "text/plain": [
              "bs4.BeautifulSoup"
            ]
          },
          "execution_count": 5,
          "metadata": {},
          "output_type": "execute_result"
        }
      ],
      "source": [
        "soup = bs(html, 'html.parser') #creamos el objeto soup, y le decimos que lo que le pasamos tiene pinta de html\n",
        "type(soup)"
      ]
    },
    {
      "cell_type": "code",
      "execution_count": null,
      "metadata": {},
      "outputs": [],
      "source": [
        "print(soup.prettify())"
      ]
    },
    {
      "cell_type": "markdown",
      "metadata": {
        "id": "oHe0ZhK8GQ-i"
      },
      "source": [
        "Vamos a acceder a la tabla que hay en la web. \n",
        "\n",
        "En primer lugar es necesario entender cómo se estructura una tabla en código HTML.\n",
        "\n",
        "Gracias a BeautifulSoup podemos encontrar los diferentes **elementos** de una manera muy **veloz**.\n",
        "\n",
        "Hay varias funciones para encontrar elementos concretos. `find()` y `find_all()` son dos ejemplos."
      ]
    },
    {
      "cell_type": "markdown",
      "metadata": {
        "id": "hBi5YagriQvD"
      },
      "source": [
        "Vamos a ver como es la **estructura general** de una tabla en html:\n",
        "\n",
        "![](https://www.corelangs.com/html/tables/img/html-table-structure.png)"
      ]
    },
    {
      "cell_type": "markdown",
      "metadata": {
        "id": "91yf9l_AjOku"
      },
      "source": [
        "![](https://www.ourtutorials.in/html/img/table1.JPG)"
      ]
    },
    {
      "cell_type": "code",
      "execution_count": null,
      "metadata": {
        "id": "5CeJT5w_gT4M"
      },
      "outputs": [],
      "source": [
        "# Tabla\n",
        "tabla = soup.find('table') #buscamos la tabla, en este caso solo hay una. Si hubiera mas, solo nos devolveria la primera. Si queremos todas, usamos find_all\n",
        "# soup.find_all('table')  -->  En caso de que tuviéramos más de una tabla esta sería la línea de código correcta para acceder a todas ellas\n",
        "tabla"
      ]
    },
    {
      "cell_type": "code",
      "execution_count": 9,
      "metadata": {},
      "outputs": [
        {
          "data": {
            "text/plain": [
              "15"
            ]
          },
          "execution_count": 9,
          "metadata": {},
          "output_type": "execute_result"
        }
      ],
      "source": [
        "# cuantas tablas hay...?\n",
        "len(soup.find_all('table'))"
      ]
    },
    {
      "cell_type": "code",
      "execution_count": null,
      "metadata": {
        "colab": {
          "base_uri": "https://localhost:8080/",
          "height": 157
        },
        "id": "esrynZ3KgT4M",
        "outputId": "d9bde501-cac4-44c4-fcfd-daae9bc6d94f"
      },
      "outputs": [],
      "source": [
        "tabla.prettify()"
      ]
    },
    {
      "cell_type": "code",
      "execution_count": null,
      "metadata": {
        "colab": {
          "base_uri": "https://localhost:8080/"
        },
        "id": "rPa-nNn-zZ61",
        "outputId": "8cc11094-db92-4c91-da2b-955a399665bf"
      },
      "outputs": [],
      "source": [
        "print(tabla.prettify()[:1000])"
      ]
    },
    {
      "cell_type": "code",
      "execution_count": 13,
      "metadata": {
        "colab": {
          "base_uri": "https://localhost:8080/"
        },
        "id": "WEo8yLJ3gT4N",
        "outputId": "72ed4e6b-8821-4514-f950-640441492ce7"
      },
      "outputs": [
        {
          "data": {
            "text/plain": [
              "59"
            ]
          },
          "execution_count": 13,
          "metadata": {},
          "output_type": "execute_result"
        }
      ],
      "source": [
        "# Filas de la tabla\n",
        "filas = tabla.find_all('tr') # tr --> table row\n",
        "len(filas) #Acordaros que vimos que find all nos devolvía una lista con todos los elementos encontrados"
      ]
    },
    {
      "cell_type": "code",
      "execution_count": 14,
      "metadata": {
        "colab": {
          "base_uri": "https://localhost:8080/",
          "height": 138
        },
        "id": "zDQ7Zb8HHqZq",
        "outputId": "efde33b1-637b-4f61-f227-73f8bf17fb37"
      },
      "outputs": [
        {
          "data": {
            "text/plain": [
              "bs4.element.ResultSet"
            ]
          },
          "execution_count": 14,
          "metadata": {},
          "output_type": "execute_result"
        }
      ],
      "source": [
        "type(filas) # ResultSet es una lista"
      ]
    },
    {
      "cell_type": "markdown",
      "metadata": {
        "id": "288MA6b0H5sD"
      },
      "source": [
        "Al ser una lista puedo recorrer cada elemento."
      ]
    },
    {
      "cell_type": "code",
      "execution_count": null,
      "metadata": {
        "colab": {
          "base_uri": "https://localhost:8080/",
          "height": 35
        },
        "id": "RCuFTQUkH-TE",
        "outputId": "4ffe0c0c-15f4-4169-f64b-8dfdb2421828"
      },
      "outputs": [],
      "source": [
        "# Texto del primer elemento de la lista\n",
        "filas[0].text"
      ]
    },
    {
      "cell_type": "code",
      "execution_count": 11,
      "metadata": {
        "colab": {
          "base_uri": "https://localhost:8080/"
        },
        "id": "wc5RxlqMIUSw",
        "outputId": "0cd01213-e5a7-4cca-b062-d8c362384bea"
      },
      "outputs": [
        {
          "name": "stdout",
          "output_type": "stream",
          "text": [
            "\n",
            "Countries andterritories\n",
            "\n",
            "Life expectancy for population in general\n",
            "\n",
            "Life expectancy for male\n",
            "\n",
            "Life expectancy for female\n",
            "\n",
            "Sex gap\n",
            "\n",
            "Population(thous.)\n",
            "\n",
            "\n",
            "\n"
          ]
        }
      ],
      "source": [
        "print(filas[0].text)"
      ]
    },
    {
      "cell_type": "code",
      "execution_count": 16,
      "metadata": {
        "colab": {
          "base_uri": "https://localhost:8080/"
        },
        "id": "a-oUQjmggT4S",
        "outputId": "61f61b38-ce3c-4956-aee2-501f8b1f11a2"
      },
      "outputs": [
        {
          "name": "stdout",
          "output_type": "stream",
          "text": [
            "<class 'str'> \n",
            "Countries andterritories\n",
            "\n",
            "Life expectancy for population in general\n",
            "\n",
            "Life expectancy for male\n",
            "\n",
            "Life expectancy for female\n",
            "\n",
            "Sex gap\n",
            "\n",
            "Population(thous.)\n",
            "\n",
            "\n",
            "\n",
            "-----------------\n",
            "<class 'str'> \n",
            "at birth\n",
            "\n",
            "bonus0→15\n",
            "\n",
            "at 15\n",
            "\n",
            "bonus15→65\n",
            "\n",
            "at 65\n",
            "\n",
            "bonus65→80\n",
            "\n",
            "at 80\n",
            "\n",
            "at birth\n",
            "\n",
            "at 15\n",
            "\n",
            "at 65\n",
            "\n",
            "at 80\n",
            "\n",
            "at birth\n",
            "\n",
            "at 15\n",
            "\n",
            "at 65\n",
            "\n",
            "at 80\n",
            "\n",
            "at birth\n",
            "\n",
            "at 15\n",
            "\n",
            "at 65\n",
            "\n",
            "at 80\n",
            "\n",
            "-----------------\n",
            "<class 'str'> \n",
            " Monaco\n",
            "86.37\n",
            "0.45\n",
            "71.82\n",
            "1.40\n",
            "23.21\n",
            "3.09\n",
            "11.30\n",
            "84.45\n",
            "69.90\n",
            "21.56\n",
            "10.14\n",
            "88.50\n",
            "73.95\n",
            "25.05\n",
            "12.50\n",
            "4.06\n",
            "4.05\n",
            "3.49\n",
            "2.36\n",
            "39\n",
            "\n",
            "\n",
            "-----------------\n"
          ]
        }
      ],
      "source": [
        "# texto de cada fila solo para los 3 primeros elementos\n",
        "for f in filas[:3]:\n",
        "    print(type(f.text), f.text)\n",
        "    print('-----------------')"
      ]
    },
    {
      "cell_type": "code",
      "execution_count": 17,
      "metadata": {
        "colab": {
          "base_uri": "https://localhost:8080/"
        },
        "id": "VnjRv18KOeCn",
        "outputId": "2ecf5cf0-e01e-4b7a-b29d-451e83ba74ea"
      },
      "outputs": [
        {
          "name": "stdout",
          "output_type": "stream",
          "text": [
            "<class 'str'> \n",
            " Monaco\n",
            "86.37\n",
            "0.45\n",
            "71.82\n",
            "1.40\n",
            "23.21\n",
            "3.09\n",
            "11.30\n",
            "84.45\n",
            "69.90\n",
            "21.56\n",
            "10.14\n",
            "88.50\n",
            "73.95\n",
            "25.05\n",
            "12.50\n",
            "4.06\n",
            "4.05\n",
            "3.49\n",
            "2.36\n",
            "39\n",
            "\n",
            "\n",
            "-----------------\n",
            "<class 'str'> \n",
            " San Marino\n",
            "85.71\n",
            "0.15\n",
            "70.86\n",
            "1.78\n",
            "22.64\n",
            "2.88\n",
            "10.52\n",
            "84.21\n",
            "69.36\n",
            "21.25\n",
            "9.52\n",
            "87.10\n",
            "72.24\n",
            "23.90\n",
            "11.31\n",
            "2.89\n",
            "2.88\n",
            "2.65\n",
            "1.79\n",
            "34\n",
            "\n",
            "\n",
            "-----------------\n",
            "<class 'str'> \n",
            " Andorra\n",
            "84.04\n",
            "0.58\n",
            "69.62\n",
            "1.85\n",
            "21.47\n",
            "3.72\n",
            "10.19\n",
            "82.10\n",
            "67.68\n",
            "19.81\n",
            "9.03\n",
            "86.11\n",
            "71.70\n",
            "23.18\n",
            "11.16\n",
            "4.01\n",
            "4.02\n",
            "3.36\n",
            "2.13\n",
            "81\n",
            "\n",
            "\n",
            "-----------------\n"
          ]
        }
      ],
      "source": [
        "#vamos a sacar el texto de 3 primeros elementos del cuerpo de la tabla\n",
        "for f in filas[2:5]:\n",
        "    print(type(f.text), f.text)\n",
        "    print('-----------------')"
      ]
    },
    {
      "cell_type": "code",
      "execution_count": 18,
      "metadata": {},
      "outputs": [
        {
          "data": {
            "text/plain": [
              "'\\n\\xa0Andorra\\n84.04\\n0.58\\n69.62\\n1.85\\n21.47\\n3.72\\n10.19\\n82.10\\n67.68\\n19.81\\n9.03\\n86.11\\n71.70\\n23.18\\n11.16\\n4.01\\n4.02\\n3.36\\n2.13\\n81\\n\\n'"
            ]
          },
          "execution_count": 18,
          "metadata": {},
          "output_type": "execute_result"
        }
      ],
      "source": [
        "f.text"
      ]
    },
    {
      "cell_type": "code",
      "execution_count": 14,
      "metadata": {
        "colab": {
          "base_uri": "https://localhost:8080/"
        },
        "id": "SO613PGA2hTy",
        "outputId": "d1809f41-56e7-4953-db9c-4d04a1dec0c2"
      },
      "outputs": [
        {
          "data": {
            "text/plain": [
              "['',\n",
              " '\\xa0Andorra',\n",
              " '84.04',\n",
              " '0.58',\n",
              " '69.62',\n",
              " '1.85',\n",
              " '21.47',\n",
              " '3.72',\n",
              " '10.19',\n",
              " '82.10',\n",
              " '67.68',\n",
              " '19.81',\n",
              " '9.03',\n",
              " '86.11',\n",
              " '71.70',\n",
              " '23.18',\n",
              " '11.16',\n",
              " '4.01',\n",
              " '4.02',\n",
              " '3.36',\n",
              " '2.13',\n",
              " '81',\n",
              " '',\n",
              " '']"
            ]
          },
          "execution_count": 14,
          "metadata": {},
          "output_type": "execute_result"
        }
      ],
      "source": [
        "f.text.split('\\n')"
      ]
    },
    {
      "cell_type": "code",
      "execution_count": 19,
      "metadata": {
        "colab": {
          "base_uri": "https://localhost:8080/"
        },
        "id": "hOezc_JRgT4T",
        "outputId": "b159c188-1e69-4ff5-dd2a-df790c4758a3"
      },
      "outputs": [
        {
          "data": {
            "text/plain": [
              "[['Countries andterritories',\n",
              "  '',\n",
              "  'Life expectancy for population in general',\n",
              "  '',\n",
              "  'Life expectancy for male',\n",
              "  '',\n",
              "  'Life expectancy for female',\n",
              "  '',\n",
              "  'Sex gap',\n",
              "  '',\n",
              "  'Population(thous.)'],\n",
              " ['at birth',\n",
              "  '',\n",
              "  'bonus0→15',\n",
              "  '',\n",
              "  'at 15',\n",
              "  '',\n",
              "  'bonus15→65',\n",
              "  '',\n",
              "  'at 65',\n",
              "  '',\n",
              "  'bonus65→80',\n",
              "  '',\n",
              "  'at 80',\n",
              "  '',\n",
              "  'at birth',\n",
              "  '',\n",
              "  'at 15',\n",
              "  '',\n",
              "  'at 65',\n",
              "  '',\n",
              "  'at 80',\n",
              "  '',\n",
              "  'at birth',\n",
              "  '',\n",
              "  'at 15',\n",
              "  '',\n",
              "  'at 65',\n",
              "  '',\n",
              "  'at 80',\n",
              "  '',\n",
              "  'at birth',\n",
              "  '',\n",
              "  'at 15',\n",
              "  '',\n",
              "  'at 65',\n",
              "  '',\n",
              "  'at 80'],\n",
              " ['Monaco',\n",
              "  '86.37',\n",
              "  '0.45',\n",
              "  '71.82',\n",
              "  '1.40',\n",
              "  '23.21',\n",
              "  '3.09',\n",
              "  '11.30',\n",
              "  '84.45',\n",
              "  '69.90',\n",
              "  '21.56',\n",
              "  '10.14',\n",
              "  '88.50',\n",
              "  '73.95',\n",
              "  '25.05',\n",
              "  '12.50',\n",
              "  '4.06',\n",
              "  '4.05',\n",
              "  '3.49',\n",
              "  '2.36',\n",
              "  '39'],\n",
              " ['San Marino',\n",
              "  '85.71',\n",
              "  '0.15',\n",
              "  '70.86',\n",
              "  '1.78',\n",
              "  '22.64',\n",
              "  '2.88',\n",
              "  '10.52',\n",
              "  '84.21',\n",
              "  '69.36',\n",
              "  '21.25',\n",
              "  '9.52',\n",
              "  '87.10',\n",
              "  '72.24',\n",
              "  '23.90',\n",
              "  '11.31',\n",
              "  '2.89',\n",
              "  '2.88',\n",
              "  '2.65',\n",
              "  '1.79',\n",
              "  '34'],\n",
              " ['Andorra',\n",
              "  '84.04',\n",
              "  '0.58',\n",
              "  '69.62',\n",
              "  '1.85',\n",
              "  '21.47',\n",
              "  '3.72',\n",
              "  '10.19',\n",
              "  '82.10',\n",
              "  '67.68',\n",
              "  '19.81',\n",
              "  '9.03',\n",
              "  '86.11',\n",
              "  '71.70',\n",
              "  '23.18',\n",
              "  '11.16',\n",
              "  '4.01',\n",
              "  '4.02',\n",
              "  '3.36',\n",
              "  '2.13',\n",
              "  '81']]"
            ]
          },
          "execution_count": 19,
          "metadata": {},
          "output_type": "execute_result"
        }
      ],
      "source": [
        "# Hagamos una lista, que contenga una lista por fila\n",
        "# strip() --> quita los espacios que haya delante y detrás del texto\n",
        "# split() --> va a separar la lista por la secuencia de caracteres '\\n' para hacer una lista\n",
        "filas_limpias = [f.text.strip().split('\\n') for f in filas]\n",
        "filas_limpias[:5]"
      ]
    },
    {
      "cell_type": "code",
      "execution_count": 20,
      "metadata": {
        "colab": {
          "base_uri": "https://localhost:8080/"
        },
        "id": "MA9Y5JohgT4U",
        "outputId": "34af5ac6-9c97-4c41-dc9f-c587ded74383"
      },
      "outputs": [
        {
          "data": {
            "text/plain": [
              "['Countries andterritories',\n",
              " '',\n",
              " 'Life expectancy for population in general',\n",
              " '',\n",
              " 'Life expectancy for male',\n",
              " '',\n",
              " 'Life expectancy for female',\n",
              " '',\n",
              " 'Sex gap',\n",
              " '',\n",
              " 'Population(thous.)']"
            ]
          },
          "execution_count": 20,
          "metadata": {},
          "output_type": "execute_result"
        }
      ],
      "source": [
        "# La primera fila es la cabecera, y hay que limpiar los espacios en blanco\n",
        "cabecera = filas_limpias[0]\n",
        "cabecera"
      ]
    },
    {
      "cell_type": "code",
      "execution_count": 21,
      "metadata": {
        "colab": {
          "base_uri": "https://localhost:8080/"
        },
        "id": "ZQ2HIJ1mgT4U",
        "outputId": "cab3a236-daf5-4c68-f791-7f633cb3cfd5"
      },
      "outputs": [
        {
          "data": {
            "text/plain": [
              "[['Countries andterritories',\n",
              "  'Life expectancy for population in general',\n",
              "  'Life expectancy for male',\n",
              "  'Life expectancy for female',\n",
              "  'Sex gap',\n",
              "  'Population(thous.)'],\n",
              " ['at birth',\n",
              "  'bonus0→15',\n",
              "  'at 15',\n",
              "  'bonus15→65',\n",
              "  'at 65',\n",
              "  'bonus65→80',\n",
              "  'at 80',\n",
              "  'at birth',\n",
              "  'at 15',\n",
              "  'at 65',\n",
              "  'at 80',\n",
              "  'at birth',\n",
              "  'at 15',\n",
              "  'at 65',\n",
              "  'at 80',\n",
              "  'at birth',\n",
              "  'at 15',\n",
              "  'at 65',\n",
              "  'at 80'],\n",
              " ['Monaco',\n",
              "  '86.37',\n",
              "  '0.45',\n",
              "  '71.82',\n",
              "  '1.40',\n",
              "  '23.21',\n",
              "  '3.09',\n",
              "  '11.30',\n",
              "  '84.45',\n",
              "  '69.90',\n",
              "  '21.56',\n",
              "  '10.14',\n",
              "  '88.50',\n",
              "  '73.95',\n",
              "  '25.05',\n",
              "  '12.50',\n",
              "  '4.06',\n",
              "  '4.05',\n",
              "  '3.49',\n",
              "  '2.36',\n",
              "  '39'],\n",
              " ['San Marino',\n",
              "  '85.71',\n",
              "  '0.15',\n",
              "  '70.86',\n",
              "  '1.78',\n",
              "  '22.64',\n",
              "  '2.88',\n",
              "  '10.52',\n",
              "  '84.21',\n",
              "  '69.36',\n",
              "  '21.25',\n",
              "  '9.52',\n",
              "  '87.10',\n",
              "  '72.24',\n",
              "  '23.90',\n",
              "  '11.31',\n",
              "  '2.89',\n",
              "  '2.88',\n",
              "  '2.65',\n",
              "  '1.79',\n",
              "  '34'],\n",
              " ['Andorra',\n",
              "  '84.04',\n",
              "  '0.58',\n",
              "  '69.62',\n",
              "  '1.85',\n",
              "  '21.47',\n",
              "  '3.72',\n",
              "  '10.19',\n",
              "  '82.10',\n",
              "  '67.68',\n",
              "  '19.81',\n",
              "  '9.03',\n",
              "  '86.11',\n",
              "  '71.70',\n",
              "  '23.18',\n",
              "  '11.16',\n",
              "  '4.01',\n",
              "  '4.02',\n",
              "  '3.36',\n",
              "  '2.13',\n",
              "  '81']]"
            ]
          },
          "execution_count": 21,
          "metadata": {},
          "output_type": "execute_result"
        }
      ],
      "source": [
        "# vamos a arreglarlo\n",
        "final = [] # aquí el resultado final limpio\n",
        "for fila in filas_limpias:\n",
        "    tmp = [] # lista vacía temporal\n",
        "    for elemento in fila:\n",
        "        if elemento != '':\n",
        "            tmp.append(elemento)\n",
        "    final.append(tmp)\n",
        "\n",
        "final[:5]"
      ]
    },
    {
      "cell_type": "markdown",
      "metadata": {
        "id": "uu7kxXWbLhXL"
      },
      "source": [
        "Hasta ahora hemos cogido la información contenida en una página que tiene una tabla. Hemos identificado la tabla y hemos accedido a ella. Con `find()` hemos buscado la etiqueta que nos interesa para ello (`<table>`). Una vez obtenido el HTML únicamente de la tabla lo hemos traducido para que sea algo más legible y hemos arreglado su contenido para poder llegar al siguiente paso: crear nuestro DataFrame."
      ]
    },
    {
      "cell_type": "code",
      "execution_count": 22,
      "metadata": {
        "colab": {
          "base_uri": "https://localhost:8080/"
        },
        "id": "TkYdEju_MGYb",
        "outputId": "7834f67d-87a0-4669-94c9-59bbc3e06e1e"
      },
      "outputs": [
        {
          "data": {
            "text/plain": [
              "['Countries andterritories',\n",
              " 'Life expectancy for population in general',\n",
              " 'Life expectancy for male',\n",
              " 'Life expectancy for female',\n",
              " 'Sex gap',\n",
              " 'Population(thous.)']"
            ]
          },
          "execution_count": 22,
          "metadata": {},
          "output_type": "execute_result"
        }
      ],
      "source": [
        "final[0] # primer elemento de la lista final"
      ]
    },
    {
      "cell_type": "code",
      "execution_count": 23,
      "metadata": {
        "colab": {
          "base_uri": "https://localhost:8080/"
        },
        "id": "r-R5kDpYMKz2",
        "outputId": "81bc705a-b74e-4516-bb6c-770395c2a4fc"
      },
      "outputs": [
        {
          "data": {
            "text/plain": [
              "['at birth',\n",
              " 'bonus0→15',\n",
              " 'at 15',\n",
              " 'bonus15→65',\n",
              " 'at 65',\n",
              " 'bonus65→80',\n",
              " 'at 80',\n",
              " 'at birth',\n",
              " 'at 15',\n",
              " 'at 65',\n",
              " 'at 80',\n",
              " 'at birth',\n",
              " 'at 15',\n",
              " 'at 65',\n",
              " 'at 80',\n",
              " 'at birth',\n",
              " 'at 15',\n",
              " 'at 65',\n",
              " 'at 80']"
            ]
          },
          "execution_count": 23,
          "metadata": {},
          "output_type": "execute_result"
        }
      ],
      "source": [
        "final[1] # segundo elemento de la lista final"
      ]
    },
    {
      "cell_type": "code",
      "execution_count": 24,
      "metadata": {
        "colab": {
          "base_uri": "https://localhost:8080/"
        },
        "id": "pbCKKHNoNFXm",
        "outputId": "46476c1a-d3e2-4297-b8bd-a5eb06249334"
      },
      "outputs": [
        {
          "data": {
            "text/plain": [
              "['Monaco',\n",
              " '86.37',\n",
              " '0.45',\n",
              " '71.82',\n",
              " '1.40',\n",
              " '23.21',\n",
              " '3.09',\n",
              " '11.30',\n",
              " '84.45',\n",
              " '69.90',\n",
              " '21.56',\n",
              " '10.14',\n",
              " '88.50',\n",
              " '73.95',\n",
              " '25.05',\n",
              " '12.50',\n",
              " '4.06',\n",
              " '4.05',\n",
              " '3.49',\n",
              " '2.36',\n",
              " '39']"
            ]
          },
          "execution_count": 24,
          "metadata": {},
          "output_type": "execute_result"
        }
      ],
      "source": [
        "final[2]"
      ]
    },
    {
      "cell_type": "markdown",
      "metadata": {
        "id": "Qp3PjORtMT29"
      },
      "source": [
        "Para poder crear el DataFrame a partir de listas es necesario que todas ellas tengan la **misma cantidad de elementos**, tanto la que dará nombre a las columnas como la que contendrá la información de las filas."
      ]
    },
    {
      "cell_type": "code",
      "execution_count": 25,
      "metadata": {
        "id": "94G8HZf6gT4V",
        "scrolled": true
      },
      "outputs": [],
      "source": [
        "import pandas as pd"
      ]
    },
    {
      "cell_type": "code",
      "execution_count": 26,
      "metadata": {
        "colab": {
          "base_uri": "https://localhost:8080/"
        },
        "id": "0EGnZXmPOWOB",
        "outputId": "d29827c7-8e85-4b80-8d7e-02d338ef85bd"
      },
      "outputs": [
        {
          "data": {
            "text/plain": [
              "['at birth',\n",
              " 'bonus0→15',\n",
              " 'at 15',\n",
              " 'bonus15→65',\n",
              " 'at 65',\n",
              " 'bonus65→80',\n",
              " 'at 80',\n",
              " 'at birth',\n",
              " 'at 15',\n",
              " 'at 65',\n",
              " 'at 80',\n",
              " 'at birth',\n",
              " 'at 15',\n",
              " 'at 65',\n",
              " 'at 80',\n",
              " 'at birth',\n",
              " 'at 15',\n",
              " 'at 65',\n",
              " 'at 80']"
            ]
          },
          "execution_count": 26,
          "metadata": {},
          "output_type": "execute_result"
        }
      ],
      "source": [
        "nombres_columnas = final[1] # la primera fila la omitimos, nos quedamos la segunda, pero tenemos que arreglarla\n",
        "nombres_columnas"
      ]
    },
    {
      "cell_type": "code",
      "execution_count": 27,
      "metadata": {
        "id": "yOocVIrVNwpB"
      },
      "outputs": [],
      "source": [
        "data = final[2:] # desde la primera fila con información, la de Liechtenstein, hasta el final"
      ]
    },
    {
      "cell_type": "code",
      "execution_count": 28,
      "metadata": {
        "colab": {
          "base_uri": "https://localhost:8080/"
        },
        "id": "KR-dANMXT0yl",
        "outputId": "c5544ea4-f583-4a7f-80ef-687a906b690b"
      },
      "outputs": [
        {
          "data": {
            "text/plain": [
              "(21, 19)"
            ]
          },
          "execution_count": 28,
          "metadata": {},
          "output_type": "execute_result"
        }
      ],
      "source": [
        "len(data[0]), len(nombres_columnas) # las filas tienen info para más columnas que la lista que dará nombre a las columnas..."
      ]
    },
    {
      "cell_type": "markdown",
      "metadata": {
        "id": "Nmeyr3MVOEFk"
      },
      "source": [
        "En este caso no coinciden. Así que tendremos que hacer algún pequeño arreglo extra antes de conseguir hacer el DataFrame."
      ]
    },
    {
      "cell_type": "code",
      "execution_count": 29,
      "metadata": {
        "colab": {
          "base_uri": "https://localhost:8080/"
        },
        "id": "n2xzsy-W4o0t",
        "outputId": "fbd71b04-5ad0-4f99-fff2-e9c5d0568382"
      },
      "outputs": [
        {
          "data": {
            "text/plain": [
              "['at birth',\n",
              " 'bonus0→15',\n",
              " 'at 15',\n",
              " 'bonus15→65',\n",
              " 'at 65',\n",
              " 'bonus65→80',\n",
              " 'at 80',\n",
              " 'at birth',\n",
              " 'at 15',\n",
              " 'at 65',\n",
              " 'at 80',\n",
              " 'at birth',\n",
              " 'at 15',\n",
              " 'at 65',\n",
              " 'at 80',\n",
              " 'at birth',\n",
              " 'at 15',\n",
              " 'at 65',\n",
              " 'at 80']"
            ]
          },
          "execution_count": 29,
          "metadata": {},
          "output_type": "execute_result"
        }
      ],
      "source": [
        "nombres_columnas"
      ]
    },
    {
      "cell_type": "code",
      "execution_count": 30,
      "metadata": {
        "colab": {
          "base_uri": "https://localhost:8080/"
        },
        "id": "VeNLWufg4vo9",
        "outputId": "f9c06485-d694-4030-dd41-282160e037a7"
      },
      "outputs": [
        {
          "data": {
            "text/plain": [
              "['Monaco',\n",
              " '86.37',\n",
              " '0.45',\n",
              " '71.82',\n",
              " '1.40',\n",
              " '23.21',\n",
              " '3.09',\n",
              " '11.30',\n",
              " '84.45',\n",
              " '69.90',\n",
              " '21.56',\n",
              " '10.14',\n",
              " '88.50',\n",
              " '73.95',\n",
              " '25.05',\n",
              " '12.50',\n",
              " '4.06',\n",
              " '4.05',\n",
              " '3.49',\n",
              " '2.36',\n",
              " '39']"
            ]
          },
          "execution_count": 30,
          "metadata": {},
          "output_type": "execute_result"
        }
      ],
      "source": [
        "data[0]"
      ]
    },
    {
      "cell_type": "code",
      "execution_count": 31,
      "metadata": {
        "id": "6ACbo801N58j"
      },
      "outputs": [],
      "source": [
        "nombres_columnas.insert(0, 'Country') # al añadir en primer lugar 'Country' ya tenemos tantos elementos como en el resto, que serán las filas"
      ]
    },
    {
      "cell_type": "code",
      "execution_count": 33,
      "metadata": {},
      "outputs": [],
      "source": [
        "nombres_columnas.append('Poblacion')"
      ]
    },
    {
      "cell_type": "code",
      "execution_count": 34,
      "metadata": {
        "id": "5o75Z2ayNz8t"
      },
      "outputs": [],
      "source": [
        "df = pd.DataFrame(data, columns = nombres_columnas)"
      ]
    },
    {
      "cell_type": "code",
      "execution_count": 35,
      "metadata": {
        "colab": {
          "base_uri": "https://localhost:8080/",
          "height": 397
        },
        "id": "ONidGtjCOrz7",
        "outputId": "328b47c0-7dfd-4f98-aca8-af93b355bd88"
      },
      "outputs": [
        {
          "data": {
            "text/html": [
              "<div>\n",
              "<style scoped>\n",
              "    .dataframe tbody tr th:only-of-type {\n",
              "        vertical-align: middle;\n",
              "    }\n",
              "\n",
              "    .dataframe tbody tr th {\n",
              "        vertical-align: top;\n",
              "    }\n",
              "\n",
              "    .dataframe thead th {\n",
              "        text-align: right;\n",
              "    }\n",
              "</style>\n",
              "<table border=\"1\" class=\"dataframe\">\n",
              "  <thead>\n",
              "    <tr style=\"text-align: right;\">\n",
              "      <th></th>\n",
              "      <th>Country</th>\n",
              "      <th>at birth</th>\n",
              "      <th>bonus0→15</th>\n",
              "      <th>at 15</th>\n",
              "      <th>bonus15→65</th>\n",
              "      <th>at 65</th>\n",
              "      <th>bonus65→80</th>\n",
              "      <th>at 80</th>\n",
              "      <th>at birth</th>\n",
              "      <th>at 15</th>\n",
              "      <th>...</th>\n",
              "      <th>at 80</th>\n",
              "      <th>at birth</th>\n",
              "      <th>at 15</th>\n",
              "      <th>at 65</th>\n",
              "      <th>at 80</th>\n",
              "      <th>at birth</th>\n",
              "      <th>at 15</th>\n",
              "      <th>at 65</th>\n",
              "      <th>at 80</th>\n",
              "      <th>Poblacion</th>\n",
              "    </tr>\n",
              "  </thead>\n",
              "  <tbody>\n",
              "    <tr>\n",
              "      <th>0</th>\n",
              "      <td>Monaco</td>\n",
              "      <td>86.37</td>\n",
              "      <td>0.45</td>\n",
              "      <td>71.82</td>\n",
              "      <td>1.40</td>\n",
              "      <td>23.21</td>\n",
              "      <td>3.09</td>\n",
              "      <td>11.30</td>\n",
              "      <td>84.45</td>\n",
              "      <td>69.90</td>\n",
              "      <td>...</td>\n",
              "      <td>10.14</td>\n",
              "      <td>88.50</td>\n",
              "      <td>73.95</td>\n",
              "      <td>25.05</td>\n",
              "      <td>12.50</td>\n",
              "      <td>4.06</td>\n",
              "      <td>4.05</td>\n",
              "      <td>3.49</td>\n",
              "      <td>2.36</td>\n",
              "      <td>39</td>\n",
              "    </tr>\n",
              "    <tr>\n",
              "      <th>1</th>\n",
              "      <td>San Marino</td>\n",
              "      <td>85.71</td>\n",
              "      <td>0.15</td>\n",
              "      <td>70.86</td>\n",
              "      <td>1.78</td>\n",
              "      <td>22.64</td>\n",
              "      <td>2.88</td>\n",
              "      <td>10.52</td>\n",
              "      <td>84.21</td>\n",
              "      <td>69.36</td>\n",
              "      <td>...</td>\n",
              "      <td>9.52</td>\n",
              "      <td>87.10</td>\n",
              "      <td>72.24</td>\n",
              "      <td>23.90</td>\n",
              "      <td>11.31</td>\n",
              "      <td>2.89</td>\n",
              "      <td>2.88</td>\n",
              "      <td>2.65</td>\n",
              "      <td>1.79</td>\n",
              "      <td>34</td>\n",
              "    </tr>\n",
              "    <tr>\n",
              "      <th>2</th>\n",
              "      <td>Andorra</td>\n",
              "      <td>84.04</td>\n",
              "      <td>0.58</td>\n",
              "      <td>69.62</td>\n",
              "      <td>1.85</td>\n",
              "      <td>21.47</td>\n",
              "      <td>3.72</td>\n",
              "      <td>10.19</td>\n",
              "      <td>82.10</td>\n",
              "      <td>67.68</td>\n",
              "      <td>...</td>\n",
              "      <td>9.03</td>\n",
              "      <td>86.11</td>\n",
              "      <td>71.70</td>\n",
              "      <td>23.18</td>\n",
              "      <td>11.16</td>\n",
              "      <td>4.01</td>\n",
              "      <td>4.02</td>\n",
              "      <td>3.36</td>\n",
              "      <td>2.13</td>\n",
              "      <td>81</td>\n",
              "    </tr>\n",
              "    <tr>\n",
              "      <th>3</th>\n",
              "      <td>Switzerland</td>\n",
              "      <td>83.95</td>\n",
              "      <td>0.36</td>\n",
              "      <td>69.31</td>\n",
              "      <td>2.20</td>\n",
              "      <td>21.51</td>\n",
              "      <td>3.46</td>\n",
              "      <td>9.97</td>\n",
              "      <td>82.01</td>\n",
              "      <td>67.38</td>\n",
              "      <td>...</td>\n",
              "      <td>9.08</td>\n",
              "      <td>85.83</td>\n",
              "      <td>71.17</td>\n",
              "      <td>22.83</td>\n",
              "      <td>10.63</td>\n",
              "      <td>3.82</td>\n",
              "      <td>3.80</td>\n",
              "      <td>2.78</td>\n",
              "      <td>1.54</td>\n",
              "      <td>8871</td>\n",
              "    </tr>\n",
              "    <tr>\n",
              "      <th>4</th>\n",
              "      <td>Italy</td>\n",
              "      <td>83.72</td>\n",
              "      <td>0.26</td>\n",
              "      <td>68.98</td>\n",
              "      <td>2.33</td>\n",
              "      <td>21.31</td>\n",
              "      <td>3.46</td>\n",
              "      <td>9.77</td>\n",
              "      <td>81.57</td>\n",
              "      <td>66.84</td>\n",
              "      <td>...</td>\n",
              "      <td>8.77</td>\n",
              "      <td>85.75</td>\n",
              "      <td>70.99</td>\n",
              "      <td>22.76</td>\n",
              "      <td>10.50</td>\n",
              "      <td>4.18</td>\n",
              "      <td>4.15</td>\n",
              "      <td>3.09</td>\n",
              "      <td>1.73</td>\n",
              "      <td>59499</td>\n",
              "    </tr>\n",
              "    <tr>\n",
              "      <th>5</th>\n",
              "      <td>Spain</td>\n",
              "      <td>83.67</td>\n",
              "      <td>0.29</td>\n",
              "      <td>68.96</td>\n",
              "      <td>2.58</td>\n",
              "      <td>21.54</td>\n",
              "      <td>3.57</td>\n",
              "      <td>10.11</td>\n",
              "      <td>80.96</td>\n",
              "      <td>66.26</td>\n",
              "      <td>...</td>\n",
              "      <td>8.96</td>\n",
              "      <td>86.31</td>\n",
              "      <td>71.58</td>\n",
              "      <td>23.40</td>\n",
              "      <td>10.94</td>\n",
              "      <td>5.35</td>\n",
              "      <td>5.32</td>\n",
              "      <td>3.92</td>\n",
              "      <td>1.98</td>\n",
              "      <td>47912</td>\n",
              "    </tr>\n",
              "    <tr>\n",
              "      <th>6</th>\n",
              "      <td>Liechtenstein</td>\n",
              "      <td>83.63</td>\n",
              "      <td>0.62</td>\n",
              "      <td>69.25</td>\n",
              "      <td>1.92</td>\n",
              "      <td>21.17</td>\n",
              "      <td>3.81</td>\n",
              "      <td>9.98</td>\n",
              "      <td>81.84</td>\n",
              "      <td>67.43</td>\n",
              "      <td>...</td>\n",
              "      <td>8.91</td>\n",
              "      <td>85.32</td>\n",
              "      <td>70.97</td>\n",
              "      <td>22.58</td>\n",
              "      <td>10.75</td>\n",
              "      <td>3.48</td>\n",
              "      <td>3.54</td>\n",
              "      <td>2.96</td>\n",
              "      <td>1.84</td>\n",
              "      <td>40</td>\n",
              "    </tr>\n",
              "    <tr>\n",
              "      <th>7</th>\n",
              "      <td>Gibraltar</td>\n",
              "      <td>83.55</td>\n",
              "      <td>1.05</td>\n",
              "      <td>69.60</td>\n",
              "      <td>2.66</td>\n",
              "      <td>22.26</td>\n",
              "      <td>3.70</td>\n",
              "      <td>10.96</td>\n",
              "      <td>80.92</td>\n",
              "      <td>67.08</td>\n",
              "      <td>...</td>\n",
              "      <td>9.61</td>\n",
              "      <td>86.14</td>\n",
              "      <td>72.05</td>\n",
              "      <td>23.95</td>\n",
              "      <td>11.93</td>\n",
              "      <td>5.23</td>\n",
              "      <td>4.97</td>\n",
              "      <td>3.56</td>\n",
              "      <td>2.31</td>\n",
              "      <td>38</td>\n",
              "    </tr>\n",
              "    <tr>\n",
              "      <th>8</th>\n",
              "      <td>France</td>\n",
              "      <td>83.33</td>\n",
              "      <td>0.39</td>\n",
              "      <td>68.72</td>\n",
              "      <td>3.31</td>\n",
              "      <td>22.03</td>\n",
              "      <td>3.58</td>\n",
              "      <td>10.61</td>\n",
              "      <td>80.43</td>\n",
              "      <td>65.85</td>\n",
              "      <td>...</td>\n",
              "      <td>9.41</td>\n",
              "      <td>86.09</td>\n",
              "      <td>71.44</td>\n",
              "      <td>23.78</td>\n",
              "      <td>11.45</td>\n",
              "      <td>5.66</td>\n",
              "      <td>5.59</td>\n",
              "      <td>3.78</td>\n",
              "      <td>2.04</td>\n",
              "      <td>66439</td>\n",
              "    </tr>\n",
              "    <tr>\n",
              "      <th>9</th>\n",
              "      <td>Norway</td>\n",
              "      <td>83.31</td>\n",
              "      <td>0.25</td>\n",
              "      <td>68.56</td>\n",
              "      <td>2.19</td>\n",
              "      <td>20.75</td>\n",
              "      <td>3.53</td>\n",
              "      <td>9.28</td>\n",
              "      <td>81.75</td>\n",
              "      <td>67.02</td>\n",
              "      <td>...</td>\n",
              "      <td>8.37</td>\n",
              "      <td>84.85</td>\n",
              "      <td>70.07</td>\n",
              "      <td>21.84</td>\n",
              "      <td>10.02</td>\n",
              "      <td>3.10</td>\n",
              "      <td>3.05</td>\n",
              "      <td>2.27</td>\n",
              "      <td>1.65</td>\n",
              "      <td>5519</td>\n",
              "    </tr>\n",
              "  </tbody>\n",
              "</table>\n",
              "<p>10 rows × 21 columns</p>\n",
              "</div>"
            ],
            "text/plain": [
              "         Country at birth bonus0→15  at 15 bonus15→65  at 65 bonus65→80  \\\n",
              "0         Monaco    86.37      0.45  71.82       1.40  23.21       3.09   \n",
              "1     San Marino    85.71      0.15  70.86       1.78  22.64       2.88   \n",
              "2        Andorra    84.04      0.58  69.62       1.85  21.47       3.72   \n",
              "3    Switzerland    83.95      0.36  69.31       2.20  21.51       3.46   \n",
              "4          Italy    83.72      0.26  68.98       2.33  21.31       3.46   \n",
              "5          Spain    83.67      0.29  68.96       2.58  21.54       3.57   \n",
              "6  Liechtenstein    83.63      0.62  69.25       1.92  21.17       3.81   \n",
              "7      Gibraltar    83.55      1.05  69.60       2.66  22.26       3.70   \n",
              "8         France    83.33      0.39  68.72       3.31  22.03       3.58   \n",
              "9         Norway    83.31      0.25  68.56       2.19  20.75       3.53   \n",
              "\n",
              "   at 80 at birth  at 15  ...  at 80 at birth  at 15  at 65  at 80 at birth  \\\n",
              "0  11.30    84.45  69.90  ...  10.14    88.50  73.95  25.05  12.50     4.06   \n",
              "1  10.52    84.21  69.36  ...   9.52    87.10  72.24  23.90  11.31     2.89   \n",
              "2  10.19    82.10  67.68  ...   9.03    86.11  71.70  23.18  11.16     4.01   \n",
              "3   9.97    82.01  67.38  ...   9.08    85.83  71.17  22.83  10.63     3.82   \n",
              "4   9.77    81.57  66.84  ...   8.77    85.75  70.99  22.76  10.50     4.18   \n",
              "5  10.11    80.96  66.26  ...   8.96    86.31  71.58  23.40  10.94     5.35   \n",
              "6   9.98    81.84  67.43  ...   8.91    85.32  70.97  22.58  10.75     3.48   \n",
              "7  10.96    80.92  67.08  ...   9.61    86.14  72.05  23.95  11.93     5.23   \n",
              "8  10.61    80.43  65.85  ...   9.41    86.09  71.44  23.78  11.45     5.66   \n",
              "9   9.28    81.75  67.02  ...   8.37    84.85  70.07  21.84  10.02     3.10   \n",
              "\n",
              "  at 15 at 65 at 80 Poblacion  \n",
              "0  4.05  3.49  2.36        39  \n",
              "1  2.88  2.65  1.79        34  \n",
              "2  4.02  3.36  2.13        81  \n",
              "3  3.80  2.78  1.54      8871  \n",
              "4  4.15  3.09  1.73     59499  \n",
              "5  5.32  3.92  1.98     47912  \n",
              "6  3.54  2.96  1.84        40  \n",
              "7  4.97  3.56  2.31        38  \n",
              "8  5.59  3.78  2.04     66439  \n",
              "9  3.05  2.27  1.65      5519  \n",
              "\n",
              "[10 rows x 21 columns]"
            ]
          },
          "execution_count": 35,
          "metadata": {},
          "output_type": "execute_result"
        }
      ],
      "source": [
        "df.head(10)"
      ]
    },
    {
      "cell_type": "code",
      "execution_count": null,
      "metadata": {
        "id": "2ejqDjY24_82"
      },
      "outputs": [],
      "source": [
        "#RETO\n",
        "\n",
        "#Vamos a escrapear la tabla de esta web --> https://en.wikipedia.org/wiki/List_of_countries_by_GNI_(nominal)_per_capita\n",
        "#Escrapeamos la primera tabla, y cuando lo tengamos vamos con la segunda\n",
        "#La salida debe ser un dataframe limpito,"
      ]
    },
    {
      "cell_type": "markdown",
      "metadata": {},
      "source": [
        "1. hago el get de la pagina\n",
        "```python\n",
        "html = req.get(url).text --> req.get(url).content\n",
        "```\n",
        "2. convierto mi html a una sopa\n",
        "```python\n",
        "soup = bs(html, 'html.parser')\n",
        "```\n",
        "\n",
        "3. busco mi tabla\n",
        "--> funcion `.find('nombre_etiqueta')` o funcion `.find_all('nombre_etiqueta')`\n",
        "\n",
        "4. busco las filas\n",
        "--> funcion `.find_all()` estoy buscando muchas coincidencias\n",
        "\n",
        "5. buscate la vida para limpiarlo --> para ello necesitas el contenido\n",
        "   1. Atención a los espacios\n",
        "   2. Atención a si hay saltos de línea\n",
        "6. haz un DataFrame"
      ]
    },
    {
      "cell_type": "markdown",
      "metadata": {},
      "source": [
        "### Repaso `comprehension list`"
      ]
    },
    {
      "cell_type": "code",
      "execution_count": 67,
      "metadata": {},
      "outputs": [
        {
          "data": {
            "text/plain": [
              "[1, 2, 3, 4]"
            ]
          },
          "execution_count": 67,
          "metadata": {},
          "output_type": "execute_result"
        }
      ],
      "source": [
        "# lo que quiero por cada elemento en el iterable\n",
        "[num for num in range(1, 5)]"
      ]
    },
    {
      "cell_type": "code",
      "execution_count": 68,
      "metadata": {},
      "outputs": [
        {
          "data": {
            "text/plain": [
              "[1, 3]"
            ]
          },
          "execution_count": 68,
          "metadata": {},
          "output_type": "execute_result"
        }
      ],
      "source": [
        "# con condicion, if...\n",
        "# lo que quiero por cada elemento en el iterable si cumple la condicion\n",
        "[num for num in range(1, 5) if num%2]"
      ]
    },
    {
      "cell_type": "code",
      "execution_count": 69,
      "metadata": {},
      "outputs": [
        {
          "data": {
            "text/plain": [
              "[1, 12, 3, 14]"
            ]
          },
          "execution_count": 69,
          "metadata": {},
          "output_type": "execute_result"
        }
      ],
      "source": [
        "# con condicion, if/else...\n",
        "# lo que quiero si cumple la condicion, en el resto de casos haz esto otro,\n",
        "# por cada elemento en el iterable\n",
        "[num if num%2 else num+10 for num in range(1, 5)]"
      ]
    },
    {
      "cell_type": "markdown",
      "metadata": {},
      "source": [
        "### Solucion Gino"
      ]
    },
    {
      "cell_type": "code",
      "execution_count": 104,
      "metadata": {},
      "outputs": [
        {
          "data": {
            "text/html": [
              "<div>\n",
              "<style scoped>\n",
              "    .dataframe tbody tr th:only-of-type {\n",
              "        vertical-align: middle;\n",
              "    }\n",
              "\n",
              "    .dataframe tbody tr th {\n",
              "        vertical-align: top;\n",
              "    }\n",
              "\n",
              "    .dataframe thead th {\n",
              "        text-align: right;\n",
              "    }\n",
              "</style>\n",
              "<table border=\"1\" class=\"dataframe\">\n",
              "  <thead>\n",
              "    <tr style=\"text-align: right;\">\n",
              "      <th></th>\n",
              "      <th>0</th>\n",
              "      <th>1</th>\n",
              "      <th>2</th>\n",
              "      <th>3</th>\n",
              "    </tr>\n",
              "  </thead>\n",
              "  <tbody>\n",
              "    <tr>\n",
              "      <th>0</th>\n",
              "      <td>–</td>\n",
              "      <td>Bermuda (UK)</td>\n",
              "      <td>134,640</td>\n",
              "      <td>2022</td>\n",
              "    </tr>\n",
              "    <tr>\n",
              "      <th>1</th>\n",
              "      <td>1</td>\n",
              "      <td>Liechtenstein</td>\n",
              "      <td>116,600</td>\n",
              "      <td>2009</td>\n",
              "    </tr>\n",
              "    <tr>\n",
              "      <th>2</th>\n",
              "      <td>2</td>\n",
              "      <td>Norway</td>\n",
              "      <td>102,460</td>\n",
              "      <td>2023</td>\n",
              "    </tr>\n",
              "    <tr>\n",
              "      <th>3</th>\n",
              "      <td>3</td>\n",
              "      <td>Switzerland</td>\n",
              "      <td>95,160</td>\n",
              "      <td>2023</td>\n",
              "    </tr>\n",
              "    <tr>\n",
              "      <th>4</th>\n",
              "      <td>4</td>\n",
              "      <td>Luxembourg</td>\n",
              "      <td>88,370</td>\n",
              "      <td>2023</td>\n",
              "    </tr>\n",
              "    <tr>\n",
              "      <th>...</th>\n",
              "      <td>...</td>\n",
              "      <td>...</td>\n",
              "      <td>...</td>\n",
              "      <td>...</td>\n",
              "    </tr>\n",
              "    <tr>\n",
              "      <th>204</th>\n",
              "      <td>187</td>\n",
              "      <td>Madagascar</td>\n",
              "      <td>530</td>\n",
              "      <td>2023</td>\n",
              "    </tr>\n",
              "    <tr>\n",
              "      <th>205</th>\n",
              "      <td>187</td>\n",
              "      <td>Mozambique</td>\n",
              "      <td>530</td>\n",
              "      <td>2023</td>\n",
              "    </tr>\n",
              "    <tr>\n",
              "      <th>206</th>\n",
              "      <td>189</td>\n",
              "      <td>Central African Republic</td>\n",
              "      <td>470</td>\n",
              "      <td>2023</td>\n",
              "    </tr>\n",
              "    <tr>\n",
              "      <th>207</th>\n",
              "      <td>190</td>\n",
              "      <td>Afghanistan</td>\n",
              "      <td>360</td>\n",
              "      <td>2022</td>\n",
              "    </tr>\n",
              "    <tr>\n",
              "      <th>208</th>\n",
              "      <td>191</td>\n",
              "      <td>Burundi</td>\n",
              "      <td>230</td>\n",
              "      <td>2023</td>\n",
              "    </tr>\n",
              "  </tbody>\n",
              "</table>\n",
              "<p>209 rows × 4 columns</p>\n",
              "</div>"
            ],
            "text/plain": [
              "       0                          1        2     3\n",
              "0      –               Bermuda (UK)  134,640  2022\n",
              "1      1              Liechtenstein  116,600  2009\n",
              "2      2                     Norway  102,460  2023\n",
              "3      3                Switzerland   95,160  2023\n",
              "4      4                 Luxembourg   88,370  2023\n",
              "..   ...                        ...      ...   ...\n",
              "204  187                 Madagascar      530  2023\n",
              "205  187                 Mozambique      530  2023\n",
              "206  189   Central African Republic      470  2023\n",
              "207  190                Afghanistan      360  2022\n",
              "208  191                    Burundi      230  2023\n",
              "\n",
              "[209 rows x 4 columns]"
            ]
          },
          "execution_count": 104,
          "metadata": {},
          "output_type": "execute_result"
        }
      ],
      "source": [
        "import requests as req\n",
        "from bs4 import BeautifulSoup as bs\n",
        "import pandas as pd\n",
        "url = 'https://en.wikipedia.org/wiki/List_of_countries_by_GNI_(nominal)_per_capita'\n",
        "\n",
        "# llamada, con el texto (codigo html)\n",
        "html = req.get(url).text\n",
        "#print(html[:1000])\n",
        "\n",
        "# aplicacion de parser\n",
        "soup = bs(html, 'html.parser')\n",
        "tabla = soup.find_all('table')\n",
        "# tabla[1]\n",
        "#print(type(tabla),tabla[1].text)\n",
        "\n",
        "# busqueda de todas las filas de la tabla\n",
        "filas_tabla1 = tabla[1].find_all('tr')\n",
        "\n",
        "# contenido de todas las filas de la tabla1\n",
        "lista_filas = [fila.text.strip().split('\\n') for fila in filas_tabla1]\n",
        "# lista_filas\n",
        "\n",
        "# DataFrame bruto\n",
        "# df = pd.DataFrame(lista_filas[4:])\n",
        "df = pd.DataFrame(lista_filas[2:]).drop(columns=[4]) # --> faltan Bermuda (UK) y Liechtestein\n",
        "df\n",
        "\n",
        "# Queda por arreglar:\n",
        "    # encabezados\n",
        "    # filas que son categoria\n",
        "\n",
        "# esta parte del codigo no funciona correctamente, falta revisar\n",
        "# DataFrame\n",
        "# df_bueno = df.iloc[0::2]\n",
        "# df_bueno = df_bueno.drop(columns=[4])\n",
        "# df_bueno"
      ]
    },
    {
      "cell_type": "markdown",
      "metadata": {},
      "source": [
        "### Solucion Ruben"
      ]
    },
    {
      "cell_type": "code",
      "execution_count": 106,
      "metadata": {},
      "outputs": [
        {
          "data": {
            "text/html": [
              "<div>\n",
              "<style scoped>\n",
              "    .dataframe tbody tr th:only-of-type {\n",
              "        vertical-align: middle;\n",
              "    }\n",
              "\n",
              "    .dataframe tbody tr th {\n",
              "        vertical-align: top;\n",
              "    }\n",
              "\n",
              "    .dataframe thead th {\n",
              "        text-align: right;\n",
              "    }\n",
              "</style>\n",
              "<table border=\"1\" class=\"dataframe\">\n",
              "  <thead>\n",
              "    <tr style=\"text-align: right;\">\n",
              "      <th></th>\n",
              "      <th>Country</th>\n",
              "      <th>GNI percapita (US$)[2]</th>\n",
              "      <th>Year</th>\n",
              "    </tr>\n",
              "    <tr>\n",
              "      <th>Indice</th>\n",
              "      <th></th>\n",
              "      <th></th>\n",
              "      <th></th>\n",
              "    </tr>\n",
              "  </thead>\n",
              "  <tbody>\n",
              "    <tr>\n",
              "      <th></th>\n",
              "      <td>High Income Economies</td>\n",
              "      <td></td>\n",
              "      <td>2023</td>\n",
              "    </tr>\n",
              "    <tr>\n",
              "      <th>–</th>\n",
              "      <td>Bermuda (UK)</td>\n",
              "      <td>134,640</td>\n",
              "      <td>2022</td>\n",
              "    </tr>\n",
              "    <tr>\n",
              "      <th>1</th>\n",
              "      <td>Liechtenstein</td>\n",
              "      <td>116,600</td>\n",
              "      <td>2009</td>\n",
              "    </tr>\n",
              "    <tr>\n",
              "      <th>2</th>\n",
              "      <td>Norway</td>\n",
              "      <td>102,460</td>\n",
              "      <td>2023</td>\n",
              "    </tr>\n",
              "    <tr>\n",
              "      <th>3</th>\n",
              "      <td>Switzerland</td>\n",
              "      <td>95,160</td>\n",
              "      <td>2023</td>\n",
              "    </tr>\n",
              "    <tr>\n",
              "      <th>...</th>\n",
              "      <td>...</td>\n",
              "      <td>...</td>\n",
              "      <td>...</td>\n",
              "    </tr>\n",
              "    <tr>\n",
              "      <th>ND</th>\n",
              "      <td>Saint Martin (France)</td>\n",
              "      <td>ND</td>\n",
              "      <td>ND</td>\n",
              "    </tr>\n",
              "    <tr>\n",
              "      <th>ND</th>\n",
              "      <td>Taiwan</td>\n",
              "      <td>ND</td>\n",
              "      <td>ND</td>\n",
              "    </tr>\n",
              "    <tr>\n",
              "      <th>ND</th>\n",
              "      <td>U.S. Virgin Islands (US)</td>\n",
              "      <td>ND</td>\n",
              "      <td>ND</td>\n",
              "    </tr>\n",
              "    <tr>\n",
              "      <th>ND</th>\n",
              "      <td>Venezuela</td>\n",
              "      <td>ND</td>\n",
              "      <td>ND</td>\n",
              "    </tr>\n",
              "    <tr>\n",
              "      <th>ND</th>\n",
              "      <td>North Korea</td>\n",
              "      <td>ND</td>\n",
              "      <td>ND</td>\n",
              "    </tr>\n",
              "  </tbody>\n",
              "</table>\n",
              "<p>222 rows × 3 columns</p>\n",
              "</div>"
            ],
            "text/plain": [
              "                         Country GNI percapita (US$)[2]  Year\n",
              "Indice                                                       \n",
              "           High Income Economies                         2023\n",
              "–                   Bermuda (UK)                134,640  2022\n",
              "1                  Liechtenstein                116,600  2009\n",
              "2                         Norway                102,460  2023\n",
              "3                    Switzerland                 95,160  2023\n",
              "...                          ...                    ...   ...\n",
              "ND         Saint Martin (France)                     ND    ND\n",
              "ND                        Taiwan                     ND    ND\n",
              "ND      U.S. Virgin Islands (US)                     ND    ND\n",
              "ND                     Venezuela                     ND    ND\n",
              "ND                   North Korea                     ND    ND\n",
              "\n",
              "[222 rows x 3 columns]"
            ]
          },
          "execution_count": 106,
          "metadata": {},
          "output_type": "execute_result"
        }
      ],
      "source": [
        "import requests as req\n",
        "from bs4 import BeautifulSoup as bs\n",
        "import pandas as pd\n",
        "url = 'https://en.wikipedia.org/wiki/List_of_countries_by_GNI_(nominal)_per_capita'\n",
        "\n",
        "# llamada, con el texto (codigo html) --> .content da lo mismo que .text\n",
        "html = req.get(url).content\n",
        "soup = bs(html, 'html.parser')\n",
        "tablas = soup.find_all('table')\n",
        "\n",
        "# Sacamos los datos de la tabla primera que nos interesa\n",
        "filas = tablas[1].find_all('tr')\n",
        "\n",
        "lista_filas = []\n",
        "# Ahora, vamos fila por fila, y guardamos elementos del tiron en una lista para columnas\n",
        "for fila in filas:\n",
        "    # Sacamos todos los datos de cada fila, incluyendo cabeceras\n",
        "    cols = fila.find_all(['th', 'td'])\n",
        "    # Lo ponemos bonico quitandole los espacios al final y al principio y\n",
        "    # guardamos todos los elementos usando una lista comprimida\n",
        "    cols = [col.text.strip() for col in cols]\n",
        "    # Pa la saca a un\n",
        "    lista_filas.append(cols)\n",
        "\n",
        "# lista_filas\n",
        "\n",
        "# Sacamos los datos de la segunda tabla que nos interesa\n",
        "# y los añadimos a la anterior lista con - en el resto de columnas que no tienen\n",
        "filas = tablas[2].find_all('tr')\n",
        "\n",
        "# Ahora, vamos fila por fila, y guardamos elementos del tiron en una lista para columnas\n",
        "for fila in filas:\n",
        "    # Sacamos todos los datos de cadad fila y...madre mia la de morralla\n",
        "    morralla = fila.find_all('td')\n",
        "    # print(morralla)\n",
        "    texto = ''\n",
        "    # Vale, si pasamos por los elementos y solo buscamos el texto, si sacamos\n",
        "    # lo que queremos\n",
        "    for e in morralla:\n",
        "        # print(e.text.strip())\n",
        "        texto = e.text.strip()\n",
        "        # Aun asi, hay textos vacios, asi que los filtramos\n",
        "        if texto != '':\n",
        "            # Vale, ahora creo una lista comprimida donde pongo todo 'ND' excepto el \n",
        "            # nombre del pais que no dice su GNI per Capita. Ya luego en el dataframe\n",
        "            # que el analista random o yo decidamos si cambiarlos o no...al menos nd \n",
        "            # suena a 'no hay datos'\n",
        "            col = [texto if i == 1 else 'ND' for i in range(4)]\n",
        "            # Pa la saca\n",
        "        lista_filas.append(col)\n",
        "\n",
        "# lista_filas\n",
        "\n",
        "\n",
        "\n",
        "# Creamos el dataframe y le ponemos el indice correcto\n",
        "df = pd.DataFrame(data = lista_filas[1:],columns = lista_filas[0])\n",
        "df = df.set_index('')\n",
        "df.index.name = 'Indice'\n",
        "df"
      ]
    },
    {
      "cell_type": "markdown",
      "metadata": {},
      "source": [
        "### Solucion Alex"
      ]
    },
    {
      "cell_type": "code",
      "execution_count": 135,
      "metadata": {},
      "outputs": [],
      "source": [
        "import pandas as pd\n",
        "import numpy as np\n",
        "import requests as req\n",
        "from bs4 import BeautifulSoup as bs"
      ]
    },
    {
      "cell_type": "code",
      "execution_count": 113,
      "metadata": {},
      "outputs": [],
      "source": [
        "html = req.get('https://en.wikipedia.org/wiki/List_of_countries_by_GNI_(nominal)_per_capita').content\n",
        "soup = bs(html, 'html.parser')\n",
        "lista_tablas = soup.find_all('table')\n",
        " \n",
        "# lista tablas tiene todas las tablas de la pagina y la primera no la queremos\n",
        "lista_tablas = lista_tablas[1:3]\n",
        "\n",
        "# guardo cada tabla en una variable\n",
        "tabla1 = lista_tablas[0] #--> esto es la primera tabla que queremos\n",
        "tabla2 = lista_tablas[1] #--> esto es la segunda tabla que queremos"
      ]
    },
    {
      "cell_type": "code",
      "execution_count": null,
      "metadata": {},
      "outputs": [],
      "source": [
        "# si quereis ver que pinta tiene la primera tabla\n",
        "print(tabla1.prettify())"
      ]
    },
    {
      "cell_type": "code",
      "execution_count": 115,
      "metadata": {},
      "outputs": [
        {
          "name": "stdout",
          "output_type": "stream",
          "text": [
            "\n",
            "–\n",
            " Bermuda (UK)\n",
            "134,640\n",
            "2022\n",
            "\n"
          ]
        }
      ],
      "source": [
        "# veamos que pinta tiene la informacion de la primera fila con datos\n",
        "filas = tabla1.find_all('tr')\n",
        "print(filas[2].text)"
      ]
    },
    {
      "cell_type": "code",
      "execution_count": 116,
      "metadata": {},
      "outputs": [],
      "source": [
        "# hay un encabezado que tiene [2] que no nos interesa\n",
        "# hago un .split('[2]') en caso de que la string contenga eso y me quedo la primera parte\n",
        "# en el resto de casos al tener el '\\n' al final hago el .split('\\n') y me quedo la primera parte\n",
        "# en ambos casos después de hacer eso, sigo teniendo una string, es ahí cuando aplico .strip()\n",
        "encabezados = [col.text.split('[2]')[0].strip() if '[2]' in col.text else col.text.split('\\n')[0].strip() for col in filas[0].find_all('th')]"
      ]
    },
    {
      "cell_type": "code",
      "execution_count": 117,
      "metadata": {},
      "outputs": [],
      "source": [
        "# contenido de las filas\n",
        "data = []\n",
        "for fila in filas[1:]: # empiezo en la 1 porque el elemento [0] son las columnas\n",
        "    data.append([celda.text.split('\\n')[0].strip() for celda in fila.find_all('td')])"
      ]
    },
    {
      "cell_type": "code",
      "execution_count": 123,
      "metadata": {},
      "outputs": [
        {
          "data": {
            "text/html": [
              "<div>\n",
              "<style scoped>\n",
              "    .dataframe tbody tr th:only-of-type {\n",
              "        vertical-align: middle;\n",
              "    }\n",
              "\n",
              "    .dataframe tbody tr th {\n",
              "        vertical-align: top;\n",
              "    }\n",
              "\n",
              "    .dataframe thead th {\n",
              "        text-align: right;\n",
              "    }\n",
              "</style>\n",
              "<table border=\"1\" class=\"dataframe\">\n",
              "  <thead>\n",
              "    <tr style=\"text-align: right;\">\n",
              "      <th></th>\n",
              "      <th>Country</th>\n",
              "      <th>GNI percapita (US$)</th>\n",
              "      <th>Year</th>\n",
              "    </tr>\n",
              "    <tr>\n",
              "      <th></th>\n",
              "      <th></th>\n",
              "      <th></th>\n",
              "      <th></th>\n",
              "    </tr>\n",
              "  </thead>\n",
              "  <tbody>\n",
              "    <tr>\n",
              "      <th></th>\n",
              "      <td>High Income Economies</td>\n",
              "      <td></td>\n",
              "      <td>2023</td>\n",
              "    </tr>\n",
              "    <tr>\n",
              "      <th>–</th>\n",
              "      <td>Bermuda (UK)</td>\n",
              "      <td>134,640</td>\n",
              "      <td>2022</td>\n",
              "    </tr>\n",
              "    <tr>\n",
              "      <th>1</th>\n",
              "      <td>Liechtenstein</td>\n",
              "      <td>116,600</td>\n",
              "      <td>2009</td>\n",
              "    </tr>\n",
              "    <tr>\n",
              "      <th>2</th>\n",
              "      <td>Norway</td>\n",
              "      <td>102,460</td>\n",
              "      <td>2023</td>\n",
              "    </tr>\n",
              "    <tr>\n",
              "      <th>3</th>\n",
              "      <td>Switzerland</td>\n",
              "      <td>95,160</td>\n",
              "      <td>2023</td>\n",
              "    </tr>\n",
              "    <tr>\n",
              "      <th>...</th>\n",
              "      <td>...</td>\n",
              "      <td>...</td>\n",
              "      <td>...</td>\n",
              "    </tr>\n",
              "    <tr>\n",
              "      <th>187</th>\n",
              "      <td>Madagascar</td>\n",
              "      <td>530</td>\n",
              "      <td>2023</td>\n",
              "    </tr>\n",
              "    <tr>\n",
              "      <th>187</th>\n",
              "      <td>Mozambique</td>\n",
              "      <td>530</td>\n",
              "      <td>2023</td>\n",
              "    </tr>\n",
              "    <tr>\n",
              "      <th>189</th>\n",
              "      <td>Central African Republic</td>\n",
              "      <td>470</td>\n",
              "      <td>2023</td>\n",
              "    </tr>\n",
              "    <tr>\n",
              "      <th>190</th>\n",
              "      <td>Afghanistan</td>\n",
              "      <td>360</td>\n",
              "      <td>2022</td>\n",
              "    </tr>\n",
              "    <tr>\n",
              "      <th>191</th>\n",
              "      <td>Burundi</td>\n",
              "      <td>230</td>\n",
              "      <td>2023</td>\n",
              "    </tr>\n",
              "  </tbody>\n",
              "</table>\n",
              "<p>210 rows × 3 columns</p>\n",
              "</div>"
            ],
            "text/plain": [
              "                      Country GNI percapita (US$)  Year\n",
              "                                                       \n",
              "        High Income Economies                      2023\n",
              "–                Bermuda (UK)             134,640  2022\n",
              "1               Liechtenstein             116,600  2009\n",
              "2                      Norway             102,460  2023\n",
              "3                 Switzerland              95,160  2023\n",
              "..                        ...                 ...   ...\n",
              "187                Madagascar                 530  2023\n",
              "187                Mozambique                 530  2023\n",
              "189  Central African Republic                 470  2023\n",
              "190               Afghanistan                 360  2022\n",
              "191                   Burundi                 230  2023\n",
              "\n",
              "[210 rows x 3 columns]"
            ]
          },
          "execution_count": 123,
          "metadata": {},
          "output_type": "execute_result"
        }
      ],
      "source": [
        "import pandas as pd\n",
        "df = pd.DataFrame(data, columns=encabezados)\n",
        "df = df.set_index(df.columns[0]) # pon la primera columna como indice\n",
        "df"
      ]
    },
    {
      "cell_type": "code",
      "execution_count": 124,
      "metadata": {},
      "outputs": [
        {
          "data": {
            "text/html": [
              "<div>\n",
              "<style scoped>\n",
              "    .dataframe tbody tr th:only-of-type {\n",
              "        vertical-align: middle;\n",
              "    }\n",
              "\n",
              "    .dataframe tbody tr th {\n",
              "        vertical-align: top;\n",
              "    }\n",
              "\n",
              "    .dataframe thead th {\n",
              "        text-align: right;\n",
              "    }\n",
              "</style>\n",
              "<table border=\"1\" class=\"dataframe\">\n",
              "  <thead>\n",
              "    <tr style=\"text-align: right;\">\n",
              "      <th></th>\n",
              "      <th>Country</th>\n",
              "      <th>GNI percapita (US$)</th>\n",
              "      <th>Year</th>\n",
              "    </tr>\n",
              "    <tr>\n",
              "      <th></th>\n",
              "      <th></th>\n",
              "      <th></th>\n",
              "      <th></th>\n",
              "    </tr>\n",
              "  </thead>\n",
              "  <tbody>\n",
              "    <tr>\n",
              "      <th></th>\n",
              "      <td>High Income Economies</td>\n",
              "      <td></td>\n",
              "      <td>2023</td>\n",
              "    </tr>\n",
              "    <tr>\n",
              "      <th></th>\n",
              "      <td>Upper Middle-Income Economies</td>\n",
              "      <td>14,100</td>\n",
              "      <td>2023</td>\n",
              "    </tr>\n",
              "    <tr>\n",
              "      <th></th>\n",
              "      <td>Lower Middle-Income Economies</td>\n",
              "      <td>4,520</td>\n",
              "      <td>2023</td>\n",
              "    </tr>\n",
              "    <tr>\n",
              "      <th></th>\n",
              "      <td>Low Income Economies</td>\n",
              "      <td>1,150</td>\n",
              "      <td>2023</td>\n",
              "    </tr>\n",
              "  </tbody>\n",
              "</table>\n",
              "</div>"
            ],
            "text/plain": [
              "                        Country GNI percapita (US$)  Year\n",
              "                                                         \n",
              "          High Income Economies                      2023\n",
              "  Upper Middle-Income Economies              14,100  2023\n",
              "  Lower Middle-Income Economies               4,520  2023\n",
              "           Low Income Economies               1,150  2023"
            ]
          },
          "execution_count": 124,
          "metadata": {},
          "output_type": "execute_result"
        }
      ],
      "source": [
        "df.loc[''] # para que me de las cuatro categorias"
      ]
    },
    {
      "cell_type": "code",
      "execution_count": 125,
      "metadata": {},
      "outputs": [],
      "source": [
        "df.reset_index(inplace=True) # asi tengo los indices para limpiar"
      ]
    },
    {
      "cell_type": "code",
      "execution_count": 126,
      "metadata": {},
      "outputs": [
        {
          "name": "stdout",
          "output_type": "stream",
          "text": [
            "Int64Index([0], dtype='int64') -- High income\n",
            "Int64Index([77], dtype='int64') -- Upper Middle income\n",
            "Int64Index([133], dtype='int64') -- Lower Middle income\n",
            "Int64Index([185], dtype='int64') -- Low income\n"
          ]
        }
      ],
      "source": [
        "print(df.get(df.Country == 'High Income Economies').index, '-- High income')\n",
        "print(df.get(df.Country == 'Upper Middle-Income Economies').index, '-- Upper Middle income')\n",
        "print(df.get(df.Country == 'Lower Middle-Income Economies').index, '-- Lower Middle income')\n",
        "print(df.get(df.Country == 'Low Income Economies').index, '-- Low income')"
      ]
    },
    {
      "cell_type": "code",
      "execution_count": 127,
      "metadata": {},
      "outputs": [],
      "source": [
        "# añadir las strings\n",
        "df.loc[0:77, 'income_range'] = 'High income'\n",
        "df.loc[77:133, 'income_range'] = 'Upper Middle income' \n",
        "df.loc[133:185, 'income_range'] = 'Lower Middle income'\n",
        "df.loc[185:, 'income_range'] = 'Lower income'"
      ]
    },
    {
      "cell_type": "code",
      "execution_count": 129,
      "metadata": {},
      "outputs": [
        {
          "data": {
            "text/html": [
              "<div>\n",
              "<style scoped>\n",
              "    .dataframe tbody tr th:only-of-type {\n",
              "        vertical-align: middle;\n",
              "    }\n",
              "\n",
              "    .dataframe tbody tr th {\n",
              "        vertical-align: top;\n",
              "    }\n",
              "\n",
              "    .dataframe thead th {\n",
              "        text-align: right;\n",
              "    }\n",
              "</style>\n",
              "<table border=\"1\" class=\"dataframe\">\n",
              "  <thead>\n",
              "    <tr style=\"text-align: right;\">\n",
              "      <th></th>\n",
              "      <th></th>\n",
              "      <th>Country</th>\n",
              "      <th>GNI percapita (US$)</th>\n",
              "      <th>Year</th>\n",
              "      <th>income_range</th>\n",
              "    </tr>\n",
              "  </thead>\n",
              "  <tbody>\n",
              "    <tr>\n",
              "      <th>0</th>\n",
              "      <td>–</td>\n",
              "      <td>Bermuda (UK)</td>\n",
              "      <td>134,640</td>\n",
              "      <td>2022</td>\n",
              "      <td>High income</td>\n",
              "    </tr>\n",
              "    <tr>\n",
              "      <th>1</th>\n",
              "      <td>1</td>\n",
              "      <td>Liechtenstein</td>\n",
              "      <td>116,600</td>\n",
              "      <td>2009</td>\n",
              "      <td>High income</td>\n",
              "    </tr>\n",
              "    <tr>\n",
              "      <th>2</th>\n",
              "      <td>2</td>\n",
              "      <td>Norway</td>\n",
              "      <td>102,460</td>\n",
              "      <td>2023</td>\n",
              "      <td>High income</td>\n",
              "    </tr>\n",
              "    <tr>\n",
              "      <th>3</th>\n",
              "      <td>3</td>\n",
              "      <td>Switzerland</td>\n",
              "      <td>95,160</td>\n",
              "      <td>2023</td>\n",
              "      <td>High income</td>\n",
              "    </tr>\n",
              "    <tr>\n",
              "      <th>4</th>\n",
              "      <td>4</td>\n",
              "      <td>Luxembourg</td>\n",
              "      <td>88,370</td>\n",
              "      <td>2023</td>\n",
              "      <td>High income</td>\n",
              "    </tr>\n",
              "    <tr>\n",
              "      <th>...</th>\n",
              "      <td>...</td>\n",
              "      <td>...</td>\n",
              "      <td>...</td>\n",
              "      <td>...</td>\n",
              "      <td>...</td>\n",
              "    </tr>\n",
              "    <tr>\n",
              "      <th>201</th>\n",
              "      <td>187</td>\n",
              "      <td>Madagascar</td>\n",
              "      <td>530</td>\n",
              "      <td>2023</td>\n",
              "      <td>Lower income</td>\n",
              "    </tr>\n",
              "    <tr>\n",
              "      <th>202</th>\n",
              "      <td>187</td>\n",
              "      <td>Mozambique</td>\n",
              "      <td>530</td>\n",
              "      <td>2023</td>\n",
              "      <td>Lower income</td>\n",
              "    </tr>\n",
              "    <tr>\n",
              "      <th>203</th>\n",
              "      <td>189</td>\n",
              "      <td>Central African Republic</td>\n",
              "      <td>470</td>\n",
              "      <td>2023</td>\n",
              "      <td>Lower income</td>\n",
              "    </tr>\n",
              "    <tr>\n",
              "      <th>204</th>\n",
              "      <td>190</td>\n",
              "      <td>Afghanistan</td>\n",
              "      <td>360</td>\n",
              "      <td>2022</td>\n",
              "      <td>Lower income</td>\n",
              "    </tr>\n",
              "    <tr>\n",
              "      <th>205</th>\n",
              "      <td>191</td>\n",
              "      <td>Burundi</td>\n",
              "      <td>230</td>\n",
              "      <td>2023</td>\n",
              "      <td>Lower income</td>\n",
              "    </tr>\n",
              "  </tbody>\n",
              "</table>\n",
              "<p>206 rows × 5 columns</p>\n",
              "</div>"
            ],
            "text/plain": [
              "                           Country GNI percapita (US$)  Year  income_range\n",
              "0      –              Bermuda (UK)             134,640  2022   High income\n",
              "1      1             Liechtenstein             116,600  2009   High income\n",
              "2      2                    Norway             102,460  2023   High income\n",
              "3      3               Switzerland              95,160  2023   High income\n",
              "4      4                Luxembourg              88,370  2023   High income\n",
              "..   ...                       ...                 ...   ...           ...\n",
              "201  187                Madagascar                 530  2023  Lower income\n",
              "202  187                Mozambique                 530  2023  Lower income\n",
              "203  189  Central African Republic                 470  2023  Lower income\n",
              "204  190               Afghanistan                 360  2022  Lower income\n",
              "205  191                   Burundi                 230  2023  Lower income\n",
              "\n",
              "[206 rows x 5 columns]"
            ]
          },
          "execution_count": 129,
          "metadata": {},
          "output_type": "execute_result"
        }
      ],
      "source": [
        "# elimino las filas que tienen las categorias\n",
        "df = df.drop([0, 77, 133, 185])\n",
        "\n",
        "# reset de indices, respetando el ranking de wiki\n",
        "df.reset_index(drop=True, inplace=True)\n",
        "df"
      ]
    },
    {
      "cell_type": "code",
      "execution_count": null,
      "metadata": {},
      "outputs": [],
      "source": [
        "# DataFrame para tabla2\n",
        "tabla2"
      ]
    },
    {
      "cell_type": "code",
      "execution_count": 151,
      "metadata": {},
      "outputs": [],
      "source": [
        "filas2 = tabla2.find_all('tr')\n",
        "# - country - -\n",
        "# np.nan country np.nan np.nan\n",
        "data = []\n",
        "for fila in filas2:\n",
        "    if 'group' in fila.text:\n",
        "        data.append(['', fila.text.strip(), '', '2023'])\n",
        "    else:\n",
        "        data.append(['-', fila.text.strip(), '-', '-'])\n"
      ]
    },
    {
      "cell_type": "code",
      "execution_count": 152,
      "metadata": {},
      "outputs": [
        {
          "data": {
            "text/html": [
              "<div>\n",
              "<style scoped>\n",
              "    .dataframe tbody tr th:only-of-type {\n",
              "        vertical-align: middle;\n",
              "    }\n",
              "\n",
              "    .dataframe tbody tr th {\n",
              "        vertical-align: top;\n",
              "    }\n",
              "\n",
              "    .dataframe thead th {\n",
              "        text-align: right;\n",
              "    }\n",
              "</style>\n",
              "<table border=\"1\" class=\"dataframe\">\n",
              "  <thead>\n",
              "    <tr style=\"text-align: right;\">\n",
              "      <th></th>\n",
              "      <th>Country</th>\n",
              "      <th>GNI percapita (US$)</th>\n",
              "      <th>Year</th>\n",
              "    </tr>\n",
              "    <tr>\n",
              "      <th></th>\n",
              "      <th></th>\n",
              "      <th></th>\n",
              "      <th></th>\n",
              "    </tr>\n",
              "  </thead>\n",
              "  <tbody>\n",
              "    <tr>\n",
              "      <th></th>\n",
              "      <td>High-income group</td>\n",
              "      <td></td>\n",
              "      <td>2023</td>\n",
              "    </tr>\n",
              "    <tr>\n",
              "      <th>-</th>\n",
              "      <td>American Samoa (US)</td>\n",
              "      <td>-</td>\n",
              "      <td>-</td>\n",
              "    </tr>\n",
              "    <tr>\n",
              "      <th>-</th>\n",
              "      <td>British Virgin Islands (UK)</td>\n",
              "      <td>-</td>\n",
              "      <td>-</td>\n",
              "    </tr>\n",
              "    <tr>\n",
              "      <th>-</th>\n",
              "      <td>Cook Islands (New Zealand)</td>\n",
              "      <td>-</td>\n",
              "      <td>-</td>\n",
              "    </tr>\n",
              "    <tr>\n",
              "      <th>-</th>\n",
              "      <td>Gibraltar (UK)</td>\n",
              "      <td>-</td>\n",
              "      <td>-</td>\n",
              "    </tr>\n",
              "    <tr>\n",
              "      <th>-</th>\n",
              "      <td>Guam (US)</td>\n",
              "      <td>-</td>\n",
              "      <td>-</td>\n",
              "    </tr>\n",
              "    <tr>\n",
              "      <th>-</th>\n",
              "      <td>Monaco</td>\n",
              "      <td>-</td>\n",
              "      <td>-</td>\n",
              "    </tr>\n",
              "    <tr>\n",
              "      <th>-</th>\n",
              "      <td>Northern Mariana Islands (US)</td>\n",
              "      <td>-</td>\n",
              "      <td>-</td>\n",
              "    </tr>\n",
              "    <tr>\n",
              "      <th>-</th>\n",
              "      <td>Saint Martin (France)</td>\n",
              "      <td>-</td>\n",
              "      <td>-</td>\n",
              "    </tr>\n",
              "    <tr>\n",
              "      <th>-</th>\n",
              "      <td>Taiwan</td>\n",
              "      <td>-</td>\n",
              "      <td>-</td>\n",
              "    </tr>\n",
              "    <tr>\n",
              "      <th>-</th>\n",
              "      <td>U.S. Virgin Islands (US)</td>\n",
              "      <td>-</td>\n",
              "      <td>-</td>\n",
              "    </tr>\n",
              "    <tr>\n",
              "      <th></th>\n",
              "      <td>Upper-middle-income group</td>\n",
              "      <td></td>\n",
              "      <td>2023</td>\n",
              "    </tr>\n",
              "    <tr>\n",
              "      <th>-</th>\n",
              "      <td>Venezuela</td>\n",
              "      <td>-</td>\n",
              "      <td>-</td>\n",
              "    </tr>\n",
              "    <tr>\n",
              "      <th></th>\n",
              "      <td>Low-income group</td>\n",
              "      <td></td>\n",
              "      <td>2023</td>\n",
              "    </tr>\n",
              "    <tr>\n",
              "      <th>-</th>\n",
              "      <td>North Korea</td>\n",
              "      <td>-</td>\n",
              "      <td>-</td>\n",
              "    </tr>\n",
              "  </tbody>\n",
              "</table>\n",
              "</div>"
            ],
            "text/plain": [
              "                         Country GNI percapita (US$)  Year\n",
              "                                                          \n",
              "               High-income group                      2023\n",
              "-            American Samoa (US)                   -     -\n",
              "-    British Virgin Islands (UK)                   -     -\n",
              "-     Cook Islands (New Zealand)                   -     -\n",
              "-                 Gibraltar (UK)                   -     -\n",
              "-                      Guam (US)                   -     -\n",
              "-                         Monaco                   -     -\n",
              "-  Northern Mariana Islands (US)                   -     -\n",
              "-          Saint Martin (France)                   -     -\n",
              "-                         Taiwan                   -     -\n",
              "-       U.S. Virgin Islands (US)                   -     -\n",
              "       Upper-middle-income group                      2023\n",
              "-                      Venezuela                   -     -\n",
              "                Low-income group                      2023\n",
              "-                    North Korea                   -     -"
            ]
          },
          "execution_count": 152,
          "metadata": {},
          "output_type": "execute_result"
        }
      ],
      "source": [
        "# creo el DataFrame\n",
        "df2 = pd.DataFrame(data, columns=encabezados)\n",
        "df2.set_index(df2.columns[0], inplace=True)\n",
        "df2"
      ]
    },
    {
      "cell_type": "code",
      "execution_count": 153,
      "metadata": {},
      "outputs": [
        {
          "data": {
            "text/html": [
              "<div>\n",
              "<style scoped>\n",
              "    .dataframe tbody tr th:only-of-type {\n",
              "        vertical-align: middle;\n",
              "    }\n",
              "\n",
              "    .dataframe tbody tr th {\n",
              "        vertical-align: top;\n",
              "    }\n",
              "\n",
              "    .dataframe thead th {\n",
              "        text-align: right;\n",
              "    }\n",
              "</style>\n",
              "<table border=\"1\" class=\"dataframe\">\n",
              "  <thead>\n",
              "    <tr style=\"text-align: right;\">\n",
              "      <th></th>\n",
              "      <th>Country</th>\n",
              "      <th>GNI percapita (US$)</th>\n",
              "      <th>Year</th>\n",
              "    </tr>\n",
              "    <tr>\n",
              "      <th></th>\n",
              "      <th></th>\n",
              "      <th></th>\n",
              "      <th></th>\n",
              "    </tr>\n",
              "  </thead>\n",
              "  <tbody>\n",
              "    <tr>\n",
              "      <th></th>\n",
              "      <td>High-income group</td>\n",
              "      <td></td>\n",
              "      <td>2023</td>\n",
              "    </tr>\n",
              "    <tr>\n",
              "      <th></th>\n",
              "      <td>Upper-middle-income group</td>\n",
              "      <td></td>\n",
              "      <td>2023</td>\n",
              "    </tr>\n",
              "    <tr>\n",
              "      <th></th>\n",
              "      <td>Low-income group</td>\n",
              "      <td></td>\n",
              "      <td>2023</td>\n",
              "    </tr>\n",
              "  </tbody>\n",
              "</table>\n",
              "</div>"
            ],
            "text/plain": [
              "                    Country GNI percapita (US$)  Year\n",
              "                                                     \n",
              "          High-income group                      2023\n",
              "  Upper-middle-income group                      2023\n",
              "           Low-income group                      2023"
            ]
          },
          "execution_count": 153,
          "metadata": {},
          "output_type": "execute_result"
        }
      ],
      "source": [
        "df2.loc[''] # para que me de las cuatro categorias"
      ]
    },
    {
      "cell_type": "code",
      "execution_count": 154,
      "metadata": {},
      "outputs": [],
      "source": [
        "df2.reset_index(inplace=True) # asi tengo los indices para limpiar"
      ]
    },
    {
      "cell_type": "code",
      "execution_count": 155,
      "metadata": {},
      "outputs": [
        {
          "name": "stdout",
          "output_type": "stream",
          "text": [
            "Int64Index([0], dtype='int64') -- High income\n",
            "Int64Index([11], dtype='int64') -- Upper Middle income\n",
            "Int64Index([13], dtype='int64') -- Low income\n"
          ]
        }
      ],
      "source": [
        "print(df2.get(df2.Country == 'High-income group').index, '-- High income')\n",
        "print(df2.get(df2.Country == 'Upper-middle-income group').index, '-- Upper Middle income')\n",
        "print(df2.get(df2.Country == 'Low-income group').index, '-- Low income')"
      ]
    },
    {
      "cell_type": "code",
      "execution_count": 156,
      "metadata": {},
      "outputs": [],
      "source": [
        "# añadir las strings\n",
        "df2.loc[0:11, 'income_range'] = 'High income'\n",
        "df2.loc[11:13, 'income_range'] = 'Upper Middle income' \n",
        "df2.loc[13:, 'income_range'] = 'Lower income'"
      ]
    },
    {
      "cell_type": "code",
      "execution_count": 157,
      "metadata": {},
      "outputs": [
        {
          "data": {
            "text/html": [
              "<div>\n",
              "<style scoped>\n",
              "    .dataframe tbody tr th:only-of-type {\n",
              "        vertical-align: middle;\n",
              "    }\n",
              "\n",
              "    .dataframe tbody tr th {\n",
              "        vertical-align: top;\n",
              "    }\n",
              "\n",
              "    .dataframe thead th {\n",
              "        text-align: right;\n",
              "    }\n",
              "</style>\n",
              "<table border=\"1\" class=\"dataframe\">\n",
              "  <thead>\n",
              "    <tr style=\"text-align: right;\">\n",
              "      <th></th>\n",
              "      <th></th>\n",
              "      <th>Country</th>\n",
              "      <th>GNI percapita (US$)</th>\n",
              "      <th>Year</th>\n",
              "      <th>income_range</th>\n",
              "    </tr>\n",
              "  </thead>\n",
              "  <tbody>\n",
              "    <tr>\n",
              "      <th>0</th>\n",
              "      <td>-</td>\n",
              "      <td>American Samoa (US)</td>\n",
              "      <td>-</td>\n",
              "      <td>-</td>\n",
              "      <td>High income</td>\n",
              "    </tr>\n",
              "    <tr>\n",
              "      <th>1</th>\n",
              "      <td>-</td>\n",
              "      <td>British Virgin Islands (UK)</td>\n",
              "      <td>-</td>\n",
              "      <td>-</td>\n",
              "      <td>High income</td>\n",
              "    </tr>\n",
              "    <tr>\n",
              "      <th>2</th>\n",
              "      <td>-</td>\n",
              "      <td>Cook Islands (New Zealand)</td>\n",
              "      <td>-</td>\n",
              "      <td>-</td>\n",
              "      <td>High income</td>\n",
              "    </tr>\n",
              "    <tr>\n",
              "      <th>3</th>\n",
              "      <td>-</td>\n",
              "      <td>Gibraltar (UK)</td>\n",
              "      <td>-</td>\n",
              "      <td>-</td>\n",
              "      <td>High income</td>\n",
              "    </tr>\n",
              "    <tr>\n",
              "      <th>4</th>\n",
              "      <td>-</td>\n",
              "      <td>Guam (US)</td>\n",
              "      <td>-</td>\n",
              "      <td>-</td>\n",
              "      <td>High income</td>\n",
              "    </tr>\n",
              "    <tr>\n",
              "      <th>5</th>\n",
              "      <td>-</td>\n",
              "      <td>Monaco</td>\n",
              "      <td>-</td>\n",
              "      <td>-</td>\n",
              "      <td>High income</td>\n",
              "    </tr>\n",
              "    <tr>\n",
              "      <th>6</th>\n",
              "      <td>-</td>\n",
              "      <td>Northern Mariana Islands (US)</td>\n",
              "      <td>-</td>\n",
              "      <td>-</td>\n",
              "      <td>High income</td>\n",
              "    </tr>\n",
              "    <tr>\n",
              "      <th>7</th>\n",
              "      <td>-</td>\n",
              "      <td>Saint Martin (France)</td>\n",
              "      <td>-</td>\n",
              "      <td>-</td>\n",
              "      <td>High income</td>\n",
              "    </tr>\n",
              "    <tr>\n",
              "      <th>8</th>\n",
              "      <td>-</td>\n",
              "      <td>Taiwan</td>\n",
              "      <td>-</td>\n",
              "      <td>-</td>\n",
              "      <td>High income</td>\n",
              "    </tr>\n",
              "    <tr>\n",
              "      <th>9</th>\n",
              "      <td>-</td>\n",
              "      <td>U.S. Virgin Islands (US)</td>\n",
              "      <td>-</td>\n",
              "      <td>-</td>\n",
              "      <td>High income</td>\n",
              "    </tr>\n",
              "    <tr>\n",
              "      <th>10</th>\n",
              "      <td>-</td>\n",
              "      <td>Venezuela</td>\n",
              "      <td>-</td>\n",
              "      <td>-</td>\n",
              "      <td>Upper Middle income</td>\n",
              "    </tr>\n",
              "    <tr>\n",
              "      <th>11</th>\n",
              "      <td>-</td>\n",
              "      <td>North Korea</td>\n",
              "      <td>-</td>\n",
              "      <td>-</td>\n",
              "      <td>Lower income</td>\n",
              "    </tr>\n",
              "  </tbody>\n",
              "</table>\n",
              "</div>"
            ],
            "text/plain": [
              "                             Country GNI percapita (US$) Year  \\\n",
              "0   -            American Samoa (US)                   -    -   \n",
              "1   -    British Virgin Islands (UK)                   -    -   \n",
              "2   -     Cook Islands (New Zealand)                   -    -   \n",
              "3   -                 Gibraltar (UK)                   -    -   \n",
              "4   -                      Guam (US)                   -    -   \n",
              "5   -                         Monaco                   -    -   \n",
              "6   -  Northern Mariana Islands (US)                   -    -   \n",
              "7   -          Saint Martin (France)                   -    -   \n",
              "8   -                         Taiwan                   -    -   \n",
              "9   -       U.S. Virgin Islands (US)                   -    -   \n",
              "10  -                      Venezuela                   -    -   \n",
              "11  -                    North Korea                   -    -   \n",
              "\n",
              "           income_range  \n",
              "0           High income  \n",
              "1           High income  \n",
              "2           High income  \n",
              "3           High income  \n",
              "4           High income  \n",
              "5           High income  \n",
              "6           High income  \n",
              "7           High income  \n",
              "8           High income  \n",
              "9           High income  \n",
              "10  Upper Middle income  \n",
              "11         Lower income  "
            ]
          },
          "execution_count": 157,
          "metadata": {},
          "output_type": "execute_result"
        }
      ],
      "source": [
        "# elimino las filas que tienen las categorias\n",
        "df2 = df2.drop([0, 11, 13])\n",
        "\n",
        "# reset de indices, respetando el ranking de wiki\n",
        "df2.reset_index(drop=True, inplace=True)\n",
        "df2"
      ]
    },
    {
      "cell_type": "code",
      "execution_count": 173,
      "metadata": {},
      "outputs": [
        {
          "data": {
            "text/html": [
              "<div>\n",
              "<style scoped>\n",
              "    .dataframe tbody tr th:only-of-type {\n",
              "        vertical-align: middle;\n",
              "    }\n",
              "\n",
              "    .dataframe tbody tr th {\n",
              "        vertical-align: top;\n",
              "    }\n",
              "\n",
              "    .dataframe thead th {\n",
              "        text-align: right;\n",
              "    }\n",
              "</style>\n",
              "<table border=\"1\" class=\"dataframe\">\n",
              "  <thead>\n",
              "    <tr style=\"text-align: right;\">\n",
              "      <th></th>\n",
              "      <th>country</th>\n",
              "      <th>gni_percapita_dolar</th>\n",
              "      <th>year</th>\n",
              "      <th>income_range</th>\n",
              "    </tr>\n",
              "  </thead>\n",
              "  <tbody>\n",
              "    <tr>\n",
              "      <th>0</th>\n",
              "      <td>Bermuda (UK)</td>\n",
              "      <td>134,640</td>\n",
              "      <td>2022</td>\n",
              "      <td>High income</td>\n",
              "    </tr>\n",
              "    <tr>\n",
              "      <th>1</th>\n",
              "      <td>Liechtenstein</td>\n",
              "      <td>116,600</td>\n",
              "      <td>2009</td>\n",
              "      <td>High income</td>\n",
              "    </tr>\n",
              "    <tr>\n",
              "      <th>2</th>\n",
              "      <td>Norway</td>\n",
              "      <td>102,460</td>\n",
              "      <td>2023</td>\n",
              "      <td>High income</td>\n",
              "    </tr>\n",
              "    <tr>\n",
              "      <th>3</th>\n",
              "      <td>Switzerland</td>\n",
              "      <td>95,160</td>\n",
              "      <td>2023</td>\n",
              "      <td>High income</td>\n",
              "    </tr>\n",
              "    <tr>\n",
              "      <th>4</th>\n",
              "      <td>Luxembourg</td>\n",
              "      <td>88,370</td>\n",
              "      <td>2023</td>\n",
              "      <td>High income</td>\n",
              "    </tr>\n",
              "    <tr>\n",
              "      <th>...</th>\n",
              "      <td>...</td>\n",
              "      <td>...</td>\n",
              "      <td>...</td>\n",
              "      <td>...</td>\n",
              "    </tr>\n",
              "    <tr>\n",
              "      <th>213</th>\n",
              "      <td>Saint Martin (France)</td>\n",
              "      <td>-</td>\n",
              "      <td>-</td>\n",
              "      <td>High income</td>\n",
              "    </tr>\n",
              "    <tr>\n",
              "      <th>214</th>\n",
              "      <td>Taiwan</td>\n",
              "      <td>-</td>\n",
              "      <td>-</td>\n",
              "      <td>High income</td>\n",
              "    </tr>\n",
              "    <tr>\n",
              "      <th>215</th>\n",
              "      <td>U.S. Virgin Islands (US)</td>\n",
              "      <td>-</td>\n",
              "      <td>-</td>\n",
              "      <td>High income</td>\n",
              "    </tr>\n",
              "    <tr>\n",
              "      <th>216</th>\n",
              "      <td>Venezuela</td>\n",
              "      <td>-</td>\n",
              "      <td>-</td>\n",
              "      <td>Upper Middle income</td>\n",
              "    </tr>\n",
              "    <tr>\n",
              "      <th>217</th>\n",
              "      <td>North Korea</td>\n",
              "      <td>-</td>\n",
              "      <td>-</td>\n",
              "      <td>Lower income</td>\n",
              "    </tr>\n",
              "  </tbody>\n",
              "</table>\n",
              "<p>218 rows × 4 columns</p>\n",
              "</div>"
            ],
            "text/plain": [
              "                      country gni_percapita_dolar  year         income_range\n",
              "0                Bermuda (UK)             134,640  2022          High income\n",
              "1               Liechtenstein             116,600  2009          High income\n",
              "2                      Norway             102,460  2023          High income\n",
              "3                 Switzerland              95,160  2023          High income\n",
              "4                  Luxembourg              88,370  2023          High income\n",
              "..                        ...                 ...   ...                  ...\n",
              "213     Saint Martin (France)                   -     -          High income\n",
              "214                    Taiwan                   -     -          High income\n",
              "215  U.S. Virgin Islands (US)                   -     -          High income\n",
              "216                 Venezuela                   -     -  Upper Middle income\n",
              "217               North Korea                   -     -         Lower income\n",
              "\n",
              "[218 rows x 4 columns]"
            ]
          },
          "execution_count": 173,
          "metadata": {},
          "output_type": "execute_result"
        }
      ],
      "source": [
        "# juntamos ambos DataFrame\n",
        "df_todo = pd.concat([df, df2], axis=0)\n",
        "\n",
        "# reset de index\n",
        "df_todo.reset_index(drop=True, inplace=True)\n",
        "\n",
        "# eliminar columnas innecesarias\n",
        "df_todo.drop(columns=[df_todo.columns[1], 'index'], inplace=True)\n",
        "\n",
        "# dejarlas limpias para trabajar\n",
        "df_todo.columns = df_todo.columns.str.replace(' ', '_').str.replace('(US$)', 'dolar', regex=False).str.lower()\n",
        "df_todo"
      ]
    },
    {
      "cell_type": "markdown",
      "metadata": {},
      "source": [
        "## BONUS"
      ]
    },
    {
      "attachments": {
        "image.png": {
          "image/png": "[encoded data removed]"
        }
      },
      "cell_type": "markdown",
      "metadata": {},
      "source": [
        "Haz un Scrapeo de la tabla que tiene esta pinta:\n",
        "\n",
        "![image.png](attachment:image.png)\n",
        "\n",
        "Déjalo en formato DataFrame\n"
      ]
    },
    {
      "cell_type": "code",
      "execution_count": 2,
      "metadata": {},
      "outputs": [],
      "source": [
        "import pandas as pd\n",
        "import requests as req\n",
        "from bs4 import BeautifulSoup as bs"
      ]
    },
    {
      "cell_type": "code",
      "execution_count": 3,
      "metadata": {},
      "outputs": [],
      "source": [
        "# extra\n",
        "url = 'https://es.wikipedia.org/wiki/Provincia_de_Trujillo_(Per%C3%BA)'\n",
        "\n",
        "# tabla del censo"
      ]
    },
    {
      "cell_type": "markdown",
      "metadata": {},
      "source": [
        "### Solucion Alex"
      ]
    },
    {
      "cell_type": "code",
      "execution_count": 25,
      "metadata": {},
      "outputs": [],
      "source": [
        "html = req.get(url).text\n",
        "soup = bs(html, 'html.parser')\n",
        "tabla = soup.find('table', {'class':'wikitable sortable'})\n",
        "encabezados = [col.text for col in tabla.find_all('tr')[0]]\n",
        "filas = [fila for fila in tabla.find_all('tr')[1:]]\n",
        "fila_total = filas[-2]\n",
        "footer = filas[-1]\n"
      ]
    },
    {
      "cell_type": "code",
      "execution_count": 26,
      "metadata": {},
      "outputs": [
        {
          "data": {
            "text/plain": [
              "['UBIGEO', 'Distrito', 'Hogares', 'Viviendas', 'Población']"
            ]
          },
          "execution_count": 26,
          "metadata": {},
          "output_type": "execute_result"
        }
      ],
      "source": [
        "encabezados = [col.split('\\n')[0] for col in encabezados[1::2]]\n",
        "encabezados"
      ]
    },
    {
      "cell_type": "code",
      "execution_count": 27,
      "metadata": {},
      "outputs": [
        {
          "data": {
            "text/plain": [
              "[['130101', 'Trujillo', '87963', '82236', '314939'],\n",
              " ['130102', 'El Porvenir', '57878', '50805', '110461'],\n",
              " ['130103', 'Florencia De Mora', '7777', '8635', '50 505'],\n",
              " ['130104', 'Huanchaco', '20206', '16534', '68409'],\n",
              " ['130105', 'La Esperanza', '49773', '47896', '189206'],\n",
              " ['130106', 'Laredo', '12204', '9933', '37206'],\n",
              " ['130107', 'Moche', '9776', '8965', '37436'],\n",
              " ['130108', 'Poroto', '1238', '975', '3586'],\n",
              " ['130109', 'Salaverry', '5599', '5244', '18944'],\n",
              " ['130110', 'Simbal', '1662', '1151', '4061'],\n",
              " ['130111', 'Víctor Larco Herrera', '19543', '18461', '68506']]"
            ]
          },
          "execution_count": 27,
          "metadata": {},
          "output_type": "execute_result"
        }
      ],
      "source": [
        "filas = [[celda.text\n",
        "          .split('\\n')[0] # haz split por el salto de linea y quedate el primer elemento\n",
        "                          # en el replace sustituye eso por una string vacia, asi tengo el numero en formato entendible\n",
        "                          # por cada celda que hay dentro de la fila, que fila esta dentro de filas\n",
        "          .replace('\\xa0', '') \\\n",
        "            for celda in fila.find_all('td')] \\\n",
        "                for fila in filas]\n",
        "filas = filas[0:len(filas)-2] # quito las dos vacias\n",
        "filas"
      ]
    },
    {
      "cell_type": "code",
      "execution_count": 28,
      "metadata": {},
      "outputs": [
        {
          "data": {
            "text/plain": [
              "['TOTAL', '273619', '250835', '970016']"
            ]
          },
          "execution_count": 28,
          "metadata": {},
          "output_type": "execute_result"
        }
      ],
      "source": [
        "[celda.text.split('\\n')[0].replace('\\xa0','').replace(' ', '') for celda in fila_total][3::2]"
      ]
    },
    {
      "cell_type": "code",
      "execution_count": 29,
      "metadata": {},
      "outputs": [
        {
          "data": {
            "text/plain": [
              "['-', 'TOTAL', '273619', '250835', '970016']"
            ]
          },
          "execution_count": 29,
          "metadata": {},
          "output_type": "execute_result"
        }
      ],
      "source": [
        "fila_total = [celda.text.split('\\n')[0].replace('\\xa0','').replace(' ', '') for celda in fila_total][3::2]\n",
        "fila_total.insert(0, '-')\n",
        "fila_total"
      ]
    },
    {
      "cell_type": "code",
      "execution_count": 30,
      "metadata": {},
      "outputs": [
        {
          "data": {
            "text/plain": [
              "['-',\n",
              " 'Fuente: Censos Nacionales 2017: X de Población y VII de Vivienda',\n",
              " '-',\n",
              " '-',\n",
              " '-']"
            ]
          },
          "execution_count": 30,
          "metadata": {},
          "output_type": "execute_result"
        }
      ],
      "source": [
        "texto_footer = footer.find('th').text.split('\\n')[0]\n",
        "ultima_fila = ['-', texto_footer, '-', '-', '-']\n",
        "ultima_fila"
      ]
    },
    {
      "cell_type": "code",
      "execution_count": 31,
      "metadata": {},
      "outputs": [],
      "source": [
        "filas.append(fila_total)\n",
        "filas.append(ultima_fila)"
      ]
    },
    {
      "cell_type": "code",
      "execution_count": 32,
      "metadata": {},
      "outputs": [
        {
          "data": {
            "text/html": [
              "<div>\n",
              "<style scoped>\n",
              "    .dataframe tbody tr th:only-of-type {\n",
              "        vertical-align: middle;\n",
              "    }\n",
              "\n",
              "    .dataframe tbody tr th {\n",
              "        vertical-align: top;\n",
              "    }\n",
              "\n",
              "    .dataframe thead th {\n",
              "        text-align: right;\n",
              "    }\n",
              "</style>\n",
              "<table border=\"1\" class=\"dataframe\">\n",
              "  <thead>\n",
              "    <tr style=\"text-align: right;\">\n",
              "      <th></th>\n",
              "      <th>UBIGEO</th>\n",
              "      <th>Distrito</th>\n",
              "      <th>Hogares</th>\n",
              "      <th>Viviendas</th>\n",
              "      <th>Población</th>\n",
              "    </tr>\n",
              "  </thead>\n",
              "  <tbody>\n",
              "    <tr>\n",
              "      <th>0</th>\n",
              "      <td>130101</td>\n",
              "      <td>Trujillo</td>\n",
              "      <td>87963</td>\n",
              "      <td>82236</td>\n",
              "      <td>314939</td>\n",
              "    </tr>\n",
              "    <tr>\n",
              "      <th>1</th>\n",
              "      <td>130102</td>\n",
              "      <td>El Porvenir</td>\n",
              "      <td>57878</td>\n",
              "      <td>50805</td>\n",
              "      <td>110461</td>\n",
              "    </tr>\n",
              "    <tr>\n",
              "      <th>2</th>\n",
              "      <td>130103</td>\n",
              "      <td>Florencia De Mora</td>\n",
              "      <td>7777</td>\n",
              "      <td>8635</td>\n",
              "      <td>50 505</td>\n",
              "    </tr>\n",
              "    <tr>\n",
              "      <th>3</th>\n",
              "      <td>130104</td>\n",
              "      <td>Huanchaco</td>\n",
              "      <td>20206</td>\n",
              "      <td>16534</td>\n",
              "      <td>68409</td>\n",
              "    </tr>\n",
              "    <tr>\n",
              "      <th>4</th>\n",
              "      <td>130105</td>\n",
              "      <td>La Esperanza</td>\n",
              "      <td>49773</td>\n",
              "      <td>47896</td>\n",
              "      <td>189206</td>\n",
              "    </tr>\n",
              "    <tr>\n",
              "      <th>5</th>\n",
              "      <td>130106</td>\n",
              "      <td>Laredo</td>\n",
              "      <td>12204</td>\n",
              "      <td>9933</td>\n",
              "      <td>37206</td>\n",
              "    </tr>\n",
              "    <tr>\n",
              "      <th>6</th>\n",
              "      <td>130107</td>\n",
              "      <td>Moche</td>\n",
              "      <td>9776</td>\n",
              "      <td>8965</td>\n",
              "      <td>37436</td>\n",
              "    </tr>\n",
              "    <tr>\n",
              "      <th>7</th>\n",
              "      <td>130108</td>\n",
              "      <td>Poroto</td>\n",
              "      <td>1238</td>\n",
              "      <td>975</td>\n",
              "      <td>3586</td>\n",
              "    </tr>\n",
              "    <tr>\n",
              "      <th>8</th>\n",
              "      <td>130109</td>\n",
              "      <td>Salaverry</td>\n",
              "      <td>5599</td>\n",
              "      <td>5244</td>\n",
              "      <td>18944</td>\n",
              "    </tr>\n",
              "    <tr>\n",
              "      <th>9</th>\n",
              "      <td>130110</td>\n",
              "      <td>Simbal</td>\n",
              "      <td>1662</td>\n",
              "      <td>1151</td>\n",
              "      <td>4061</td>\n",
              "    </tr>\n",
              "    <tr>\n",
              "      <th>10</th>\n",
              "      <td>130111</td>\n",
              "      <td>Víctor Larco Herrera</td>\n",
              "      <td>19543</td>\n",
              "      <td>18461</td>\n",
              "      <td>68506</td>\n",
              "    </tr>\n",
              "    <tr>\n",
              "      <th>11</th>\n",
              "      <td>-</td>\n",
              "      <td>TOTAL</td>\n",
              "      <td>273619</td>\n",
              "      <td>250835</td>\n",
              "      <td>970016</td>\n",
              "    </tr>\n",
              "    <tr>\n",
              "      <th>12</th>\n",
              "      <td>-</td>\n",
              "      <td>Fuente: Censos Nacionales 2017: X de Población...</td>\n",
              "      <td>-</td>\n",
              "      <td>-</td>\n",
              "      <td>-</td>\n",
              "    </tr>\n",
              "  </tbody>\n",
              "</table>\n",
              "</div>"
            ],
            "text/plain": [
              "    UBIGEO                                           Distrito Hogares  \\\n",
              "0   130101                                           Trujillo   87963   \n",
              "1   130102                                        El Porvenir   57878   \n",
              "2   130103                                  Florencia De Mora    7777   \n",
              "3   130104                                          Huanchaco   20206   \n",
              "4   130105                                       La Esperanza   49773   \n",
              "5   130106                                             Laredo   12204   \n",
              "6   130107                                              Moche    9776   \n",
              "7   130108                                             Poroto    1238   \n",
              "8   130109                                          Salaverry    5599   \n",
              "9   130110                                             Simbal    1662   \n",
              "10  130111                               Víctor Larco Herrera   19543   \n",
              "11       -                                              TOTAL  273619   \n",
              "12       -  Fuente: Censos Nacionales 2017: X de Población...       -   \n",
              "\n",
              "   Viviendas Población  \n",
              "0      82236    314939  \n",
              "1      50805    110461  \n",
              "2       8635    50 505  \n",
              "3      16534     68409  \n",
              "4      47896    189206  \n",
              "5       9933     37206  \n",
              "6       8965     37436  \n",
              "7        975      3586  \n",
              "8       5244     18944  \n",
              "9       1151      4061  \n",
              "10     18461     68506  \n",
              "11    250835    970016  \n",
              "12         -         -  "
            ]
          },
          "execution_count": 32,
          "metadata": {},
          "output_type": "execute_result"
        }
      ],
      "source": [
        "df = pd.DataFrame(filas, columns=encabezados)\n",
        "df"
      ]
    },
    {
      "cell_type": "markdown",
      "metadata": {},
      "source": [
        "Pandas no puede fusionar celdas, así que si queremos tener la información de cuál es la fuente de datos "
      ]
    },
    {
      "cell_type": "markdown",
      "metadata": {
        "id": "NsICPsyhgT4V"
      },
      "source": [
        "# 4 - Geolocalizando una IP"
      ]
    },
    {
      "cell_type": "code",
      "execution_count": 70,
      "metadata": {},
      "outputs": [],
      "source": [
        "import requests as req\n",
        "from bs4 import BeautifulSoup as bs"
      ]
    },
    {
      "cell_type": "markdown",
      "metadata": {
        "id": "ES4P2UxbgT4W"
      },
      "source": [
        "**¿Dónde estoy?** --> https://tools.keycdn.com/geo\n",
        "\n",
        "Esta web nos da toda la información de la IP que introducimos."
      ]
    },
    {
      "cell_type": "code",
      "execution_count": 71,
      "metadata": {
        "id": "9-WID9augT4W"
      },
      "outputs": [],
      "source": [
        "url='https://tools.keycdn.com/geo'"
      ]
    },
    {
      "cell_type": "code",
      "execution_count": 72,
      "metadata": {
        "colab": {
          "base_uri": "https://localhost:8080/",
          "height": 512
        },
        "id": "e2RhYzKnZiU5",
        "outputId": "a7569eef-ae70-401f-f568-d481b99a7429"
      },
      "outputs": [
        {
          "ename": "ConnectionError",
          "evalue": "('Connection aborted.', RemoteDisconnected('Remote end closed connection without response'))",
          "output_type": "error",
          "traceback": [
            "\u001b[0;31m---------------------------------------------------------------------------\u001b[0m",
            "\u001b[0;31mRemoteDisconnected\u001b[0m                        Traceback (most recent call last)",
            "File \u001b[0;32m~/miniconda3/envs/gamma/lib/python3.12/site-packages/urllib3/connectionpool.py:789\u001b[0m, in \u001b[0;36mHTTPConnectionPool.urlopen\u001b[0;34m(self, method, url, body, headers, retries, redirect, assert_same_host, timeout, pool_timeout, release_conn, chunked, body_pos, preload_content, decode_content, **response_kw)\u001b[0m\n\u001b[1;32m    788\u001b[0m \u001b[38;5;66;03m# Make the request on the HTTPConnection object\u001b[39;00m\n\u001b[0;32m--> 789\u001b[0m response \u001b[38;5;241m=\u001b[39m \u001b[38;5;28;43mself\u001b[39;49m\u001b[38;5;241;43m.\u001b[39;49m\u001b[43m_make_request\u001b[49m\u001b[43m(\u001b[49m\n\u001b[1;32m    790\u001b[0m \u001b[43m    \u001b[49m\u001b[43mconn\u001b[49m\u001b[43m,\u001b[49m\n\u001b[1;32m    791\u001b[0m \u001b[43m    \u001b[49m\u001b[43mmethod\u001b[49m\u001b[43m,\u001b[49m\n\u001b[1;32m    792\u001b[0m \u001b[43m    \u001b[49m\u001b[43murl\u001b[49m\u001b[43m,\u001b[49m\n\u001b[1;32m    793\u001b[0m \u001b[43m    \u001b[49m\u001b[43mtimeout\u001b[49m\u001b[38;5;241;43m=\u001b[39;49m\u001b[43mtimeout_obj\u001b[49m\u001b[43m,\u001b[49m\n\u001b[1;32m    794\u001b[0m \u001b[43m    \u001b[49m\u001b[43mbody\u001b[49m\u001b[38;5;241;43m=\u001b[39;49m\u001b[43mbody\u001b[49m\u001b[43m,\u001b[49m\n\u001b[1;32m    795\u001b[0m \u001b[43m    \u001b[49m\u001b[43mheaders\u001b[49m\u001b[38;5;241;43m=\u001b[39;49m\u001b[43mheaders\u001b[49m\u001b[43m,\u001b[49m\n\u001b[1;32m    796\u001b[0m \u001b[43m    \u001b[49m\u001b[43mchunked\u001b[49m\u001b[38;5;241;43m=\u001b[39;49m\u001b[43mchunked\u001b[49m\u001b[43m,\u001b[49m\n\u001b[1;32m    797\u001b[0m \u001b[43m    \u001b[49m\u001b[43mretries\u001b[49m\u001b[38;5;241;43m=\u001b[39;49m\u001b[43mretries\u001b[49m\u001b[43m,\u001b[49m\n\u001b[1;32m    798\u001b[0m \u001b[43m    \u001b[49m\u001b[43mresponse_conn\u001b[49m\u001b[38;5;241;43m=\u001b[39;49m\u001b[43mresponse_conn\u001b[49m\u001b[43m,\u001b[49m\n\u001b[1;32m    799\u001b[0m \u001b[43m    \u001b[49m\u001b[43mpreload_content\u001b[49m\u001b[38;5;241;43m=\u001b[39;49m\u001b[43mpreload_content\u001b[49m\u001b[43m,\u001b[49m\n\u001b[1;32m    800\u001b[0m \u001b[43m    \u001b[49m\u001b[43mdecode_content\u001b[49m\u001b[38;5;241;43m=\u001b[39;49m\u001b[43mdecode_content\u001b[49m\u001b[43m,\u001b[49m\n\u001b[1;32m    801\u001b[0m \u001b[43m    \u001b[49m\u001b[38;5;241;43m*\u001b[39;49m\u001b[38;5;241;43m*\u001b[39;49m\u001b[43mresponse_kw\u001b[49m\u001b[43m,\u001b[49m\n\u001b[1;32m    802\u001b[0m \u001b[43m\u001b[49m\u001b[43m)\u001b[49m\n\u001b[1;32m    804\u001b[0m \u001b[38;5;66;03m# Everything went great!\u001b[39;00m\n",
            "File \u001b[0;32m~/miniconda3/envs/gamma/lib/python3.12/site-packages/urllib3/connectionpool.py:536\u001b[0m, in \u001b[0;36mHTTPConnectionPool._make_request\u001b[0;34m(self, conn, method, url, body, headers, retries, timeout, chunked, response_conn, preload_content, decode_content, enforce_content_length)\u001b[0m\n\u001b[1;32m    535\u001b[0m \u001b[38;5;28;01mtry\u001b[39;00m:\n\u001b[0;32m--> 536\u001b[0m     response \u001b[38;5;241m=\u001b[39m \u001b[43mconn\u001b[49m\u001b[38;5;241;43m.\u001b[39;49m\u001b[43mgetresponse\u001b[49m\u001b[43m(\u001b[49m\u001b[43m)\u001b[49m\n\u001b[1;32m    537\u001b[0m \u001b[38;5;28;01mexcept\u001b[39;00m (BaseSSLError, \u001b[38;5;167;01mOSError\u001b[39;00m) \u001b[38;5;28;01mas\u001b[39;00m e:\n",
            "File \u001b[0;32m~/miniconda3/envs/gamma/lib/python3.12/site-packages/urllib3/connection.py:464\u001b[0m, in \u001b[0;36mHTTPConnection.getresponse\u001b[0;34m(self)\u001b[0m\n\u001b[1;32m    463\u001b[0m \u001b[38;5;66;03m# Get the response from http.client.HTTPConnection\u001b[39;00m\n\u001b[0;32m--> 464\u001b[0m httplib_response \u001b[38;5;241m=\u001b[39m \u001b[38;5;28;43msuper\u001b[39;49m\u001b[43m(\u001b[49m\u001b[43m)\u001b[49m\u001b[38;5;241;43m.\u001b[39;49m\u001b[43mgetresponse\u001b[49m\u001b[43m(\u001b[49m\u001b[43m)\u001b[49m\n\u001b[1;32m    466\u001b[0m \u001b[38;5;28;01mtry\u001b[39;00m:\n",
            "File \u001b[0;32m~/miniconda3/envs/gamma/lib/python3.12/http/client.py:1428\u001b[0m, in \u001b[0;36mHTTPConnection.getresponse\u001b[0;34m(self)\u001b[0m\n\u001b[1;32m   1427\u001b[0m \u001b[38;5;28;01mtry\u001b[39;00m:\n\u001b[0;32m-> 1428\u001b[0m     \u001b[43mresponse\u001b[49m\u001b[38;5;241;43m.\u001b[39;49m\u001b[43mbegin\u001b[49m\u001b[43m(\u001b[49m\u001b[43m)\u001b[49m\n\u001b[1;32m   1429\u001b[0m \u001b[38;5;28;01mexcept\u001b[39;00m \u001b[38;5;167;01mConnectionError\u001b[39;00m:\n",
            "File \u001b[0;32m~/miniconda3/envs/gamma/lib/python3.12/http/client.py:331\u001b[0m, in \u001b[0;36mHTTPResponse.begin\u001b[0;34m(self)\u001b[0m\n\u001b[1;32m    330\u001b[0m \u001b[38;5;28;01mwhile\u001b[39;00m \u001b[38;5;28;01mTrue\u001b[39;00m:\n\u001b[0;32m--> 331\u001b[0m     version, status, reason \u001b[38;5;241m=\u001b[39m \u001b[38;5;28;43mself\u001b[39;49m\u001b[38;5;241;43m.\u001b[39;49m\u001b[43m_read_status\u001b[49m\u001b[43m(\u001b[49m\u001b[43m)\u001b[49m\n\u001b[1;32m    332\u001b[0m     \u001b[38;5;28;01mif\u001b[39;00m status \u001b[38;5;241m!=\u001b[39m CONTINUE:\n",
            "File \u001b[0;32m~/miniconda3/envs/gamma/lib/python3.12/http/client.py:300\u001b[0m, in \u001b[0;36mHTTPResponse._read_status\u001b[0;34m(self)\u001b[0m\n\u001b[1;32m    297\u001b[0m \u001b[38;5;28;01mif\u001b[39;00m \u001b[38;5;129;01mnot\u001b[39;00m line:\n\u001b[1;32m    298\u001b[0m     \u001b[38;5;66;03m# Presumably, the server closed the connection before\u001b[39;00m\n\u001b[1;32m    299\u001b[0m     \u001b[38;5;66;03m# sending a valid response.\u001b[39;00m\n\u001b[0;32m--> 300\u001b[0m     \u001b[38;5;28;01mraise\u001b[39;00m RemoteDisconnected(\u001b[38;5;124m\"\u001b[39m\u001b[38;5;124mRemote end closed connection without\u001b[39m\u001b[38;5;124m\"\u001b[39m\n\u001b[1;32m    301\u001b[0m                              \u001b[38;5;124m\"\u001b[39m\u001b[38;5;124m response\u001b[39m\u001b[38;5;124m\"\u001b[39m)\n\u001b[1;32m    302\u001b[0m \u001b[38;5;28;01mtry\u001b[39;00m:\n",
            "\u001b[0;31mRemoteDisconnected\u001b[0m: Remote end closed connection without response",
            "\nDuring handling of the above exception, another exception occurred:\n",
            "\u001b[0;31mProtocolError\u001b[0m                             Traceback (most recent call last)",
            "File \u001b[0;32m~/miniconda3/envs/gamma/lib/python3.12/site-packages/requests/adapters.py:667\u001b[0m, in \u001b[0;36mHTTPAdapter.send\u001b[0;34m(self, request, stream, timeout, verify, cert, proxies)\u001b[0m\n\u001b[1;32m    666\u001b[0m \u001b[38;5;28;01mtry\u001b[39;00m:\n\u001b[0;32m--> 667\u001b[0m     resp \u001b[38;5;241m=\u001b[39m \u001b[43mconn\u001b[49m\u001b[38;5;241;43m.\u001b[39;49m\u001b[43murlopen\u001b[49m\u001b[43m(\u001b[49m\n\u001b[1;32m    668\u001b[0m \u001b[43m        \u001b[49m\u001b[43mmethod\u001b[49m\u001b[38;5;241;43m=\u001b[39;49m\u001b[43mrequest\u001b[49m\u001b[38;5;241;43m.\u001b[39;49m\u001b[43mmethod\u001b[49m\u001b[43m,\u001b[49m\n\u001b[1;32m    669\u001b[0m \u001b[43m        \u001b[49m\u001b[43murl\u001b[49m\u001b[38;5;241;43m=\u001b[39;49m\u001b[43murl\u001b[49m\u001b[43m,\u001b[49m\n\u001b[1;32m    670\u001b[0m \u001b[43m        \u001b[49m\u001b[43mbody\u001b[49m\u001b[38;5;241;43m=\u001b[39;49m\u001b[43mrequest\u001b[49m\u001b[38;5;241;43m.\u001b[39;49m\u001b[43mbody\u001b[49m\u001b[43m,\u001b[49m\n\u001b[1;32m    671\u001b[0m \u001b[43m        \u001b[49m\u001b[43mheaders\u001b[49m\u001b[38;5;241;43m=\u001b[39;49m\u001b[43mrequest\u001b[49m\u001b[38;5;241;43m.\u001b[39;49m\u001b[43mheaders\u001b[49m\u001b[43m,\u001b[49m\n\u001b[1;32m    672\u001b[0m \u001b[43m        \u001b[49m\u001b[43mredirect\u001b[49m\u001b[38;5;241;43m=\u001b[39;49m\u001b[38;5;28;43;01mFalse\u001b[39;49;00m\u001b[43m,\u001b[49m\n\u001b[1;32m    673\u001b[0m \u001b[43m        \u001b[49m\u001b[43massert_same_host\u001b[49m\u001b[38;5;241;43m=\u001b[39;49m\u001b[38;5;28;43;01mFalse\u001b[39;49;00m\u001b[43m,\u001b[49m\n\u001b[1;32m    674\u001b[0m \u001b[43m        \u001b[49m\u001b[43mpreload_content\u001b[49m\u001b[38;5;241;43m=\u001b[39;49m\u001b[38;5;28;43;01mFalse\u001b[39;49;00m\u001b[43m,\u001b[49m\n\u001b[1;32m    675\u001b[0m \u001b[43m        \u001b[49m\u001b[43mdecode_content\u001b[49m\u001b[38;5;241;43m=\u001b[39;49m\u001b[38;5;28;43;01mFalse\u001b[39;49;00m\u001b[43m,\u001b[49m\n\u001b[1;32m    676\u001b[0m \u001b[43m        \u001b[49m\u001b[43mretries\u001b[49m\u001b[38;5;241;43m=\u001b[39;49m\u001b[38;5;28;43mself\u001b[39;49m\u001b[38;5;241;43m.\u001b[39;49m\u001b[43mmax_retries\u001b[49m\u001b[43m,\u001b[49m\n\u001b[1;32m    677\u001b[0m \u001b[43m        \u001b[49m\u001b[43mtimeout\u001b[49m\u001b[38;5;241;43m=\u001b[39;49m\u001b[43mtimeout\u001b[49m\u001b[43m,\u001b[49m\n\u001b[1;32m    678\u001b[0m \u001b[43m        \u001b[49m\u001b[43mchunked\u001b[49m\u001b[38;5;241;43m=\u001b[39;49m\u001b[43mchunked\u001b[49m\u001b[43m,\u001b[49m\n\u001b[1;32m    679\u001b[0m \u001b[43m    \u001b[49m\u001b[43m)\u001b[49m\n\u001b[1;32m    681\u001b[0m \u001b[38;5;28;01mexcept\u001b[39;00m (ProtocolError, \u001b[38;5;167;01mOSError\u001b[39;00m) \u001b[38;5;28;01mas\u001b[39;00m err:\n",
            "File \u001b[0;32m~/miniconda3/envs/gamma/lib/python3.12/site-packages/urllib3/connectionpool.py:843\u001b[0m, in \u001b[0;36mHTTPConnectionPool.urlopen\u001b[0;34m(self, method, url, body, headers, retries, redirect, assert_same_host, timeout, pool_timeout, release_conn, chunked, body_pos, preload_content, decode_content, **response_kw)\u001b[0m\n\u001b[1;32m    841\u001b[0m     new_e \u001b[38;5;241m=\u001b[39m ProtocolError(\u001b[38;5;124m\"\u001b[39m\u001b[38;5;124mConnection aborted.\u001b[39m\u001b[38;5;124m\"\u001b[39m, new_e)\n\u001b[0;32m--> 843\u001b[0m retries \u001b[38;5;241m=\u001b[39m \u001b[43mretries\u001b[49m\u001b[38;5;241;43m.\u001b[39;49m\u001b[43mincrement\u001b[49m\u001b[43m(\u001b[49m\n\u001b[1;32m    844\u001b[0m \u001b[43m    \u001b[49m\u001b[43mmethod\u001b[49m\u001b[43m,\u001b[49m\u001b[43m \u001b[49m\u001b[43murl\u001b[49m\u001b[43m,\u001b[49m\u001b[43m \u001b[49m\u001b[43merror\u001b[49m\u001b[38;5;241;43m=\u001b[39;49m\u001b[43mnew_e\u001b[49m\u001b[43m,\u001b[49m\u001b[43m \u001b[49m\u001b[43m_pool\u001b[49m\u001b[38;5;241;43m=\u001b[39;49m\u001b[38;5;28;43mself\u001b[39;49m\u001b[43m,\u001b[49m\u001b[43m \u001b[49m\u001b[43m_stacktrace\u001b[49m\u001b[38;5;241;43m=\u001b[39;49m\u001b[43msys\u001b[49m\u001b[38;5;241;43m.\u001b[39;49m\u001b[43mexc_info\u001b[49m\u001b[43m(\u001b[49m\u001b[43m)\u001b[49m\u001b[43m[\u001b[49m\u001b[38;5;241;43m2\u001b[39;49m\u001b[43m]\u001b[49m\n\u001b[1;32m    845\u001b[0m \u001b[43m\u001b[49m\u001b[43m)\u001b[49m\n\u001b[1;32m    846\u001b[0m retries\u001b[38;5;241m.\u001b[39msleep()\n",
            "File \u001b[0;32m~/miniconda3/envs/gamma/lib/python3.12/site-packages/urllib3/util/retry.py:474\u001b[0m, in \u001b[0;36mRetry.increment\u001b[0;34m(self, method, url, response, error, _pool, _stacktrace)\u001b[0m\n\u001b[1;32m    473\u001b[0m \u001b[38;5;28;01mif\u001b[39;00m read \u001b[38;5;129;01mis\u001b[39;00m \u001b[38;5;28;01mFalse\u001b[39;00m \u001b[38;5;129;01mor\u001b[39;00m method \u001b[38;5;129;01mis\u001b[39;00m \u001b[38;5;28;01mNone\u001b[39;00m \u001b[38;5;129;01mor\u001b[39;00m \u001b[38;5;129;01mnot\u001b[39;00m \u001b[38;5;28mself\u001b[39m\u001b[38;5;241m.\u001b[39m_is_method_retryable(method):\n\u001b[0;32m--> 474\u001b[0m     \u001b[38;5;28;01mraise\u001b[39;00m \u001b[43mreraise\u001b[49m\u001b[43m(\u001b[49m\u001b[38;5;28;43mtype\u001b[39;49m\u001b[43m(\u001b[49m\u001b[43merror\u001b[49m\u001b[43m)\u001b[49m\u001b[43m,\u001b[49m\u001b[43m \u001b[49m\u001b[43merror\u001b[49m\u001b[43m,\u001b[49m\u001b[43m \u001b[49m\u001b[43m_stacktrace\u001b[49m\u001b[43m)\u001b[49m\n\u001b[1;32m    475\u001b[0m \u001b[38;5;28;01melif\u001b[39;00m read \u001b[38;5;129;01mis\u001b[39;00m \u001b[38;5;129;01mnot\u001b[39;00m \u001b[38;5;28;01mNone\u001b[39;00m:\n",
            "File \u001b[0;32m~/miniconda3/envs/gamma/lib/python3.12/site-packages/urllib3/util/util.py:38\u001b[0m, in \u001b[0;36mreraise\u001b[0;34m(tp, value, tb)\u001b[0m\n\u001b[1;32m     37\u001b[0m \u001b[38;5;28;01mif\u001b[39;00m value\u001b[38;5;241m.\u001b[39m__traceback__ \u001b[38;5;129;01mis\u001b[39;00m \u001b[38;5;129;01mnot\u001b[39;00m tb:\n\u001b[0;32m---> 38\u001b[0m     \u001b[38;5;28;01mraise\u001b[39;00m value\u001b[38;5;241m.\u001b[39mwith_traceback(tb)\n\u001b[1;32m     39\u001b[0m \u001b[38;5;28;01mraise\u001b[39;00m value\n",
            "File \u001b[0;32m~/miniconda3/envs/gamma/lib/python3.12/site-packages/urllib3/connectionpool.py:789\u001b[0m, in \u001b[0;36mHTTPConnectionPool.urlopen\u001b[0;34m(self, method, url, body, headers, retries, redirect, assert_same_host, timeout, pool_timeout, release_conn, chunked, body_pos, preload_content, decode_content, **response_kw)\u001b[0m\n\u001b[1;32m    788\u001b[0m \u001b[38;5;66;03m# Make the request on the HTTPConnection object\u001b[39;00m\n\u001b[0;32m--> 789\u001b[0m response \u001b[38;5;241m=\u001b[39m \u001b[38;5;28;43mself\u001b[39;49m\u001b[38;5;241;43m.\u001b[39;49m\u001b[43m_make_request\u001b[49m\u001b[43m(\u001b[49m\n\u001b[1;32m    790\u001b[0m \u001b[43m    \u001b[49m\u001b[43mconn\u001b[49m\u001b[43m,\u001b[49m\n\u001b[1;32m    791\u001b[0m \u001b[43m    \u001b[49m\u001b[43mmethod\u001b[49m\u001b[43m,\u001b[49m\n\u001b[1;32m    792\u001b[0m \u001b[43m    \u001b[49m\u001b[43murl\u001b[49m\u001b[43m,\u001b[49m\n\u001b[1;32m    793\u001b[0m \u001b[43m    \u001b[49m\u001b[43mtimeout\u001b[49m\u001b[38;5;241;43m=\u001b[39;49m\u001b[43mtimeout_obj\u001b[49m\u001b[43m,\u001b[49m\n\u001b[1;32m    794\u001b[0m \u001b[43m    \u001b[49m\u001b[43mbody\u001b[49m\u001b[38;5;241;43m=\u001b[39;49m\u001b[43mbody\u001b[49m\u001b[43m,\u001b[49m\n\u001b[1;32m    795\u001b[0m \u001b[43m    \u001b[49m\u001b[43mheaders\u001b[49m\u001b[38;5;241;43m=\u001b[39;49m\u001b[43mheaders\u001b[49m\u001b[43m,\u001b[49m\n\u001b[1;32m    796\u001b[0m \u001b[43m    \u001b[49m\u001b[43mchunked\u001b[49m\u001b[38;5;241;43m=\u001b[39;49m\u001b[43mchunked\u001b[49m\u001b[43m,\u001b[49m\n\u001b[1;32m    797\u001b[0m \u001b[43m    \u001b[49m\u001b[43mretries\u001b[49m\u001b[38;5;241;43m=\u001b[39;49m\u001b[43mretries\u001b[49m\u001b[43m,\u001b[49m\n\u001b[1;32m    798\u001b[0m \u001b[43m    \u001b[49m\u001b[43mresponse_conn\u001b[49m\u001b[38;5;241;43m=\u001b[39;49m\u001b[43mresponse_conn\u001b[49m\u001b[43m,\u001b[49m\n\u001b[1;32m    799\u001b[0m \u001b[43m    \u001b[49m\u001b[43mpreload_content\u001b[49m\u001b[38;5;241;43m=\u001b[39;49m\u001b[43mpreload_content\u001b[49m\u001b[43m,\u001b[49m\n\u001b[1;32m    800\u001b[0m \u001b[43m    \u001b[49m\u001b[43mdecode_content\u001b[49m\u001b[38;5;241;43m=\u001b[39;49m\u001b[43mdecode_content\u001b[49m\u001b[43m,\u001b[49m\n\u001b[1;32m    801\u001b[0m \u001b[43m    \u001b[49m\u001b[38;5;241;43m*\u001b[39;49m\u001b[38;5;241;43m*\u001b[39;49m\u001b[43mresponse_kw\u001b[49m\u001b[43m,\u001b[49m\n\u001b[1;32m    802\u001b[0m \u001b[43m\u001b[49m\u001b[43m)\u001b[49m\n\u001b[1;32m    804\u001b[0m \u001b[38;5;66;03m# Everything went great!\u001b[39;00m\n",
            "File \u001b[0;32m~/miniconda3/envs/gamma/lib/python3.12/site-packages/urllib3/connectionpool.py:536\u001b[0m, in \u001b[0;36mHTTPConnectionPool._make_request\u001b[0;34m(self, conn, method, url, body, headers, retries, timeout, chunked, response_conn, preload_content, decode_content, enforce_content_length)\u001b[0m\n\u001b[1;32m    535\u001b[0m \u001b[38;5;28;01mtry\u001b[39;00m:\n\u001b[0;32m--> 536\u001b[0m     response \u001b[38;5;241m=\u001b[39m \u001b[43mconn\u001b[49m\u001b[38;5;241;43m.\u001b[39;49m\u001b[43mgetresponse\u001b[49m\u001b[43m(\u001b[49m\u001b[43m)\u001b[49m\n\u001b[1;32m    537\u001b[0m \u001b[38;5;28;01mexcept\u001b[39;00m (BaseSSLError, \u001b[38;5;167;01mOSError\u001b[39;00m) \u001b[38;5;28;01mas\u001b[39;00m e:\n",
            "File \u001b[0;32m~/miniconda3/envs/gamma/lib/python3.12/site-packages/urllib3/connection.py:464\u001b[0m, in \u001b[0;36mHTTPConnection.getresponse\u001b[0;34m(self)\u001b[0m\n\u001b[1;32m    463\u001b[0m \u001b[38;5;66;03m# Get the response from http.client.HTTPConnection\u001b[39;00m\n\u001b[0;32m--> 464\u001b[0m httplib_response \u001b[38;5;241m=\u001b[39m \u001b[38;5;28;43msuper\u001b[39;49m\u001b[43m(\u001b[49m\u001b[43m)\u001b[49m\u001b[38;5;241;43m.\u001b[39;49m\u001b[43mgetresponse\u001b[49m\u001b[43m(\u001b[49m\u001b[43m)\u001b[49m\n\u001b[1;32m    466\u001b[0m \u001b[38;5;28;01mtry\u001b[39;00m:\n",
            "File \u001b[0;32m~/miniconda3/envs/gamma/lib/python3.12/http/client.py:1428\u001b[0m, in \u001b[0;36mHTTPConnection.getresponse\u001b[0;34m(self)\u001b[0m\n\u001b[1;32m   1427\u001b[0m \u001b[38;5;28;01mtry\u001b[39;00m:\n\u001b[0;32m-> 1428\u001b[0m     \u001b[43mresponse\u001b[49m\u001b[38;5;241;43m.\u001b[39;49m\u001b[43mbegin\u001b[49m\u001b[43m(\u001b[49m\u001b[43m)\u001b[49m\n\u001b[1;32m   1429\u001b[0m \u001b[38;5;28;01mexcept\u001b[39;00m \u001b[38;5;167;01mConnectionError\u001b[39;00m:\n",
            "File \u001b[0;32m~/miniconda3/envs/gamma/lib/python3.12/http/client.py:331\u001b[0m, in \u001b[0;36mHTTPResponse.begin\u001b[0;34m(self)\u001b[0m\n\u001b[1;32m    330\u001b[0m \u001b[38;5;28;01mwhile\u001b[39;00m \u001b[38;5;28;01mTrue\u001b[39;00m:\n\u001b[0;32m--> 331\u001b[0m     version, status, reason \u001b[38;5;241m=\u001b[39m \u001b[38;5;28;43mself\u001b[39;49m\u001b[38;5;241;43m.\u001b[39;49m\u001b[43m_read_status\u001b[49m\u001b[43m(\u001b[49m\u001b[43m)\u001b[49m\n\u001b[1;32m    332\u001b[0m     \u001b[38;5;28;01mif\u001b[39;00m status \u001b[38;5;241m!=\u001b[39m CONTINUE:\n",
            "File \u001b[0;32m~/miniconda3/envs/gamma/lib/python3.12/http/client.py:300\u001b[0m, in \u001b[0;36mHTTPResponse._read_status\u001b[0;34m(self)\u001b[0m\n\u001b[1;32m    297\u001b[0m \u001b[38;5;28;01mif\u001b[39;00m \u001b[38;5;129;01mnot\u001b[39;00m line:\n\u001b[1;32m    298\u001b[0m     \u001b[38;5;66;03m# Presumably, the server closed the connection before\u001b[39;00m\n\u001b[1;32m    299\u001b[0m     \u001b[38;5;66;03m# sending a valid response.\u001b[39;00m\n\u001b[0;32m--> 300\u001b[0m     \u001b[38;5;28;01mraise\u001b[39;00m RemoteDisconnected(\u001b[38;5;124m\"\u001b[39m\u001b[38;5;124mRemote end closed connection without\u001b[39m\u001b[38;5;124m\"\u001b[39m\n\u001b[1;32m    301\u001b[0m                              \u001b[38;5;124m\"\u001b[39m\u001b[38;5;124m response\u001b[39m\u001b[38;5;124m\"\u001b[39m)\n\u001b[1;32m    302\u001b[0m \u001b[38;5;28;01mtry\u001b[39;00m:\n",
            "\u001b[0;31mProtocolError\u001b[0m: ('Connection aborted.', RemoteDisconnected('Remote end closed connection without response'))",
            "\nDuring handling of the above exception, another exception occurred:\n",
            "\u001b[0;31mConnectionError\u001b[0m                           Traceback (most recent call last)",
            "Cell \u001b[0;32mIn[72], line 1\u001b[0m\n\u001b[0;32m----> 1\u001b[0m html \u001b[38;5;241m=\u001b[39m \u001b[43mreq\u001b[49m\u001b[38;5;241;43m.\u001b[39;49m\u001b[43mget\u001b[49m\u001b[43m(\u001b[49m\u001b[43murl\u001b[49m\u001b[43m)\u001b[49m\u001b[38;5;241m.\u001b[39mcontent \u001b[38;5;66;03m# hace lo mismo que .text\u001b[39;00m\n",
            "File \u001b[0;32m~/miniconda3/envs/gamma/lib/python3.12/site-packages/requests/api.py:73\u001b[0m, in \u001b[0;36mget\u001b[0;34m(url, params, **kwargs)\u001b[0m\n\u001b[1;32m     62\u001b[0m \u001b[38;5;28;01mdef\u001b[39;00m \u001b[38;5;21mget\u001b[39m(url, params\u001b[38;5;241m=\u001b[39m\u001b[38;5;28;01mNone\u001b[39;00m, \u001b[38;5;241m*\u001b[39m\u001b[38;5;241m*\u001b[39mkwargs):\n\u001b[1;32m     63\u001b[0m \u001b[38;5;250m    \u001b[39m\u001b[38;5;124mr\u001b[39m\u001b[38;5;124;03m\"\"\"Sends a GET request.\u001b[39;00m\n\u001b[1;32m     64\u001b[0m \n\u001b[1;32m     65\u001b[0m \u001b[38;5;124;03m    :param url: URL for the new :class:`Request` object.\u001b[39;00m\n\u001b[0;32m   (...)\u001b[0m\n\u001b[1;32m     70\u001b[0m \u001b[38;5;124;03m    :rtype: requests.Response\u001b[39;00m\n\u001b[1;32m     71\u001b[0m \u001b[38;5;124;03m    \"\"\"\u001b[39;00m\n\u001b[0;32m---> 73\u001b[0m     \u001b[38;5;28;01mreturn\u001b[39;00m \u001b[43mrequest\u001b[49m\u001b[43m(\u001b[49m\u001b[38;5;124;43m\"\u001b[39;49m\u001b[38;5;124;43mget\u001b[39;49m\u001b[38;5;124;43m\"\u001b[39;49m\u001b[43m,\u001b[49m\u001b[43m \u001b[49m\u001b[43murl\u001b[49m\u001b[43m,\u001b[49m\u001b[43m \u001b[49m\u001b[43mparams\u001b[49m\u001b[38;5;241;43m=\u001b[39;49m\u001b[43mparams\u001b[49m\u001b[43m,\u001b[49m\u001b[43m \u001b[49m\u001b[38;5;241;43m*\u001b[39;49m\u001b[38;5;241;43m*\u001b[39;49m\u001b[43mkwargs\u001b[49m\u001b[43m)\u001b[49m\n",
            "File \u001b[0;32m~/miniconda3/envs/gamma/lib/python3.12/site-packages/requests/api.py:59\u001b[0m, in \u001b[0;36mrequest\u001b[0;34m(method, url, **kwargs)\u001b[0m\n\u001b[1;32m     55\u001b[0m \u001b[38;5;66;03m# By using the 'with' statement we are sure the session is closed, thus we\u001b[39;00m\n\u001b[1;32m     56\u001b[0m \u001b[38;5;66;03m# avoid leaving sockets open which can trigger a ResourceWarning in some\u001b[39;00m\n\u001b[1;32m     57\u001b[0m \u001b[38;5;66;03m# cases, and look like a memory leak in others.\u001b[39;00m\n\u001b[1;32m     58\u001b[0m \u001b[38;5;28;01mwith\u001b[39;00m sessions\u001b[38;5;241m.\u001b[39mSession() \u001b[38;5;28;01mas\u001b[39;00m session:\n\u001b[0;32m---> 59\u001b[0m     \u001b[38;5;28;01mreturn\u001b[39;00m \u001b[43msession\u001b[49m\u001b[38;5;241;43m.\u001b[39;49m\u001b[43mrequest\u001b[49m\u001b[43m(\u001b[49m\u001b[43mmethod\u001b[49m\u001b[38;5;241;43m=\u001b[39;49m\u001b[43mmethod\u001b[49m\u001b[43m,\u001b[49m\u001b[43m \u001b[49m\u001b[43murl\u001b[49m\u001b[38;5;241;43m=\u001b[39;49m\u001b[43murl\u001b[49m\u001b[43m,\u001b[49m\u001b[43m \u001b[49m\u001b[38;5;241;43m*\u001b[39;49m\u001b[38;5;241;43m*\u001b[39;49m\u001b[43mkwargs\u001b[49m\u001b[43m)\u001b[49m\n",
            "File \u001b[0;32m~/miniconda3/envs/gamma/lib/python3.12/site-packages/requests/sessions.py:589\u001b[0m, in \u001b[0;36mSession.request\u001b[0;34m(self, method, url, params, data, headers, cookies, files, auth, timeout, allow_redirects, proxies, hooks, stream, verify, cert, json)\u001b[0m\n\u001b[1;32m    584\u001b[0m send_kwargs \u001b[38;5;241m=\u001b[39m {\n\u001b[1;32m    585\u001b[0m     \u001b[38;5;124m\"\u001b[39m\u001b[38;5;124mtimeout\u001b[39m\u001b[38;5;124m\"\u001b[39m: timeout,\n\u001b[1;32m    586\u001b[0m     \u001b[38;5;124m\"\u001b[39m\u001b[38;5;124mallow_redirects\u001b[39m\u001b[38;5;124m\"\u001b[39m: allow_redirects,\n\u001b[1;32m    587\u001b[0m }\n\u001b[1;32m    588\u001b[0m send_kwargs\u001b[38;5;241m.\u001b[39mupdate(settings)\n\u001b[0;32m--> 589\u001b[0m resp \u001b[38;5;241m=\u001b[39m \u001b[38;5;28;43mself\u001b[39;49m\u001b[38;5;241;43m.\u001b[39;49m\u001b[43msend\u001b[49m\u001b[43m(\u001b[49m\u001b[43mprep\u001b[49m\u001b[43m,\u001b[49m\u001b[43m \u001b[49m\u001b[38;5;241;43m*\u001b[39;49m\u001b[38;5;241;43m*\u001b[39;49m\u001b[43msend_kwargs\u001b[49m\u001b[43m)\u001b[49m\n\u001b[1;32m    591\u001b[0m \u001b[38;5;28;01mreturn\u001b[39;00m resp\n",
            "File \u001b[0;32m~/miniconda3/envs/gamma/lib/python3.12/site-packages/requests/sessions.py:703\u001b[0m, in \u001b[0;36mSession.send\u001b[0;34m(self, request, **kwargs)\u001b[0m\n\u001b[1;32m    700\u001b[0m start \u001b[38;5;241m=\u001b[39m preferred_clock()\n\u001b[1;32m    702\u001b[0m \u001b[38;5;66;03m# Send the request\u001b[39;00m\n\u001b[0;32m--> 703\u001b[0m r \u001b[38;5;241m=\u001b[39m \u001b[43madapter\u001b[49m\u001b[38;5;241;43m.\u001b[39;49m\u001b[43msend\u001b[49m\u001b[43m(\u001b[49m\u001b[43mrequest\u001b[49m\u001b[43m,\u001b[49m\u001b[43m \u001b[49m\u001b[38;5;241;43m*\u001b[39;49m\u001b[38;5;241;43m*\u001b[39;49m\u001b[43mkwargs\u001b[49m\u001b[43m)\u001b[49m\n\u001b[1;32m    705\u001b[0m \u001b[38;5;66;03m# Total elapsed time of the request (approximately)\u001b[39;00m\n\u001b[1;32m    706\u001b[0m elapsed \u001b[38;5;241m=\u001b[39m preferred_clock() \u001b[38;5;241m-\u001b[39m start\n",
            "File \u001b[0;32m~/miniconda3/envs/gamma/lib/python3.12/site-packages/requests/adapters.py:682\u001b[0m, in \u001b[0;36mHTTPAdapter.send\u001b[0;34m(self, request, stream, timeout, verify, cert, proxies)\u001b[0m\n\u001b[1;32m    667\u001b[0m     resp \u001b[38;5;241m=\u001b[39m conn\u001b[38;5;241m.\u001b[39murlopen(\n\u001b[1;32m    668\u001b[0m         method\u001b[38;5;241m=\u001b[39mrequest\u001b[38;5;241m.\u001b[39mmethod,\n\u001b[1;32m    669\u001b[0m         url\u001b[38;5;241m=\u001b[39murl,\n\u001b[0;32m   (...)\u001b[0m\n\u001b[1;32m    678\u001b[0m         chunked\u001b[38;5;241m=\u001b[39mchunked,\n\u001b[1;32m    679\u001b[0m     )\n\u001b[1;32m    681\u001b[0m \u001b[38;5;28;01mexcept\u001b[39;00m (ProtocolError, \u001b[38;5;167;01mOSError\u001b[39;00m) \u001b[38;5;28;01mas\u001b[39;00m err:\n\u001b[0;32m--> 682\u001b[0m     \u001b[38;5;28;01mraise\u001b[39;00m \u001b[38;5;167;01mConnectionError\u001b[39;00m(err, request\u001b[38;5;241m=\u001b[39mrequest)\n\u001b[1;32m    684\u001b[0m \u001b[38;5;28;01mexcept\u001b[39;00m MaxRetryError \u001b[38;5;28;01mas\u001b[39;00m e:\n\u001b[1;32m    685\u001b[0m     \u001b[38;5;28;01mif\u001b[39;00m \u001b[38;5;28misinstance\u001b[39m(e\u001b[38;5;241m.\u001b[39mreason, ConnectTimeoutError):\n\u001b[1;32m    686\u001b[0m         \u001b[38;5;66;03m# TODO: Remove this in 3.0.0: see #2811\u001b[39;00m\n",
            "\u001b[0;31mConnectionError\u001b[0m: ('Connection aborted.', RemoteDisconnected('Remote end closed connection without response'))"
          ]
        }
      ],
      "source": [
        "html = req.get(url).content # hace lo mismo que .text"
      ]
    },
    {
      "cell_type": "markdown",
      "metadata": {
        "id": "0o212XMXOWZq"
      },
      "source": [
        "WTF? Que ha pasado\n",
        "\n",
        "\n",
        "\n",
        "que es un [user agent] ??(https://www.zenrows.com/blog/user-agent-web-scraping#what-is)\n",
        "\n",
        "User agents for web scraping --> [link](https://useragentstring.com/pages/Browserlist/)"
      ]
    },
    {
      "cell_type": "code",
      "execution_count": 73,
      "metadata": {
        "colab": {
          "base_uri": "https://localhost:8080/"
        },
        "id": "VNGbYtvtQgdx",
        "outputId": "473c3f0c-ef2c-4aea-8793-b075e9c27bdb"
      },
      "outputs": [
        {
          "name": "stdout",
          "output_type": "stream",
          "text": [
            "200\n",
            "{\n",
            "  \"headers\": {\n",
            "    \"Accept\": \"*/*\", \n",
            "    \"Accept-Encoding\": \"gzip, deflate, br\", \n",
            "    \"Host\": \"httpbin.org\", \n",
            "    \"User-Agent\": \"Mozilla/5.0 (Windows NT 10.0; Win64; x64) AppleWebKit/537.36 (KHTML, like Gecko) Chrome/111.0.0.0 Safari/537.36\", \n",
            "    \"X-Amzn-Trace-Id\": \"Root=1-66e48807-43ad8fe04ac2651366a15e7c\"\n",
            "  }\n",
            "}\n",
            "\n"
          ]
        }
      ],
      "source": [
        "headers = {'User-Agent': 'Mozilla/5.0 (Windows NT 10.0; Win64; x64) AppleWebKit/537.36 (KHTML, like Gecko) Chrome/111.0.0.0 Safari/537.36'}\n",
        "\n",
        "response = req.get('http://httpbin.org/headers', headers=headers)\n",
        "\n",
        "print(response.status_code)\n",
        "print(response.text)"
      ]
    },
    {
      "cell_type": "markdown",
      "metadata": {
        "id": "qnVniC95Qipo"
      },
      "source": [
        "Se ha tenido que añadir un diccionario que contiene 'User-agent'. Hay muchos sitios web que van a poner impedimentos para que podamos obtener la información a través del scrapeo. Estamos haciendo una petición sin cabecera y no puede identificar el navegador que se está utilizando para acceder.\n",
        "\n",
        "Cuando accedemos a una web pedimos acceso aportando mucha información en los metadatos: quién soy, dónde estoy...\n",
        "\n",
        "Al hacer un `get` a pelo no está la información del navegador, se nos detecta como bot y se nos corta el acceso.\n",
        "\n",
        "Esta información se contiene en lo que se llama **cabecera**. Tal como indico en el diccionario le estoy diciendo a esta web que estoy accediendo desde el navegador Mozilla en su versión 5.0. Estoy intentando sacar información de la web que, a priori, no debería poder sacar. Esta web pone un impedimento para ello, pero hay una solución, la cabecera (el **`header=`**).\n"
      ]
    },
    {
      "cell_type": "code",
      "execution_count": null,
      "metadata": {
        "id": "E-YrM1SUByEc"
      },
      "outputs": [],
      "source": [
        "http://httpbin.org/headers"
      ]
    },
    {
      "cell_type": "code",
      "execution_count": null,
      "metadata": {
        "id": "6j3UqATKBnf4"
      },
      "outputs": [],
      "source": [
        "https://useragentstring.com/pages/Browserlist/"
      ]
    },
    {
      "cell_type": "code",
      "execution_count": 75,
      "metadata": {
        "colab": {
          "base_uri": "https://localhost:8080/"
        },
        "id": "ew2FY5DNB5VP",
        "outputId": "a322d427-6345-41ea-8f5e-37a63df1a603"
      },
      "outputs": [
        {
          "name": "stdout",
          "output_type": "stream",
          "text": [
            "200\n",
            "\n",
            "<!DOCTYPE html>\n",
            "<html lang=\"en\" prefix=\"og: https://ogp.me/ns#\">\n",
            "    <head>\n",
            "        <meta charset=\"utf-8\">\n",
            "        <meta name=\"viewport\" content=\"width=device-width, initial-scale=1, shrink-to-fit=no\">\n",
            "        <meta name=\"version\" content=\"57ed0a7e3b29ae8f3a50b7d383902359f80ff602\">\n",
            "\n",
            "        <title>IP Location Finder - IP Lookup With Detailed Geolocation Data | KeyCDN Tools</title>\n",
            "        <meta name=\"description\" content=\"What is my IP address? Lookup an IP address or hostname to get the geographical location.\">\n",
            "\n",
            "        <meta name=\"twitter:card\" content=\"summary_large_image\">\n",
            "        <meta name=\"twitter:site\" content=\"@KeyCDN\">\n",
            "        <meta name=\"twitter:creator\" content=\"@KeyCDN\">\n",
            "        <meta property=\"og:url\" content=\"https://tools.keycdn.com/geo\">\n",
            "        <meta property=\"og:type\" content=\"website\">\n",
            "        <meta property=\"og:title\" content=\"IP Location Finder - IP Lookup With Detailed Geolocation Data | KeyCDN Tools\">\n",
            "        <meta property=\"og:description\" content=\"What is my IP address? Lookup an IP address or hostname to get the geographical location.\">\n",
            "        <meta property=\"og:image\" content=\"https://tools-7.kxcdn.com/img/og-image.png\">\n",
            "        <meta property=\"og:site_name\" content=\"KeyCDN\">\n",
            "        <meta property=\"og:locale\" content=\"en_US\">\n",
            "        <meta name=\"theme-color\" content=\"#047aed\">\n",
            "\n",
            "        <link rel=\"apple-touch-icon\" sizes=\"180x180\" href=\"https://tools-7.kxcdn.com/img/favicon/apple-touch-icon.png\">\n",
            "        <link rel=\"icon\" type=\"image/png\" sizes=\"32x32\" href=\"https://tools-7.kxcdn.com/img/favicon/favicon-32x32.png\">\n",
            "        <link rel=\"icon\" type=\"image/png\" sizes=\"16x16\" href=\"https://tools-7.kxcdn.com/img/favicon/favicon-16x16.png\">\n",
            "        <link rel=\"manifest\" href=\"https://tools-7.kxcdn.com/img/favicon/manifest.json\">\n",
            "        <link rel=\"mask-icon\" href=\"https://tools-7.kxcdn.com/img/favicon/safari-pinned-tab.svg\" color=\"#047aed\">\n",
            "        <link rel=\"shortcut icon\" href=\"https://tools-7.kxcdn.com/img/favicon/favicon.ico\">\n",
            "\n",
            "        <script async src=\"https://www.googletagmanager.com/gtag/js?id=G-BVMBHWSK8Y\"></script>\n",
            "        <script>\n",
            "            window.dataLayer = window.dataLayer || [];\n",
            "            function gtag(){dataLayer.push(arguments);}\n",
            "            gtag('js', new Date());\n",
            "\n",
            "            gtag('config', 'G-BVMBHWSK8Y');\n",
            "        </script>\n",
            "\n",
            "        <link rel=\"stylesheet\" href=\"https://tools-7.kxcdn.com/css/style-ae6967f11e.css\">\n",
            "        <script type=\"text/javascript\" src=\"https://tools-7.kxcdn.com/js/jquery-3218f98010.js\"></script>\n",
            "    </head>\n",
            "\n",
            "    <body>\n",
            "        <nav id=\"navbar\" class=\"navbar navbar--static navbar-expand-md bg-dark navbar-dark\">\n",
            "            <div class=\"container\">\n",
            "                <div class=\"position-relative mr-lg-5 mr-md-3\">\n",
            "                    <a href=\"https://www.keycdn.com\" class=\"navbar-brand mr-0\">\n",
            "                        <svg xmlns=\"http://www.w3.org/2000/svg\" id=\"logo-white\" class=\"icon-logo\" viewBox=\"0 0 137.09 39.849\">\n",
            "                            <path fill=\"#fff\" d=\"M3.971 32.104c.39.016.784.07 1.151.205v-.004l.056.02 4.842-4.723.178.237c.251.34.518.651.8.962l.103.119c.074.074.133.148.207.222l.12.118.117.119.104.103.118.119.104.103.133.119.12.104a12.868 12.868 0 0 0 8.025 3.065 12.983 12.983 0 0 0 6.915-1.792l.37.385c.43.459.874.918 1.304 1.377a15.234 15.234 0 0 1-8.648 2.414 15.224 15.224 0 0 1-9.418-3.554l.015-.03-3.107 3.063a3.873 3.873 0 1 1-3.707-2.752h.1zM33.58 12.127a15.231 15.231 0 0 1 2.206 8.323 15.172 15.172 0 0 1-3.805 9.684l.015.015 1.91 2.029c.77-.104 1.54.162 2.073.725a2.405 2.405 0 0 1-.089 3.391 2.405 2.405 0 0 1-3.39-.089 2.388 2.388 0 0 1-.608-2.102 739.91 739.91 0 0 0-3.36-3.569l-.194-.207.222-.178a12 12 0 0 0 1.6-1.525 12.818 12.818 0 0 0 3.243-8.233 12.84 12.84 0 0 0-1.6-6.575zM6.597 3.076c.68-.01 1.32.259 1.794.744a2.39 2.39 0 0 1 .607 2.103l3.673 3.85-.223.178c-.577.459-1.11.962-1.599 1.525a12.927 12.927 0 0 0-1.658 14.822l-1.763 1.718a15.112 15.112 0 0 1-2.22-8.366c.076-3.565 1.465-7.009 3.798-9.691l-2.022-2.11a2.406 2.406 0 0 1-2.073-.727 2.405 2.405 0 0 1 .09-3.391 2.43 2.43 0 0 1 1.367-.64c.076-.008.153-.01.23-.016zM37.498 0a3.873 3.873 0 1 1-1.208 7.553v.005l-.06-.021-5.257 4.99-.178-.237c-.28-.37-.592-.74-.918-1.08l-.06-.075-.162-.163-.296-.296-.104-.089-.103-.088-.133-.119-.104-.089-.134-.118a12.862 12.862 0 0 0-7.966-3.021c-2.444-.06-4.828.548-6.9 1.792l-1.689-1.763a15.233 15.233 0 0 1 8.648-2.414 15.154 15.154 0 0 1 9.418 3.569h.03l3.48-3.305A3.873 3.873 0 0 1 37.5 0z\"/>\n",
            "                            <path fill=\"#fff\" d=\"M20.617 8.646c.438.002.875.036 1.309.086 6.249.785 10.676 6.486 9.906 12.735-.785 6.25-6.486 10.677-12.735 9.907-6.249-.785-10.677-6.487-9.907-12.735.746-5.797 5.616-9.973 11.427-9.993zm-.171 4.894c-2.53.203-4.36 2.116-4.425 4.659.04 1.766.802 3.013 2.246 3.989l.348.189-.88 4.139h5.901l-.879-4.14c1.62-.834 2.547-2.365 2.593-4.177-.034-2.624-2.064-4.6-4.664-4.665l-.24.006zm.088-.025h-.015.015zM50.991 14.514c-.287 0-.489.058-.834.518l-4.772 6.21 2.07-11.644c.086-.431-.144-.575-.489-.575h-4.313c-.517 0-.66.259-.718.575l-3.709 21.016c-.086.46.201.633.517.633h4.313c.316 0 .632-.317.69-.633l1.15-6.555 2.501 6.555c.173.46.403.633.719.633h5.175c.374 0 .517-.345.374-.633l-3.68-8.05 6.555-7.446c.23-.23.201-.604-.202-.604zm20.014 5.923c0-3.422-1.955-6.182-6.124-6.182-4.801 0-8.079 2.128-9.027 7.82l-.317 1.898a8.854 8.854 0 0 0-.115 1.466c0 4.083 3.163 6.066 6.354 6.066 2.415 0 4.37-.287 6.296-.89.489-.145.633-.346.719-.806l.46-2.587v-.115c0-.26-.173-.374-.431-.374h-.115c-1.093.115-3.997.23-5.52.23-1.438 0-2.358-.201-2.358-1.639 0-.259.029-.546.086-.891h8.942a.737.737 0 0 0 .718-.633l.288-1.725c.086-.546.144-1.092.144-1.638zm-5.175-.202c0 .345-.058.748-.144 1.15h-4.255c.345-1.638 1.035-2.846 2.645-2.846 1.294 0 1.754.69 1.754 1.696zm24.527-5.29c0-.23-.259-.43-.517-.43h-4.744c-.316 0-.604.23-.719.545l-4.111 10.408h-.23c-.172 0-.201-.144-.23-.489l-.518-9.89c-.028-.316-.143-.575-.46-.575h-4.627c-.489 0-.719.23-.719.546v.087l1.667 13.685c.173 1.466.92 1.983 2.272 1.983h.374l-.403.95c-.345.833-.949 1.092-1.754 1.092-1.092 0-2.817-.173-3.881-.23h-.029c-.345 0-.69.287-.747.603l-.489 2.79v.085c0 .26.259.345.546.46.748.288 2.645.518 3.795.518 4.514 0 6.153-1.783 7.562-4.859l7.906-17.077a.533.533 0 0 0 .057-.202z\"/>\n",
            "                            <path fill=\"#fff\" d=\"M103.13 15.175c0-.287-.173-.373-.489-.46-.776-.2-2.156-.46-3.853-.46-4.427 0-7.273 2.214-8.193 7.562l-.374 2.156a11.156 11.156 0 0 0-.144 1.639c0 3.363 1.955 5.893 5.664 5.893 1.696 0 3.019-.23 4.025-.46.403-.086.633-.23.69-.603l.575-3.22v-.115c0-.26-.201-.432-.46-.432h-.057c-1.007.058-1.927.173-3.335.173-.978 0-1.553-.345-1.553-1.639 0-.345.029-.747.115-1.236l.374-2.156c.402-2.387 1.236-2.904 2.472-2.904 1.409 0 2.272.144 3.249.201h.058c.316 0 .603-.23.66-.546l.576-3.249zm17.943-5.663c0-.288-.258-.49-.546-.49h-4.284c-.316 0-.603.26-.66.576l-.863 4.859c-.575-.087-1.553-.202-2.013-.202-5.232 0-7.849 2.185-8.797 7.504l-.403 2.243a9.023 9.023 0 0 0-.144 1.466c0 3.536 2.444 6.037 6.383 6.037 2.587 0 5.031-.402 6.584-.718.92-.202 1.063-.374 1.15-.92l3.594-20.27zm-7.158 9.43l-1.38 7.877c-.547.086-1.15.144-1.984.144-1.236 0-1.667-.719-1.667-1.84 0-.345.028-.719.114-1.121l.403-2.243c.287-1.667.977-2.932 2.587-2.932.69 0 1.352.057 1.927.115zm23.176.2c0-3.22-1.323-4.887-4.514-4.887-1.063 0-2.645.26-4.657 1.582l.144-.748c.086-.431-.115-.575-.49-.575h-3.938c-.316 0-.604.259-.661.575l-2.76 15.525c-.058.403.259.633.661.633h4.111c.432 0 .719-.288.777-.633l1.955-11.126c.517-.288 1.58-.633 2.443-.633.978 0 1.352.23 1.352 1.122 0 .488-.115.977-.202 1.466l-1.61 9.171c-.057.288 0 .633.489.633h4.313c.345 0 .66-.317.718-.633l1.582-8.97c.143-.805.287-1.754.287-2.501z\"/>\n",
            "                        </svg>\n",
            "                        <svg xmlns=\"http://www.w3.org/2000/svg\" id=\"logo\" class=\"icon-logo d-none\" viewBox=\"0 0 137.09 39.849\">\n",
            "                            <path fill=\"#2e3234\" d=\"M3.971 32.104c.39.016.784.07 1.151.205v-.004l.056.02 4.842-4.723.178.237c.251.34.518.651.8.962l.103.119c.074.074.133.148.207.222l.12.118.117.119.104.103.118.119.104.103.133.119.12.104a12.868 12.868 0 0 0 8.025 3.065 12.983 12.983 0 0 0 6.915-1.792l.37.385c.43.459.874.918 1.304 1.377a15.234 15.234 0 0 1-8.648 2.414 15.224 15.224 0 0 1-9.418-3.554l.015-.03-3.107 3.063a3.873 3.873 0 1 1-3.707-2.752h.1zM33.58 12.127a15.231 15.231 0 0 1 2.206 8.323 15.172 15.172 0 0 1-3.805 9.684l.015.015 1.91 2.029c.77-.104 1.54.162 2.073.725a2.405 2.405 0 0 1-.089 3.391 2.405 2.405 0 0 1-3.39-.089 2.388 2.388 0 0 1-.608-2.102 739.91 739.91 0 0 0-3.36-3.569l-.194-.207.222-.178a12 12 0 0 0 1.6-1.525 12.818 12.818 0 0 0 3.243-8.233 12.84 12.84 0 0 0-1.6-6.575zM6.597 3.076c.68-.01 1.32.259 1.794.744a2.39 2.39 0 0 1 .607 2.103l3.673 3.85-.223.178c-.577.459-1.11.962-1.599 1.525a12.927 12.927 0 0 0-1.658 14.822l-1.763 1.718a15.112 15.112 0 0 1-2.22-8.366c.076-3.565 1.465-7.009 3.798-9.691l-2.022-2.11a2.406 2.406 0 0 1-2.073-.727 2.405 2.405 0 0 1 .09-3.391 2.43 2.43 0 0 1 1.367-.64c.076-.008.153-.01.23-.016zM37.498 0a3.873 3.873 0 1 1-1.208 7.553v.005l-.06-.021-5.257 4.99-.178-.237c-.28-.37-.592-.74-.918-1.08l-.06-.075-.162-.163-.296-.296-.104-.089-.103-.088-.133-.119-.104-.089-.134-.118a12.862 12.862 0 0 0-7.966-3.021c-2.444-.06-4.828.548-6.9 1.792l-1.689-1.763a15.233 15.233 0 0 1 8.648-2.414 15.154 15.154 0 0 1 9.418 3.569h.03l3.48-3.305A3.873 3.873 0 0 1 37.5 0z\"/>\n",
            "                            <path fill=\"#047aed\" d=\"M20.617 8.646c.438.002.875.036 1.309.086 6.249.785 10.676 6.486 9.906 12.735-.785 6.25-6.486 10.677-12.735 9.907-6.249-.785-10.677-6.487-9.907-12.735.746-5.797 5.616-9.973 11.427-9.993zm-.171 4.894c-2.53.203-4.36 2.116-4.425 4.659.04 1.766.802 3.013 2.246 3.989l.348.189-.88 4.139h5.901l-.879-4.14c1.62-.834 2.547-2.365 2.593-4.177-.034-2.624-2.064-4.6-4.664-4.665l-.24.006zm.088-.025h-.015.015zM50.991 14.514c-.287 0-.489.058-.834.518l-4.772 6.21 2.07-11.644c.086-.431-.144-.575-.489-.575h-4.313c-.517 0-.66.259-.718.575l-3.709 21.016c-.086.46.201.633.517.633h4.313c.316 0 .632-.317.69-.633l1.15-6.555 2.501 6.555c.173.46.403.633.719.633h5.175c.374 0 .517-.345.374-.633l-3.68-8.05 6.555-7.446c.23-.23.201-.604-.202-.604zm20.014 5.923c0-3.422-1.955-6.182-6.124-6.182-4.801 0-8.079 2.128-9.027 7.82l-.317 1.898a8.854 8.854 0 0 0-.115 1.466c0 4.083 3.163 6.066 6.354 6.066 2.415 0 4.37-.287 6.296-.89.489-.145.633-.346.719-.806l.46-2.587v-.115c0-.26-.173-.374-.431-.374h-.115c-1.093.115-3.997.23-5.52.23-1.438 0-2.358-.201-2.358-1.639 0-.259.029-.546.086-.891h8.942a.737.737 0 0 0 .718-.633l.288-1.725c.086-.546.144-1.092.144-1.638zm-5.175-.202c0 .345-.058.748-.144 1.15h-4.255c.345-1.638 1.035-2.846 2.645-2.846 1.294 0 1.754.69 1.754 1.696zm24.527-5.29c0-.23-.259-.43-.517-.43h-4.744c-.316 0-.604.23-.719.545l-4.111 10.408h-.23c-.172 0-.201-.144-.23-.489l-.518-9.89c-.028-.316-.143-.575-.46-.575h-4.627c-.489 0-.719.23-.719.546v.087l1.667 13.685c.173 1.466.92 1.983 2.272 1.983h.374l-.403.95c-.345.833-.949 1.092-1.754 1.092-1.092 0-2.817-.173-3.881-.23h-.029c-.345 0-.69.287-.747.603l-.489 2.79v.085c0 .26.259.345.546.46.748.288 2.645.518 3.795.518 4.514 0 6.153-1.783 7.562-4.859l7.906-17.077a.533.533 0 0 0 .057-.202z\"/>\n",
            "                            <path fill=\"#2e3234\" d=\"M103.13 15.175c0-.287-.173-.373-.489-.46-.776-.2-2.156-.46-3.853-.46-4.427 0-7.273 2.214-8.193 7.562l-.374 2.156a11.156 11.156 0 0 0-.144 1.639c0 3.363 1.955 5.893 5.664 5.893 1.696 0 3.019-.23 4.025-.46.403-.086.633-.23.69-.603l.575-3.22v-.115c0-.26-.201-.432-.46-.432h-.057c-1.007.058-1.927.173-3.335.173-.978 0-1.553-.345-1.553-1.639 0-.345.029-.747.115-1.236l.374-2.156c.402-2.387 1.236-2.904 2.472-2.904 1.409 0 2.272.144 3.249.201h.058c.316 0 .603-.23.66-.546l.576-3.249zm17.943-5.663c0-.288-.258-.49-.546-.49h-4.284c-.316 0-.603.26-.66.576l-.863 4.859c-.575-.087-1.553-.202-2.013-.202-5.232 0-7.849 2.185-8.797 7.504l-.403 2.243a9.023 9.023 0 0 0-.144 1.466c0 3.536 2.444 6.037 6.383 6.037 2.587 0 5.031-.402 6.584-.718.92-.202 1.063-.374 1.15-.92l3.594-20.27zm-7.158 9.43l-1.38 7.877c-.547.086-1.15.144-1.984.144-1.236 0-1.667-.719-1.667-1.84 0-.345.028-.719.114-1.121l.403-2.243c.287-1.667.977-2.932 2.587-2.932.69 0 1.352.057 1.927.115zm23.176.2c0-3.22-1.323-4.887-4.514-4.887-1.063 0-2.645.26-4.657 1.582l.144-.748c.086-.431-.115-.575-.49-.575h-3.938c-.316 0-.604.259-.661.575l-2.76 15.525c-.058.403.259.633.661.633h4.111c.432 0 .719-.288.777-.633l1.955-11.126c.517-.288 1.58-.633 2.443-.633.978 0 1.352.23 1.352 1.122 0 .488-.115.977-.202 1.466l-1.61 9.171c-.057.288 0 .633.489.633h4.313c.345 0 .66-.317.718-.633l1.582-8.97c.143-.805.287-1.754.287-2.501z\"/>\n",
            "                        </svg>\n",
            "                    </a>\n",
            "                    <div class=\"navbar-nav d-md-block d-none\">\n",
            "                        <a href=\"/\" class=\"xsmall logo-sub nav-link position-absolute p-0\">Tools</a>\n",
            "                    </div>\n",
            "                </div>\n",
            "\n",
            "                <div>\n",
            "                    <a href=\"#search\" id=\"link-search-mobi\" class=\"text-white t-none d-md-none d-inline py-2 px-3\" data-toggle=\"modal\">\n",
            "                        <svg xmlns=\"http://www.w3.org/2000/svg\" width=\"20\" height=\"20\" viewBox=\"0 0 16 16\">\n",
            "                            <path fill=\"currentColor\" stroke=\"currentColor\" stroke-width=\"4\" d=\"M24.997 43.903c4.098 0 7.862-1.444 10.822-3.842l12.843 12.843 2.565-2.564-12.844-12.843a17.14 17.14 0 0 0 3.84-10.82c0-9.5-7.727-17.227-17.226-17.227-9.498 0-17.226 7.728-17.226 17.227 0 9.498 7.728 17.226 17.226 17.226zm0-32.64c8.5 0 15.414 6.915 15.414 15.414 0 8.498-6.915 15.413-15.414 15.413-8.498 0-15.413-6.915-15.413-15.413 0-8.5 6.915-15.414 15.413-15.414z\" transform=\"matrix(.31782 0 0 .31783 -1.563 -2.097)\"/>\n",
            "                        </svg>\n",
            "                    </a>\n",
            "                    <button id=\"navbar-toggler\" class=\"navbar-toggler\" type=\"button\" data-toggle=\"collapse\" data-target=\"#navbar-nav\">\n",
            "                        <span class=\"navbar-toggler-icon\"></span>\n",
            "                    </button>\n",
            "                </div>\n",
            "\n",
            "                <div id=\"navbar-nav\" class=\"collapse navbar-collapse\">\n",
            "                    <ul class=\"navbar-nav mr-md-auto\">\n",
            "                        <li class=\"nav-item mt-md-0 mt-2\">\n",
            "                            <a href=\"https://www.keycdn.com/features\" class=\"nav-link px-lg-3\">Features</a>\n",
            "                        </li>\n",
            "                        <li id=\"dropdown-solutions\" class=\"nav-item dropdown\">\n",
            "                            <button id=\"button-solutions\" class=\"btn btn-link btn-link--dropdown nav-link d-md-flex align-items-md-center px-lg-3\" type=\"button\" data-toggle=\"dropdown\">Solutions\n",
            "                                <svg xmlns=\"http://www.w3.org/2000/svg\" class=\"icon-caret icon-caret--sm icon-caret--dropdown\" viewBox=\"0 0 42.242 23.949\">\n",
            "                                    <path fill=\"currentColor\" stroke=\"currentColor\" stroke-width=\"4\" d=\"M2.828 1.414l18.293 18.293L39.414 1.414l1.414 1.414-19.707 19.707L1.414 2.828z\"/>\n",
            "                                </svg>\n",
            "                            </button>\n",
            "                            <div class=\"dropdown-menu\">\n",
            "                                <a href=\"https://www.keycdn.com/cdn-services\" class=\"dropdown-item\">Website Acceleration</a>\n",
            "                                <a href=\"https://www.keycdn.com/image-processing\" class=\"dropdown-item\">Image Processing</a>\n",
            "                                <a href=\"https://www.keycdn.com/video-cdn\" class=\"dropdown-item\">Video & Streaming</a>\n",
            "                                <a href=\"https://www.keycdn.com/cdn-storage\" class=\"dropdown-item\">Cloud Storage</a>\n",
            "                            </div>\n",
            "                        </li>\n",
            "                        <li class=\"nav-item\">\n",
            "                            <a href=\"https://www.keycdn.com/network\" class=\"nav-link px-lg-3\">Network</a>\n",
            "                        </li>\n",
            "                        <li class=\"nav-item\">\n",
            "                            <a href=\"https://www.keycdn.com/pricing\" class=\"nav-link px-lg-3\">Pricing</a>\n",
            "                        </li>\n",
            "                        <li class=\"nav-item d-md-block d-none\">\n",
            "                            <a href=\"#search\" id=\"link-search\" class=\"nav-link px-lg-3\" data-toggle=\"modal\">\n",
            "                                <svg xmlns=\"http://www.w3.org/2000/svg\" width=\"16\" height=\"16\" viewBox=\"0 0 16 16\">\n",
            "                                    <path fill=\"currentColor\" stroke=\"currentColor\" stroke-width=\"4\" d=\"M24.997 43.903c4.098 0 7.862-1.444 10.822-3.842l12.843 12.843 2.565-2.564-12.844-12.843a17.14 17.14 0 0 0 3.84-10.82c0-9.5-7.727-17.227-17.226-17.227-9.498 0-17.226 7.728-17.226 17.227 0 9.498 7.728 17.226 17.226 17.226zm0-32.64c8.5 0 15.414 6.915 15.414 15.414 0 8.498-6.915 15.413-15.414 15.413-8.498 0-15.413-6.915-15.413-15.413 0-8.5 6.915-15.414 15.413-15.414z\" transform=\"matrix(.31782 0 0 .31783 -1.563 -2.097)\"/>\n",
            "                                </svg>\n",
            "                            </a>\n",
            "                        </li>\n",
            "                    </ul>\n",
            "                    <ul class=\"navbar-nav\">\n",
            "                        <li class=\"nav-item d-lg-block d-md-none d-sm-block\">\n",
            "                            <a href=\"https://www.keycdn.com/support\" class=\"nav-link px-lg-3\">Support</a>\n",
            "                        </li>\n",
            "                        <li class=\"nav-item\">\n",
            "                            <a href=\"https://app.keycdn.com/login\" class=\"nav-link px-lg-3\">Login</a>\n",
            "                        </li>\n",
            "                        <li class=\"nav-item d-md-block d-none pl-lg-3 pl-2\">\n",
            "                            <a href=\"https://app.keycdn.com/signup\" id=\"button-sign-up\" class=\"btn btn-white text-dark\">Sign Up</a>\n",
            "                        </li>\n",
            "                        <li class=\"nav-item d-md-none\">\n",
            "                            <a href=\"https://app.keycdn.com/signup\" id=\"link-sign-up\" class=\"nav-link text-primary\">Sign Up</a>\n",
            "                        </li>\n",
            "                    </ul>\n",
            "                </div>\n",
            "            </div>\n",
            "        </nav>\n",
            "\n",
            "        <div class=\"bg-dark text-white pt-9 pb-6\">\n",
            "            <div class=\"container\">\n",
            "                <div class=\"row justify-content-center\">\n",
            "                    <div class=\"col-md-8 text-center\">\n",
            "                        <h1>Tools</h1>\n",
            "                        <p class=\"lead opacity--7 mb-0\">Troubleshoot website, network, and CDN issues for fast resolutions.</p>\n",
            "                    </div>\n",
            "                </div>\n",
            "            </div>\n",
            "        </div>\n",
            "\n",
            "        \n",
            "<section class=\"py-6\">\n",
            "    <div class=\"container\">\n",
            "        <div class=\"content content--tools\">\n",
            "            <div class=\"row\">\n",
            "                <div class=\"col-lg-2 col-md-3 d-md-block d-none\">\n",
            "                    \n",
            "<ul id=\"sidebar\" class=\"sidebar__list sticky-top sticky-top--sidebar\">\n",
            "    <li class=\"sidebar__list-item\"><button class=\"btn btn-link sidebar__link p-0\" type=\"button\" data-toggle=\"collapse\" data-target=\"#web\">Web</button>        <ul id=\"web\" class=\"list-unstyled border-left-2 collapse py-1 pl-3 mt-2\" data-parent=\"#sidebar\">\n",
            "            <li class=\"sidebar__list-item-sub\"><a href=\"/speed\" class=\"sidebar__link\">Website Speed Test</a></li>\n",
            "            <li class=\"sidebar__list-item-sub\"><a href=\"/performance\" class=\"sidebar__link\">Performance Test</a></li>\n",
            "            <li class=\"sidebar__list-item-sub\"><a href=\"/curl\" class=\"sidebar__link\">HTTP Header Checker</a></li>\n",
            "            <li class=\"sidebar__list-item-sub\"><a href=\"/http2-test\" class=\"sidebar__link\">HTTP/2 Test</a></li>\n",
            "            <li class=\"sidebar__list-item-sub\"><a href=\"/brotli-test\" class=\"sidebar__link\">Brotli Test</a></li>\n",
            "        </ul>\n",
            "    </li>\n",
            "    <li class=\"sidebar__list-item\"><span class=\"text-primary\">Network</span>        <ul id=\"network\" class=\"list-unstyled border-left-2 py-1 pl-3 mt-2\" data-parent=\"#sidebar\">\n",
            "            <li class=\"sidebar__list-item-sub\"><a href=\"/geo\" class=\"sidebar__link text-primary\">IP Location Finder</a></li>\n",
            "            <li class=\"sidebar__list-item-sub\"><a href=\"/dig\" class=\"sidebar__link\">DNS Checker</a></li>\n",
            "            <li class=\"sidebar__list-item-sub\"><a href=\"/ping\" class=\"sidebar__link\">Ping Test</a></li>\n",
            "            <li class=\"sidebar__list-item-sub\"><a href=\"/ipv6-ping\" class=\"sidebar__link\">Ping IPv6 Test</a></li>\n",
            "            <li class=\"sidebar__list-item-sub\"><a href=\"/traceroute\" class=\"sidebar__link\">Traceroute Test</a></li>\n",
            "            <li class=\"sidebar__list-item-sub\"><a href=\"/bgp-looking-glass\" class=\"sidebar__link\">BGP Looking Glass</a></li>\n",
            "        </ul>\n",
            "    </li>\n",
            "    <li class=\"sidebar__list-item\"><button class=\"btn btn-link sidebar__link p-0\" type=\"button\" data-toggle=\"collapse\" data-target=\"#security\">Security</button>        <ul id=\"security\" class=\"list-unstyled border-left-2 collapse py-1 pl-3 mt-2\" data-parent=\"#sidebar\">\n",
            "            <li class=\"sidebar__list-item-sub\"><a href=\"/ssl\" class=\"sidebar__link\">Certificate Checker</a></li>\n",
            "            <li class=\"sidebar__list-item-sub\"><a href=\"/certificate-chain\" class=\"sidebar__link\">Certificate Chain Composer</a></li>\n",
            "            <li class=\"sidebar__list-item-sub\"><a href=\"/sha256-online-generator\" class=\"sidebar__link\">SHA256 Generator</a></li>\n",
            "            <li class=\"sidebar__list-item-sub\"><a href=\"/freak\" class=\"sidebar__link\">SSL FREAK Test</a></li>\n",
            "            <li class=\"sidebar__list-item-sub\"><a href=\"/logjam\" class=\"sidebar__link\">TLS Logjam Test</a></li>\n",
            "        </ul>\n",
            "    </li>\n",
            "    <li class=\"sidebar__list-item\"><button class=\"btn btn-link sidebar__link p-0\" type=\"button\" data-toggle=\"collapse\" data-target=\"#other\">Other</button>        <ul id=\"other\" class=\"list-unstyled border-left-2 collapse py-1 pl-3 mt-2\" data-parent=\"#sidebar\">\n",
            "            <li class=\"sidebar__list-item-sub\"><a href=\"/epoch-converter\" class=\"sidebar__link\">Epoch Converter</a></li>\n",
            "            <li class=\"sidebar__list-item-sub\"><a href=\"/hex-converter\" class=\"sidebar__link\">Hex Converter</a></li>\n",
            "        </ul>\n",
            "    </li>\n",
            "</ul>\n",
            "                </div>\n",
            "                <div class=\"col-12 mt-nav-secondary mb-nav-secondary d-md-none d-block\">\n",
            "                    \n",
            "<div id=\"accordion-nav-tools-mobi\">\n",
            "    <div id=\"parent-nav-tools-mobi\" class=\"card card--accordion card--shadow card--shadow-hfa mw-100\">\n",
            "        <div id=\"nav-tools-mobi\" class=\"card-header card-header--accordion p-0\">\n",
            "            <button class=\"btn btn-link text-muted font-weight-semi-bold w-100 p-3\" type=\"button\" data-toggle=\"collapse\" data-target=\"#body-nav-tools-mobi\">Tools\n",
            "                <svg xmlns=\"http://www.w3.org/2000/svg\" class=\"icon-caret icon-caret--accordion\" viewBox=\"0 0 42.242 23.949\">\n",
            "                    <path fill=\"#868e96\" stroke=\"#868e96\" stroke-width=\"3\" d=\"M2.828 1.414l18.293 18.293L39.414 1.414l1.414 1.414-19.707 19.707L1.414 2.828z\"/>\n",
            "                </svg>\n",
            "            </button>\n",
            "        </div>\n",
            "        <div id=\"body-nav-tools-mobi\" class=\"collapse\" data-parent=\"#accordion-nav-tools-mobi\">\n",
            "            <div class=\"card-body card-body--accordion p-3\">\n",
            "                <ul class=\"sidebar__list\">\n",
            "                    <li class=\"sidebar__list-item\"><span class=\"text-muted\">Web</span>\n",
            "                        <ul class=\"sidebar__list-sub border-left-2\">\n",
            "                            <li class=\"sidebar__list-item-sub\"><a href=\"/speed\" class=\"sidebar__link\">Website Speed Test</a></li>\n",
            "                            <li class=\"sidebar__list-item-sub\"><a href=\"/performance\" class=\"sidebar__link\">Performance Test</a></li>\n",
            "                            <li class=\"sidebar__list-item-sub\"><a href=\"/curl\" class=\"sidebar__link\">HTTP Header Checker</a></li>\n",
            "                            <li class=\"sidebar__list-item-sub\"><a href=\"/http2-test\" class=\"sidebar__link\">HTTP/2 Test</a></li>\n",
            "                            <li class=\"sidebar__list-item-sub\"><a href=\"/brotli-test\" class=\"sidebar__link\">Brotli Test</a></li>\n",
            "                        </ul>\n",
            "                    </li>\n",
            "                    <li class=\"sidebar__list-item\"><span class=\"text-primary\">Network</span>\n",
            "                        <ul class=\"sidebar__list-sub border-left-2\">\n",
            "                            <li class=\"sidebar__list-item-sub\"><a href=\"/geo\" class=\"sidebar__link text-primary\">IP Location Finder</a></li>\n",
            "                            <li class=\"sidebar__list-item-sub\"><a href=\"/dig\" class=\"sidebar__link\">DNS Checker</a></li>\n",
            "                            <li class=\"sidebar__list-item-sub\"><a href=\"/ping\" class=\"sidebar__link\">Ping Test</a></li>\n",
            "                            <li class=\"sidebar__list-item-sub\"><a href=\"/ipv6-ping\" class=\"sidebar__link\">Ping IPv6 Test</a></li>\n",
            "                            <li class=\"sidebar__list-item-sub\"><a href=\"/traceroute\" class=\"sidebar__link\">Traceroute Test</a></li>\n",
            "                            <li class=\"sidebar__list-item-sub\"><a href=\"/bgp-looking-glass\" class=\"sidebar__link\">BGP Looking Glass</a></li>\n",
            "                        </ul>\n",
            "                    </li>\n",
            "                    <li class=\"sidebar__list-item\"><span class=\"text-muted\">Security</span>\n",
            "                        <ul class=\"sidebar__list-sub border-left-2\">\n",
            "                            <li class=\"sidebar__list-item-sub\"><a href=\"/ssl\" class=\"sidebar__link\">Certificate Checker</a></li>\n",
            "                            <li class=\"sidebar__list-item-sub\"><a href=\"/certificate-chain\" class=\"sidebar__link\">Certificate Chain Composer</a></li>\n",
            "                            <li class=\"sidebar__list-item-sub\"><a href=\"/sha256-online-generator\" class=\"sidebar__link\">SHA256 Generator</a></li>\n",
            "                            <li class=\"sidebar__list-item-sub\"><a href=\"/freak\" class=\"sidebar__link\">SSL FREAK Test</a></li>\n",
            "                            <li class=\"sidebar__list-item-sub\"><a href=\"/logjam\" class=\"sidebar__link\">TLS Logjam Test</a></li>\n",
            "                        </ul>\n",
            "                    </li>\n",
            "                    <li class=\"sidebar__list-item\"><span class=\"text-muted\">Other</span>\n",
            "                        <ul class=\"sidebar__list-sub border-left-2\">\n",
            "                            <li class=\"sidebar__list-item-sub\"><a href=\"/epoch-converter\" class=\"sidebar__link\">Epoch Converter</a></li>\n",
            "                            <li class=\"sidebar__list-item-sub\"><a href=\"/hex-converter\" class=\"sidebar__link\">Hex Converter</a></li>\n",
            "                        </ul>\n",
            "                    </li>\n",
            "                </ul>\n",
            "            </div>\n",
            "        </div>\n",
            "    </div>\n",
            "</div>\n",
            "                </div>\n",
            "                <div class=\"col-lg-8 col-md-9 mt-col-sidebar\">\n",
            "                    <h1>IP Location Finder</h1>\n",
            "                    <p class=\"small text-uppercase text-muted font-weight-semi-bold line-height-headings mb-4\">IP lookup or IP address lookup with detailed IP geolocation data</p>\n",
            "\n",
            "                    <form id=\"geoForm\">\n",
            "                        <div class=\"row form-group\">\n",
            "                            <div class=\"col-xl-10 col-md-9\">\n",
            "                                <label for=\"host\" class=\"col-form-label\">IP address or hostname</label>\n",
            "                                <input id=\"host\" type=\"text\" name=\"host\" class=\"form-control\" placeholder=\"e.g. 47.61.8.143\" value=\"47.61.8.143\" required>\n",
            "                            </div>\n",
            "                            <div class=\"col-xl-2 col-md-3 d-flex align-items-end mt-md-0 mt-4\">\n",
            "                                <button id=\"geoBtn\" class=\"btn btn-primary d-flex justify-content-center align-items-center w-md-100\">Find</button>\n",
            "                            </div>\n",
            "                        </div>\n",
            "                    </form>\n",
            "\n",
            "                    <script type=\"text/javascript\">\n",
            "                        const geoPlots = {\n",
            "                            'geolocation': {\n",
            "                                latitude: 40.3907,\n",
            "                                longitude: -3.6997,\n",
            "                                tooltip: {\n",
            "                                    content: 'Madrid'\n",
            "                                }\n",
            "                            }\n",
            "                        }\n",
            "                    </script>\n",
            "\n",
            "                    <div id=\"ca-mobi\"></div>\n",
            "\n",
            "                    <div id=\"geoResult\" class=\"mt-4\">\n",
            "                                                <div class=\"bg-light medium rounded p-3\">\n",
            "                            <p class=\"small text-uppercase text-muted font-weight-semi-bold line-height-headings mb-2\">Location</p>                            <dl class=\"row mb-0\">\n",
            "                                <dt class=\"col-4\">City</dt><dd class=\"col-8 text-monospace\">Madrid</dd><dt class=\"col-4\">Region</dt><dd class=\"col-8 text-monospace\">Madrid (M)</dd><dt class=\"col-4\">Postal code</dt><dd class=\"col-8 text-monospace\">28026</dd><dt class=\"col-4\">Country</dt><dd class=\"col-8 text-monospace\">Spain (ES)</dd><dt class=\"col-4\">Continent</dt><dd class=\"col-8 text-monospace\">Europe (EU)</dd><dt class=\"col-4\">Coordinates</dt><dd class=\"col-8 text-monospace\">40.3907 (lat) / -3.6997 (long)</dd><dt class=\"col-4\">Time</dt><dd class=\"col-8 text-monospace\">2024-09-13 20:49:30 (Europe/Madrid)</dd>                            </dl>\n",
            "\n",
            "                            <p class=\"small text-uppercase text-muted font-weight-semi-bold line-height-headings mt-4 mb-2\">Network</p>\n",
            "                            <dl class=\"row mb-0\">\n",
            "                                <dt class=\"col-4\">IP address</dt><dd class=\"col-8 text-monospace\">47.61.8.143</dd><dt class=\"col-4\">Hostname</dt><dd class=\"col-8 text-monospace\">47-61-8-143.red-acceso.airtel.net</dd><dt class=\"col-4\">Provider</dt><dd class=\"col-8 text-monospace\">Vodafone Spain</dd><dt class=\"col-4\">ASN</dt><dd class=\"col-8 text-monospace\">12430</dd>                            </dl>\n",
            "                        </div>\n",
            "\n",
            "                        <div id=\"geoMap\" class=\"mapael mt-4\">\n",
            "                            <div class=\"map position-relative\"></div>\n",
            "                        </div>\n",
            "                                            </div>\n",
            "\n",
            "                    <h2 id=\"ip-location-finder-faq\" class=\"h4\">IP Location Finder FAQ</h2>\n",
            "                    <div class=\"row\">\n",
            "                        <div class=\"col-md-6\">\n",
            "                            <h3 class=\"h6\">What is IP Geolocation?</h3>\n",
            "                            <p><strong>IP geolocation</strong> is the mapping of an IP address to the geographic location of the internet from the connected device. By geographically mapping the IP address, it provides you with location information such as the country, state, city, zip code, latitude/longitude, ISP, area code, and other information.</p>\n",
            "\n",
            "                            <h3 class=\"h6\">How does the IP lookup work?</h3>\n",
            "                            <p><a class=\"text-dark\" href=\"https://whois.arin.net/ui\" target=\"_blank\" rel=\"nofollow noopener\">ARIN's WHOIS</a> service gives contact and registration information for the IP address lookup and is freely available to access. When a company acquires a block of IP addresses, a request is submitted and then those IPs are assigned to the requested ISP.</p>\n",
            "                            <p>The IP geolocation data gets updated automatically based on the databases of the regional Internet registry (RIR). <strong>Manual updates are not possible.</strong></p>\n",
            "                        </div>\n",
            "                        <div class=\"col-md-6\">\n",
            "                            <h3 class=\"h6\">How accurate is IP Geolocation?</h3>\n",
            "                            <p>There are many different <strong>IP location</strong> databases in which you can pull from. Most vendors claim a 98% or higher accuracy. IP mapping to specific cities can sometimes vary slightly based upon the location of the nearest ISP provider's network hub.</p>\n",
            "\n",
            "                            <h3 class=\"h6\">Does it support IPv6 location lookups?</h3>\n",
            "                            <p>Yes, IPv6 geoloaction is supported as well. Just enter a valid address above to perform the IPv6 lookup.</p>\n",
            "                        </div>\n",
            "                    </div>\n",
            "\n",
            "                    <h2 id=\"ip-location-finder-api\" class=\"h4\">IP Location Finder API</h2>\n",
            "                    <p>Get the IP geolocation data through the simple REST API. All the responses are JSON encoded. We are rate limiting requests (3r/s) to avoid overload of the system.</p>\n",
            "                    <p>Please note that the use of this service requires a link back in your project:\n",
            "                    [IP Location Finder by KeyCDN](https://tools.keycdn.com/geo)</p>\n",
            "                    <p>It is required to set the request header <code>User-Agent</code> in the format <code>keycdn-tools:https?://.*</code>, which must include the website you are using the API for. Missing attributions or invalid values will be blocked.</p>\n",
            "\n",
            "                    <pre class=\"language-none\">\n",
            "                        <code class=\"language-none\">\n",
            "                            <mark class=\"request request--get\">GET</mark>https://tools.keycdn.com/geo.json?host=<mark class=\"bg-warning\">{IP or hostname}</mark>\n",
            "                        </code>\n",
            "                    </pre>\n",
            "\n",
            "                    <h3 class=\"h6\">Request Parameters</h3>\n",
            "                    <div class=\"table-responsive table-responsive--tools text-nowrap\">\n",
            "                        <table class=\"table table--api\">\n",
            "                            <thead>\n",
            "                                <tr>\n",
            "                                    <th>Parameter</th>\n",
            "                                    <th>Value</th>\n",
            "                                    <th>Default</th>\n",
            "                                </tr>\n",
            "                            </thead>\n",
            "                            <tbody>\n",
            "                                <tr>\n",
            "                                    <td><code>host</code><br><span class=\"small text-muted ml-table-sub\">required</span></td>\n",
            "                                    <td><code>{alphanumeric}</code></td>\n",
            "                                    <td></td>\n",
            "                                </tr>\n",
            "                            </tbody>\n",
            "                        </table>\n",
            "                    </div>\n",
            "\n",
            "                    <h3 class=\"h6\">Response Parameters</h3>\n",
            "                    <div class=\"table-responsive table-responsive--tools text-nowrap\">\n",
            "                        <table class=\"table table--api\">\n",
            "                            <thead>\n",
            "                                <tr>\n",
            "                                    <th>Parameter</th>\n",
            "                                </tr>\n",
            "                            </thead>\n",
            "                            <tbody>\n",
            "                                <tr>\n",
            "                                    <td><code>host</code></td>\n",
            "                                </tr>\n",
            "                                <tr>\n",
            "                                    <td><code>ip</code></td>\n",
            "                                </tr>\n",
            "                                <tr>\n",
            "                                    <td><code>rdns</code></td>\n",
            "                                </tr>\n",
            "                                <tr>\n",
            "                                    <td><code>asn</code></td>\n",
            "                                </tr>\n",
            "                                <tr>\n",
            "                                    <td><code>country_name</code></td>\n",
            "                                </tr>\n",
            "                                <tr>\n",
            "                                    <td><code>country_code</code></td>\n",
            "                                </tr>\n",
            "                                <tr>\n",
            "                                    <td><code>region_name</code></td>\n",
            "                                </tr>\n",
            "                                <tr>\n",
            "                                    <td><code>region_code</code></td>\n",
            "                                </tr>\n",
            "                                <tr>\n",
            "                                    <td><code>city</code></td>\n",
            "                                </tr>\n",
            "                                <tr>\n",
            "                                    <td><code>postal_code</code></td>\n",
            "                                </tr>\n",
            "                                <tr>\n",
            "                                    <td><code>contitent_code</code></td>\n",
            "                                </tr>\n",
            "                                <tr>\n",
            "                                    <td><code>latitude</code></td>\n",
            "                                </tr>\n",
            "                                <tr>\n",
            "                                    <td><code>longitude</code></td>\n",
            "                                </tr>\n",
            "                                <tr>\n",
            "                                    <td><code>metro_code</code></td>\n",
            "                                </tr>\n",
            "                                <tr>\n",
            "                                    <td><code>timezone</code></td>\n",
            "                                </tr>\n",
            "                                <tr>\n",
            "                                    <td><code>datetime</code></td>\n",
            "                                </tr>\n",
            "                            </tbody>\n",
            "                        </table>\n",
            "                    </div>\n",
            "\n",
            "                    <h4 class=\"h6\">Example</h4>\n",
            "                    <ul id=\"nav-tabs-ip-location-finder\" class=\"nav nav-tabs mt-3\">\n",
            "                        <li class=\"nav-item\">\n",
            "                            <a id=\"nav-tabs-ip-location-finder-request\" class=\"nav-link active\" data-toggle=\"tab\" href=\"#ip-location-finder-request\">Request</a>\n",
            "                        </li>\n",
            "                        <li class=\"nav-item\">\n",
            "                            <a id=\"nav-tabs-ip-location-finder-response\" class=\"nav-link\" data-toggle=\"tab\" href=\"#ip-location-finder-response\">Response</a>\n",
            "                        </li>\n",
            "                    </ul>\n",
            "                    <div class=\"tab-content\">\n",
            "                        <div id=\"ip-location-finder-request\" class=\"tab-pane tab-pane--api active\">\n",
            "                            <pre class=\"language-bash\">\n",
            "                                <code class=\"language-bash\">\n",
            "                                    $ curl -H \"User-Agent: keycdn-tools:https://www.example.com\" \"https://tools.keycdn.com/geo.json?host=www.example.com\"\n",
            "                                </code>\n",
            "                            </pre>\n",
            "                        </div>\n",
            "                        <div id=\"ip-location-finder-response\" class=\"tab-pane tab-pane--api\">\n",
            "                            <pre class=\"language-javascript\">\n",
            "                                <code class=\"language-javascript\">\n",
            "                                    {\n",
            "                                        \"status\":\"success\",\n",
            "                                        \"description\":\"Data successfully received.\",\n",
            "                                        \"data\":{\n",
            "                                            \"geo\":{\n",
            "                                                \"host\":\"www.example.com\",\n",
            "                                                \"ip\":\"93.184.216.34\",\n",
            "                                                \"rdns\":\"93.184.216.34\",\n",
            "                                                \"asn\":15133,\n",
            "                                                \"isp\":\"MCI Communications Services, Inc. d\\/b\\/a Verizon Business\",\n",
            "                                                \"country_name\":\"United States\",\n",
            "                                                \"country_code\":\"US\",\n",
            "                                                \"region_name\":\"Massachusetts\",\n",
            "                                                \"region_code\":\"MA\",\n",
            "                                                \"city\":\"Norwell\",\n",
            "                                                \"postal_code\":\"02061\",\n",
            "                                                \"continent_name\":\"North America\",\n",
            "                                                \"continent_code\":\"NA\",\n",
            "                                                \"latitude\":42.1596,\n",
            "                                                \"longitude\":-70.8217,\n",
            "                                                \"metro_code\":506,\n",
            "                                                \"timezone\":\"America\\/New_York\",\n",
            "                                                \"datetime\":\"2019-06-01 00:00:00\"\n",
            "                                            }\n",
            "                                        }\n",
            "                                    }\n",
            "                                </code>\n",
            "                            </pre>\n",
            "                        </div>\n",
            "                    </div>\n",
            "                </div>\n",
            "                <div class=\"col-lg-2 d-lg-block d-none\">\n",
            "                    <ul id=\"sidebar-right\" class=\"sidebar__list sticky-top sticky-top--sidebar\">\n",
            "    <li id=\"ca\" class=\"sidebar__list-item\">\n",
            "        <script id=\"_carbonads_js\" type=\"text/javascript\" src=\"//cdn.carbonads.com/carbon.js?serve=CK7D52QN&placement=toolskeycdncom\"></script>\n",
            "    </li>\n",
            "</ul>\n",
            "                </div>\n",
            "            </div>\n",
            "        </div>\n",
            "    </div>\n",
            "</section>\n",
            "\n",
            "        <section class=\"bg-light py-6\">\n",
            "            <div class=\"container\">\n",
            "                <div class=\"row\">\n",
            "                    <div class=\"col text-center\">\n",
            "                        <h2>Get started for free</h2>\n",
            "                        <p class=\"mb-4\">Try KeyCDN with a free 14 day trial, no credit card required.</p>\n",
            "                        <a href=\"https://app.keycdn.com/signup\" class=\"btn btn-primary\">Get started</a><a href=\"https://www.keycdn.com/pricing\" class=\"btn btn-outline-primary btn-outline-primary--cta ml-2\">Pricing</a>\n",
            "                    </div>\n",
            "                </div>\n",
            "            </div>\n",
            "        </section>\n",
            "\n",
            "        <footer class=\"py-7\">\n",
            "            <div class=\"container\">\n",
            "                <div class=\"row justify-content-sm-center\">\n",
            "                    <div class=\"col-auto px-lg-5 px-4\">\n",
            "                        <h4 class=\"h6 text-uppercase\">Product</h4>\n",
            "                        <ul class=\"list-unstyled mb-4\">\n",
            "                            <li class=\"py-1\"><a href=\"https://www.keycdn.com/features\" class=\"footer-dark__link\">Features</a></li>\n",
            "                            <li class=\"py-1\"><a href=\"https://www.keycdn.com/network\" class=\"footer-dark__link\">Network</a></li>\n",
            "                            <li class=\"py-1\"><a href=\"https://www.keycdn.com/pricing\" class=\"footer-dark__link\">Pricing</a></li>\n",
            "                            <li class=\"py-1\"><a href=\"https://www.keycdn.com/api\" class=\"footer-dark__link\">API</a></li>\n",
            "                        </ul>\n",
            "                    </div>\n",
            "                    <div class=\"col-auto px-lg-5 px-4 mx-sm-0 mx-auto\">\n",
            "                        <h4 class=\"h6 text-uppercase\">Company</h4>\n",
            "                        <ul class=\"list-unstyled mb-4\">\n",
            "                            <li class=\"py-1\"><a href=\"https://www.keycdn.com/about\" class=\"footer-dark__link\">About</a></li>\n",
            "                            <li class=\"py-1\"><a href=\"https://www.keycdn.com/blog\" class=\"footer-dark__link\">Blog</a></li>\n",
            "                            <li class=\"py-1\"><a href=\"https://www.keycdn.com/contact\" class=\"footer-dark__link\">Contact</a></li>\n",
            "                            <li class=\"py-1\"><a href=\"https://www.keycdn.com/referral-program\" class=\"footer-dark__link\">Referrals</a></li>\n",
            "                            <li class=\"py-1\"><a href=\"https://www.keycdn.com/careers\" class=\"footer-dark__link\">Careers</a></li>\n",
            "                        </ul>\n",
            "                    </div>\n",
            "                    <div class=\"col-auto px-lg-5 px-4\">\n",
            "                        <h4 class=\"h6 text-uppercase\">Support</h4>\n",
            "                        <ul class=\"list-unstyled mb-4\">\n",
            "                            <li class=\"py-1\"><a href=\"https://www.keycdn.com/support\" class=\"footer-dark__link\">Knowledge Base</a></li>\n",
            "                            <li class=\"py-1\"><a href=\"https://status.keycdn.com\" class=\"footer-dark__link\">Network Status</a></li>\n",
            "                            <li class=\"py-1\"><a href=\"https://www.keycdn.com/open-source-cdn\" class=\"footer-dark__link\">Open Source</a></li>\n",
            "                            <li class=\"py-1\"><a href=\"https://www.keycdn.com/faq\" class=\"footer-dark__link\">FAQ</a></li>\n",
            "                            <li class=\"py-1\"><a href=\"https://tools.keycdn.com\" class=\"footer-dark__link\">Tools</a></li>\n",
            "                        </ul>\n",
            "                    </div>\n",
            "                    <div class=\"col-md-4 order-md-first text-md-left text-center mt-md-0 mt-5\">\n",
            "                        <a href=\"https://www.keycdn.com\">\n",
            "                            <svg xmlns=\"http://www.w3.org/2000/svg\" class=\"icon-logo icon-logo--lg\" viewBox=\"0 0 137.09 39.849\">\n",
            "                                <path fill=\"#2e3234\" d=\"M3.971 32.104c.39.016.784.07 1.151.205v-.004l.056.02 4.842-4.723.178.237c.251.34.518.651.8.962l.103.119c.074.074.133.148.207.222l.12.118.117.119.104.103.118.119.104.103.133.119.12.104a12.868 12.868 0 0 0 8.025 3.065 12.983 12.983 0 0 0 6.915-1.792l.37.385c.43.459.874.918 1.304 1.377a15.234 15.234 0 0 1-8.648 2.414 15.224 15.224 0 0 1-9.418-3.554l.015-.03-3.107 3.063a3.873 3.873 0 1 1-3.707-2.752h.1zM33.58 12.127a15.231 15.231 0 0 1 2.206 8.323 15.172 15.172 0 0 1-3.805 9.684l.015.015 1.91 2.029c.77-.104 1.54.162 2.073.725a2.405 2.405 0 0 1-.089 3.391 2.405 2.405 0 0 1-3.39-.089 2.388 2.388 0 0 1-.608-2.102 739.91 739.91 0 0 0-3.36-3.569l-.194-.207.222-.178a12 12 0 0 0 1.6-1.525 12.818 12.818 0 0 0 3.243-8.233 12.84 12.84 0 0 0-1.6-6.575zM6.597 3.076c.68-.01 1.32.259 1.794.744a2.39 2.39 0 0 1 .607 2.103l3.673 3.85-.223.178c-.577.459-1.11.962-1.599 1.525a12.927 12.927 0 0 0-1.658 14.822l-1.763 1.718a15.112 15.112 0 0 1-2.22-8.366c.076-3.565 1.465-7.009 3.798-9.691l-2.022-2.11a2.406 2.406 0 0 1-2.073-.727 2.405 2.405 0 0 1 .09-3.391 2.43 2.43 0 0 1 1.367-.64c.076-.008.153-.01.23-.016zM37.498 0a3.873 3.873 0 1 1-1.208 7.553v.005l-.06-.021-5.257 4.99-.178-.237c-.28-.37-.592-.74-.918-1.08l-.06-.075-.162-.163-.296-.296-.104-.089-.103-.088-.133-.119-.104-.089-.134-.118a12.862 12.862 0 0 0-7.966-3.021c-2.444-.06-4.828.548-6.9 1.792l-1.689-1.763a15.233 15.233 0 0 1 8.648-2.414 15.154 15.154 0 0 1 9.418 3.569h.03l3.48-3.305A3.873 3.873 0 0 1 37.5 0z\"/>\n",
            "                                <path fill=\"#047aed\" d=\"M20.617 8.646c.438.002.875.036 1.309.086 6.249.785 10.676 6.486 9.906 12.735-.785 6.25-6.486 10.677-12.735 9.907-6.249-.785-10.677-6.487-9.907-12.735.746-5.797 5.616-9.973 11.427-9.993zm-.171 4.894c-2.53.203-4.36 2.116-4.425 4.659.04 1.766.802 3.013 2.246 3.989l.348.189-.88 4.139h5.901l-.879-4.14c1.62-.834 2.547-2.365 2.593-4.177-.034-2.624-2.064-4.6-4.664-4.665l-.24.006zm.088-.025h-.015.015zM50.991 14.514c-.287 0-.489.058-.834.518l-4.772 6.21 2.07-11.644c.086-.431-.144-.575-.489-.575h-4.313c-.517 0-.66.259-.718.575l-3.709 21.016c-.086.46.201.633.517.633h4.313c.316 0 .632-.317.69-.633l1.15-6.555 2.501 6.555c.173.46.403.633.719.633h5.175c.374 0 .517-.345.374-.633l-3.68-8.05 6.555-7.446c.23-.23.201-.604-.202-.604zm20.014 5.923c0-3.422-1.955-6.182-6.124-6.182-4.801 0-8.079 2.128-9.027 7.82l-.317 1.898a8.854 8.854 0 0 0-.115 1.466c0 4.083 3.163 6.066 6.354 6.066 2.415 0 4.37-.287 6.296-.89.489-.145.633-.346.719-.806l.46-2.587v-.115c0-.26-.173-.374-.431-.374h-.115c-1.093.115-3.997.23-5.52.23-1.438 0-2.358-.201-2.358-1.639 0-.259.029-.546.086-.891h8.942a.737.737 0 0 0 .718-.633l.288-1.725c.086-.546.144-1.092.144-1.638zm-5.175-.202c0 .345-.058.748-.144 1.15h-4.255c.345-1.638 1.035-2.846 2.645-2.846 1.294 0 1.754.69 1.754 1.696zm24.527-5.29c0-.23-.259-.43-.517-.43h-4.744c-.316 0-.604.23-.719.545l-4.111 10.408h-.23c-.172 0-.201-.144-.23-.489l-.518-9.89c-.028-.316-.143-.575-.46-.575h-4.627c-.489 0-.719.23-.719.546v.087l1.667 13.685c.173 1.466.92 1.983 2.272 1.983h.374l-.403.95c-.345.833-.949 1.092-1.754 1.092-1.092 0-2.817-.173-3.881-.23h-.029c-.345 0-.69.287-.747.603l-.489 2.79v.085c0 .26.259.345.546.46.748.288 2.645.518 3.795.518 4.514 0 6.153-1.783 7.562-4.859l7.906-17.077a.533.533 0 0 0 .057-.202z\"/>\n",
            "                                <path fill=\"#2e3234\" d=\"M103.13 15.175c0-.287-.173-.373-.489-.46-.776-.2-2.156-.46-3.853-.46-4.427 0-7.273 2.214-8.193 7.562l-.374 2.156a11.156 11.156 0 0 0-.144 1.639c0 3.363 1.955 5.893 5.664 5.893 1.696 0 3.019-.23 4.025-.46.403-.086.633-.23.69-.603l.575-3.22v-.115c0-.26-.201-.432-.46-.432h-.057c-1.007.058-1.927.173-3.335.173-.978 0-1.553-.345-1.553-1.639 0-.345.029-.747.115-1.236l.374-2.156c.402-2.387 1.236-2.904 2.472-2.904 1.409 0 2.272.144 3.249.201h.058c.316 0 .603-.23.66-.546l.576-3.249zm17.943-5.663c0-.288-.258-.49-.546-.49h-4.284c-.316 0-.603.26-.66.576l-.863 4.859c-.575-.087-1.553-.202-2.013-.202-5.232 0-7.849 2.185-8.797 7.504l-.403 2.243a9.023 9.023 0 0 0-.144 1.466c0 3.536 2.444 6.037 6.383 6.037 2.587 0 5.031-.402 6.584-.718.92-.202 1.063-.374 1.15-.92l3.594-20.27zm-7.158 9.43l-1.38 7.877c-.547.086-1.15.144-1.984.144-1.236 0-1.667-.719-1.667-1.84 0-.345.028-.719.114-1.121l.403-2.243c.287-1.667.977-2.932 2.587-2.932.69 0 1.352.057 1.927.115zm23.176.2c0-3.22-1.323-4.887-4.514-4.887-1.063 0-2.645.26-4.657 1.582l.144-.748c.086-.431-.115-.575-.49-.575h-3.938c-.316 0-.604.259-.661.575l-2.76 15.525c-.058.403.259.633.661.633h4.111c.432 0 .719-.288.777-.633l1.955-11.126c.517-.288 1.58-.633 2.443-.633.978 0 1.352.23 1.352 1.122 0 .488-.115.977-.202 1.466l-1.61 9.171c-.057.288 0 .633.489.633h4.313c.345 0 .66-.317.718-.633l1.582-8.97c.143-.805.287-1.754.287-2.501z\"/>\n",
            "                            </svg>\n",
            "                        </a>\n",
            "                        <div class=\"small text-muted font-weight-light my-3\">© 2024 proinity LLC<br>\n",
            "                            <span class=\"footer__credits\">Made in Switzerland\n",
            "                                <span class=\"footer__credits-flag\">\n",
            "                                    <svg xmlns=\"http://www.w3.org/2000/svg\" class=\"icon-flag\" viewBox=\"0 0 640 480\">\n",
            "                                        <g fill-rule=\"evenodd\" stroke-width=\"1pt\">\n",
            "                                            <path fill=\"#d52b1e\" d=\"M0 0h640v480H0z\"/>\n",
            "                                            <g fill=\"#fff\">\n",
            "                                                <path d=\"M170 194.997h299.996v89.997H170z\"/>\n",
            "                                                <path d=\"M275 89.997h89.996v299.996H275z\"/>\n",
            "                                            </g>\n",
            "                                        </g>\n",
            "                                    </svg>\n",
            "                                </span>\n",
            "                            </span>\n",
            "                        </div>\n",
            "                        <ul class=\"list-inline d-flex justify-content-md-start justify-content-center\">\n",
            "                            <li class=\"list-inline-item\">\n",
            "                                <a href=\"https://twitter.com/keycdn\" target=\"_blank\" rel=\"noreferrer noopener\" class=\"footer-dark__link\">\n",
            "                                    <svg xmlns=\"http://www.w3.org/2000/svg\" class=\"icon icon--sm\" viewBox=\"0 0 512 415.84\">\n",
            "                                        <path fill=\"currentColor\" d=\"M459.37 103.63c.325 4.548.325 9.097.325 13.645 0 138.72-105.58 298.56-298.56 298.56-59.452 0-114.68-17.219-161.14-47.106 8.447.974 16.568 1.299 25.34 1.299 49.055 0 94.213-16.568 130.27-44.832-46.132-.975-84.792-31.188-98.112-72.772 6.498.974 12.995 1.624 19.818 1.624 9.421 0 18.843-1.3 27.614-3.573-48.081-9.747-84.143-51.98-84.143-102.98v-1.299c13.969 7.797 30.214 12.67 47.431 13.319-28.264-18.843-46.781-51.005-46.781-87.391 0-19.492 5.197-37.36 14.294-52.954 51.655 63.675 129.3 105.26 216.36 109.81-1.624-7.797-2.599-15.918-2.599-24.04 0-57.828 46.782-104.93 104.93-104.93 30.213 0 57.502 12.67 76.67 33.137 23.715-4.548 46.456-13.32 66.599-25.34-7.798 24.366-24.366 44.833-46.132 57.827 21.117-2.273 41.584-8.122 60.426-16.243-14.292 20.791-32.161 39.308-52.628 54.253z\"/>\n",
            "                                    </svg>\n",
            "                                </a>\n",
            "                            </li>\n",
            "                            <li class=\"list-inline-item\">\n",
            "                                <a href=\"https://github.com/keycdn\" target=\"_blank\" rel=\"noreferrer noopener\" class=\"footer-dark__link\">\n",
            "                                    <svg xmlns=\"http://www.w3.org/2000/svg\" class=\"icon icon--sm\" viewBox=\"0 0 496 483.61\">\n",
            "                                        <path fill=\"currentColor\" d=\"M165.9 389.4c0 2-2.3 3.6-5.2 3.6-3.3.3-5.6-1.3-5.6-3.6 0-2 2.3-3.6 5.2-3.6 3-.3 5.6 1.3 5.6 3.6zm-31.1-4.5c-.7 2 1.3 4.3 4.3 4.9 2.6 1 5.6 0 6.2-2s-1.3-4.3-4.3-5.2c-2.6-.7-5.5.3-6.2 2.3zm44.2-1.7c-2.9.7-4.9 2.6-4.6 4.9.3 2 2.9 3.3 5.9 2.6 2.9-.7 4.9-2.6 4.6-4.6-.3-1.9-3-3.2-5.9-2.9zM244.8 0C106.1 0 0 105.3 0 244c0 110.9 69.8 205.8 169.5 239.2 12.8 2.3 17.3-5.6 17.3-12.1 0-6.2-.3-40.4-.3-61.4 0 0-70 15-84.7-29.8 0 0-11.4-29.1-27.8-36.6 0 0-22.9-15.7 1.6-15.4 0 0 24.9 2 38.6 25.8 21.9 38.6 58.6 27.5 72.9 20.9 2.3-16 8.8-27.1 16-33.7-55.9-6.2-112.3-14.3-112.3-110.5 0-27.5 7.6-41.3 23.6-58.9-2.6-6.5-11.1-33.3 2.6-67.9 20.9-6.5 69 27 69 27 20-5.6 41.5-8.5 62.8-8.5s42.8 2.9 62.8 8.5c0 0 48.1-33.6 69-27 13.7 34.7 5.2 61.4 2.6 67.9 16 17.7 25.8 31.5 25.8 58.9 0 96.5-58.9 104.2-114.8 110.5 9.2 7.9 17 22.9 17 46.4 0 33.7-.3 75.4-.3 83.6 0 6.5 4.6 14.4 17.3 12.1C428.2 449.8 496 354.9 496 244 496 105.3 383.5 0 244.8 0zM97.2 344.9c-1.3 1-1 3.3.7 5.2 1.6 1.6 3.9 2.3 5.2 1 1.3-1 1-3.3-.7-5.2-1.6-1.6-3.9-2.3-5.2-1zm-10.8-8.1c-.7 1.3.3 2.9 2.3 3.9 1.6 1 3.6.7 4.3-.7.7-1.3-.3-2.9-2.3-3.9-2-.6-3.6-.3-4.3.7zm32.4 35.6c-1.6 1.3-1 4.3 1.3 6.2 2.3 2.3 5.2 2.6 6.5 1 1.3-1.3.7-4.3-1.3-6.2-2.2-2.3-5.2-2.6-6.5-1zm-11.4-14.7c-1.6 1-1.6 3.6 0 5.9s4.3 3.3 5.6 2.3c1.6-1.3 1.6-3.9 0-6.2-1.4-2.3-4-3.3-5.6-2z\"/>\n",
            "                                    </svg>\n",
            "                                </a>\n",
            "                            </li>\n",
            "                        </ul>\n",
            "                        <p class=\"small font-weight-light mt-4\"><a href=\"https://www.keycdn.com/terms\" class=\"footer-dark__link mr-2\">Terms</a><a href=\"https://www.keycdn.com/privacy\" class=\"footer-dark__link mr-2\">Privacy</a><a href=\"https://www.keycdn.com/gdpr\" class=\"footer-dark__link\">GDPR</a></p>\n",
            "                    </div>\n",
            "                </div>\n",
            "            </div>\n",
            "        </footer>\n",
            "        <div id=\"search\" class=\"modal pr-0\" tabindex=\"-1\">\n",
            "            <div class=\"modal-dialog modal-dialog--search\">\n",
            "                <div class=\"modal-content modal-content--search\">\n",
            "                    <div>\n",
            "                        <button type=\"button\" class=\"close search__close p-3\" data-dismiss=\"modal\">\n",
            "                            <span>&times;</span>\n",
            "                        </button>\n",
            "                    </div>\n",
            "                    <div class=\"modal-body modal-body--search\">\n",
            "                        <div class=\"container-fluid container-fluid--search\">\n",
            "                            <div class=\"row\">\n",
            "                                <div class=\"col\">\n",
            "                                    <input id=\"search-input\" type=\"text\" class=\"form-control form-control--search mb-5\" name=\"search-input\" placeholder=\"What are you looking for?\" autocomplete=\"off\">\n",
            "                                    <div id=\"search-results\"></div>\n",
            "                                </div>\n",
            "                            </div>\n",
            "                        </div>\n",
            "                    </div>\n",
            "                </div>\n",
            "            </div>\n",
            "        </div>\n",
            "        <div class=\"cookies-warning position-fixed d-none\">\n",
            "            <div class=\"container-fluid\">\n",
            "                <div class=\"row\">\n",
            "                    <div class=\"col\">\n",
            "                        <div class=\"alert alert-cookies alert-dismissible my-0\">\n",
            "                            KeyCDN uses cookies to make its website easier to use. <a href=\"https://www.keycdn.com/privacy\" class=\"alert-cookies__link\">Learn more about cookies.</a>\n",
            "                            <button type=\"button\" class=\"close alert-cookies__close\" data-dismiss=\"alert\">\n",
            "                                <span>&times;</span>\n",
            "                            </button>\n",
            "                        </div>\n",
            "                    </div>\n",
            "                </div>\n",
            "            </div>\n",
            "        </div>\n",
            "        <script type=\"text/javascript\" src=\"https://tools-7.kxcdn.com/js/app-9225d400aa.js\"></script>\n",
            "            <script type=\"text/javascript\" src=\"https://tools-7.kxcdn.com/js/geo-374a17548f.js\"></script>\n",
            "        </body>\n",
            "</html>\n",
            "\n"
          ]
        }
      ],
      "source": [
        "headers = {'User-Agent': 'Mozilla/5.0 (Windows NT 10.0; Win64; x64) AppleWebKit/537.36 (KHTML, like Gecko) Chrome/111.0.0.0 Safari/537.36'}\n",
        "\n",
        "html = req.get('https://tools.keycdn.com/geo', headers=headers)\n",
        "\n",
        "print(html.status_code)\n",
        "print(html.text)\n"
      ]
    },
    {
      "cell_type": "code",
      "execution_count": 78,
      "metadata": {
        "id": "SHgH4pRLgT4W"
      },
      "outputs": [],
      "source": [
        "# soup parseada para tener el HTML legible\n",
        "soup = bs(html.text, 'html.parser')"
      ]
    },
    {
      "cell_type": "code",
      "execution_count": 79,
      "metadata": {
        "colab": {
          "base_uri": "https://localhost:8080/"
        },
        "id": "qEKVAmScDE7q",
        "outputId": "f229a793-6069-47dd-da34-0f91aae8028f"
      },
      "outputs": [
        {
          "name": "stdout",
          "output_type": "stream",
          "text": [
            "<!DOCTYPE html>\n",
            "<html lang=\"en\" prefix=\"og: https://ogp.me/ns#\">\n",
            " <head>\n",
            "  <meta charset=\"utf-8\"/>\n",
            "  <meta content=\"width=device-width, initial-scale=1, shrink-to-fit=no\" name=\"viewport\"/>\n",
            "  <meta content=\"57ed0a7e3b29ae8f3a50b7d383902359f80ff602\" name=\"version\"/>\n",
            "  <title>\n",
            "   IP Location Finder - IP Lookup With Detailed Geolocation Data | KeyCDN Tools\n",
            "  </title>\n",
            "  <meta content=\"What is my IP address? Lookup an IP address or hostname to get the geographical location.\" name=\"description\"/>\n",
            "  <meta content=\"summary_large_image\" name=\"twitter:card\"/>\n",
            "  <meta content=\"@KeyCDN\" name=\"twitter:site\"/>\n",
            "  <meta content=\"@KeyCDN\" name=\"twitter:creator\"/>\n",
            "  <meta content=\"https://tools.keycdn.com/geo\" property=\"og:url\"/>\n",
            "  <meta content=\"website\" property=\"og:type\"/>\n",
            "  <meta content=\"IP Location Finder - IP Lookup With Detailed Geolocation Data | KeyCDN Tools\" property=\"og:title\"/>\n",
            "  <meta content=\"What is my IP address? Lookup an IP address or hostname to get the geographical location.\" propert\n"
          ]
        }
      ],
      "source": [
        "print(soup.prettify()[:1000]) # con .prettify() lo que hago es poner el código todavía más legible, con indentación\n",
        "                       # .prettify() funciona distinto dentro que fuera de la función print()"
      ]
    },
    {
      "cell_type": "markdown",
      "metadata": {
        "id": "CkzN8HY5SanB"
      },
      "source": [
        "Utilizando el inspector en el navegador podemos activar el cursor y encontrar en qué parte del código HTML se encuentra el elemento que necesitamos. Una vez identificado lo buscamos en nuestra *sopa*"
      ]
    },
    {
      "cell_type": "code",
      "execution_count": 80,
      "metadata": {
        "colab": {
          "base_uri": "https://localhost:8080/"
        },
        "id": "VO6TxR4hgT4W",
        "outputId": "f6e357fa-adac-4d89-b634-d76e6719704a"
      },
      "outputs": [
        {
          "name": "stdout",
          "output_type": "stream",
          "text": [
            "<div class=\"mt-4\" id=\"geoResult\">\n",
            " <div class=\"bg-light medium rounded p-3\">\n",
            "  <p class=\"small text-uppercase text-muted font-weight-semi-bold line-height-headings mb-2\">\n",
            "   Location\n",
            "  </p>\n",
            "  <dl class=\"row mb-0\">\n",
            "   <dt class=\"col-4\">\n",
            "    City\n",
            "   </dt>\n",
            "   <dd class=\"col-8 text-monospace\">\n",
            "    Madrid\n",
            "   </dd>\n",
            "   <dt class=\"col-4\">\n",
            "    Region\n",
            "   </dt>\n",
            "   <dd class=\"col-8 text-monospace\">\n",
            "    Madrid (M)\n",
            "   </dd>\n",
            "   <dt class=\"col-4\">\n",
            "    Postal code\n",
            "   </dt>\n",
            "   <dd class=\"col-8 text-monospace\">\n",
            "    28026\n",
            "   </dd>\n",
            "   <dt class=\"col-4\">\n",
            "    Country\n",
            "   </dt>\n",
            "   <dd class=\"col-8 text-monospace\">\n",
            "    Spain (ES)\n",
            "   </dd>\n",
            "   <dt class=\"col-4\">\n",
            "    Continent\n",
            "   </dt>\n",
            "   <dd class=\"col-8 text-monospace\">\n",
            "    Europe (EU)\n",
            "   </dd>\n",
            "   <dt class=\"col-4\">\n",
            "    Coordinates\n",
            "   </dt>\n",
            "   <dd class=\"col-8 text-monospace\">\n",
            "    40.3907 (lat) / -3.6997 (long)\n",
            "   </dd>\n",
            "   <dt class=\"col-4\">\n",
            "    Time\n",
            "   </dt>\n",
            "   <dd class=\"col-8 text-monospace\">\n",
            "    2024-09-13 20:49:30 (Europe/Madrid)\n",
            "   </dd>\n",
            "  </dl>\n",
            "  <p class=\"small text-uppercase text-muted font-weight-semi-bold line-height-headings mt-4 mb-2\">\n",
            "   Network\n",
            "  </p>\n",
            "  <dl class=\"row mb-0\">\n",
            "   <dt class=\"col-4\">\n",
            "    IP address\n",
            "   </dt>\n",
            "   <dd class=\"col-8 text-monospace\">\n",
            "    47.61.8.143\n",
            "   </dd>\n",
            "   <dt class=\"col-4\">\n",
            "    Hostname\n",
            "   </dt>\n",
            "   <dd class=\"col-8 text-monospace\">\n",
            "    47-61-8-143.red-acceso.airtel.net\n",
            "   </dd>\n",
            "   <dt class=\"col-4\">\n",
            "    Provider\n",
            "   </dt>\n",
            "   <dd class=\"col-8 text-monospace\">\n",
            "    Vodafone Spain\n",
            "   </dd>\n",
            "   <dt class=\"col-4\">\n",
            "    ASN\n",
            "   </dt>\n",
            "   <dd class=\"col-8 text-monospace\">\n",
            "    12430\n",
            "   </dd>\n",
            "  </dl>\n",
            " </div>\n",
            " <div class=\"mapael mt-4\" id=\"geoMap\">\n",
            "  <div class=\"map position-relative\">\n",
            "  </div>\n",
            " </div>\n",
            "</div>\n",
            "\n"
          ]
        }
      ],
      "source": [
        "print(soup.find('div', {'id': 'geoResult'}).prettify()) # conseguido con el inspector"
      ]
    },
    {
      "cell_type": "code",
      "execution_count": 81,
      "metadata": {
        "id": "WqhSKq_hgT4X"
      },
      "outputs": [],
      "source": [
        "tabla = soup.find('div', {'id': 'geoResult'}) # le llamo tabla, pues acabará siendo nuestra tabla\n",
        "info = tabla.find('div', {'class': 'bg-light medium rounded p-3'}) # la información que tendrá la tabla está aquí"
      ]
    },
    {
      "cell_type": "markdown",
      "metadata": {
        "id": "Mu8CGLQ5H8hl"
      },
      "source": [
        "Ahora que ya sé dónde está la información que necesito y tengo una variable que la alberga puedo buscar más profundamente hasta poder extraer los datos que necesito.\n",
        "\n",
        "Toda la info la tengo dentro de ese `<div>` veo que lo tengo en una lista con la class='row mb-0'\n",
        "\n",
        "Pero cuidado porque hay dos clases iguales.\n",
        "\n",
        "Accedamos a info para que nos dé todos los dd que tenga la clase col-8 text-monospace. Así me va a dar todos los que hay con la misma etiqueta y la misma clase.\n",
        "\n",
        "Por comodidad de lectura del código esto lo guardamos en una variable que se llama detalles, al fin y al cabo son los detalles de la información que contendrá la tabla que estamos haciendo."
      ]
    },
    {
      "cell_type": "code",
      "execution_count": 82,
      "metadata": {
        "id": "-MK75bafgT4X"
      },
      "outputs": [],
      "source": [
        "detalles = info.find_all('dd', {'class': 'col-8 text-monospace'}) #Elemento y añado tb la clase"
      ]
    },
    {
      "cell_type": "markdown",
      "metadata": {
        "id": "dHU3fTXjTP0o"
      },
      "source": [
        "Hago una lista con el texto que hay en cada elemento de detalles. Le llamo conexión pues son los detalles de la info de esa conexión IP."
      ]
    },
    {
      "cell_type": "code",
      "execution_count": 84,
      "metadata": {
        "colab": {
          "base_uri": "https://localhost:8080/"
        },
        "id": "Fm55VC-CTK1r",
        "outputId": "4d6471fd-d1d2-40b2-bc87-135b1911bab0"
      },
      "outputs": [
        {
          "data": {
            "text/plain": [
              "['Madrid',\n",
              " 'Madrid (M)',\n",
              " '28026',\n",
              " 'Spain (ES)',\n",
              " 'Europe (EU)',\n",
              " '40.3907 (lat) / -3.6997 (long)',\n",
              " '2024-09-13 20:49:30 (Europe/Madrid)',\n",
              " '47.61.8.143',\n",
              " '47-61-8-143.red-acceso.airtel.net',\n",
              " 'Vodafone Spain',\n",
              " '12430']"
            ]
          },
          "execution_count": 84,
          "metadata": {},
          "output_type": "execute_result"
        }
      ],
      "source": [
        "conexion = [e.text for e in detalles]\n",
        "conexion"
      ]
    },
    {
      "cell_type": "markdown",
      "metadata": {
        "id": "bv_CJdV8TU-X"
      },
      "source": [
        "Necesito hacer un diccionario. `<dd>` es la información de la conexión. `<dt>` tiene el nombre de cada una de las filas (es la columna de la izquierda). Por ello cojo esa información y lo uso como `keys`, mientras que lo que hemos hecho hasta ahora serán los `values`."
      ]
    },
    {
      "cell_type": "code",
      "execution_count": 85,
      "metadata": {
        "colab": {
          "base_uri": "https://localhost:8080/"
        },
        "id": "gUjHX9JLgT4X",
        "outputId": "e22424be-a827-4e14-bbf1-906030fac802"
      },
      "outputs": [
        {
          "data": {
            "text/plain": [
              "['City',\n",
              " 'Region',\n",
              " 'Postal code',\n",
              " 'Country',\n",
              " 'Continent',\n",
              " 'Coordinates',\n",
              " 'Time',\n",
              " 'IP address',\n",
              " 'Hostname',\n",
              " 'Provider',\n",
              " 'ASN']"
            ]
          },
          "execution_count": 85,
          "metadata": {},
          "output_type": "execute_result"
        }
      ],
      "source": [
        "keys = [e.text for e in tabla.find_all('dt')]\n",
        "keys"
      ]
    },
    {
      "cell_type": "code",
      "execution_count": 86,
      "metadata": {
        "id": "AwrIszcjgT4Y"
      },
      "outputs": [],
      "source": [
        "dicc = {k:v for k,v in zip(keys,conexion)} #me hago un diccionario con los datos de la conexion"
      ]
    },
    {
      "cell_type": "code",
      "execution_count": 87,
      "metadata": {
        "colab": {
          "base_uri": "https://localhost:8080/"
        },
        "id": "0fSgtoOGgT4Y",
        "outputId": "772b641d-d806-497a-e694-b23f9324b0e1"
      },
      "outputs": [
        {
          "data": {
            "text/plain": [
              "{'City': 'Madrid',\n",
              " 'Region': 'Madrid (M)',\n",
              " 'Postal code': '28026',\n",
              " 'Country': 'Spain (ES)',\n",
              " 'Continent': 'Europe (EU)',\n",
              " 'Coordinates': '40.3907 (lat) / -3.6997 (long)',\n",
              " 'Time': '2024-09-13 20:49:30 (Europe/Madrid)',\n",
              " 'IP address': '47.61.8.143',\n",
              " 'Hostname': '47-61-8-143.red-acceso.airtel.net',\n",
              " 'Provider': 'Vodafone Spain',\n",
              " 'ASN': '12430'}"
            ]
          },
          "execution_count": 87,
          "metadata": {},
          "output_type": "execute_result"
        }
      ],
      "source": [
        "dicc"
      ]
    },
    {
      "cell_type": "code",
      "execution_count": 88,
      "metadata": {
        "colab": {
          "base_uri": "https://localhost:8080/",
          "height": 425
        },
        "id": "MvYloUCxTrnb",
        "outputId": "ff29b4d1-1565-4ff7-b2f7-0e4a39b38baf"
      },
      "outputs": [
        {
          "data": {
            "text/html": [
              "<div>\n",
              "<style scoped>\n",
              "    .dataframe tbody tr th:only-of-type {\n",
              "        vertical-align: middle;\n",
              "    }\n",
              "\n",
              "    .dataframe tbody tr th {\n",
              "        vertical-align: top;\n",
              "    }\n",
              "\n",
              "    .dataframe thead th {\n",
              "        text-align: right;\n",
              "    }\n",
              "</style>\n",
              "<table border=\"1\" class=\"dataframe\">\n",
              "  <thead>\n",
              "    <tr style=\"text-align: right;\">\n",
              "      <th></th>\n",
              "      <th>City</th>\n",
              "      <th>Region</th>\n",
              "      <th>Postal code</th>\n",
              "      <th>Country</th>\n",
              "      <th>Continent</th>\n",
              "      <th>Coordinates</th>\n",
              "      <th>Time</th>\n",
              "      <th>IP address</th>\n",
              "      <th>Hostname</th>\n",
              "      <th>Provider</th>\n",
              "      <th>ASN</th>\n",
              "    </tr>\n",
              "  </thead>\n",
              "  <tbody>\n",
              "    <tr>\n",
              "      <th>0</th>\n",
              "      <td>Madrid</td>\n",
              "      <td>Madrid (M)</td>\n",
              "      <td>28026</td>\n",
              "      <td>Spain (ES)</td>\n",
              "      <td>Europe (EU)</td>\n",
              "      <td>40.3907 (lat) / -3.6997 (long)</td>\n",
              "      <td>2024-09-13 20:49:30 (Europe/Madrid)</td>\n",
              "      <td>47.61.8.143</td>\n",
              "      <td>47-61-8-143.red-acceso.airtel.net</td>\n",
              "      <td>Vodafone Spain</td>\n",
              "      <td>12430</td>\n",
              "    </tr>\n",
              "  </tbody>\n",
              "</table>\n",
              "</div>"
            ],
            "text/plain": [
              "     City      Region Postal code     Country    Continent  \\\n",
              "0  Madrid  Madrid (M)       28026  Spain (ES)  Europe (EU)   \n",
              "\n",
              "                      Coordinates                                 Time  \\\n",
              "0  40.3907 (lat) / -3.6997 (long)  2024-09-13 20:49:30 (Europe/Madrid)   \n",
              "\n",
              "    IP address                           Hostname        Provider    ASN  \n",
              "0  47.61.8.143  47-61-8-143.red-acceso.airtel.net  Vodafone Spain  12430  "
            ]
          },
          "execution_count": 88,
          "metadata": {},
          "output_type": "execute_result"
        }
      ],
      "source": [
        "import pandas as pd\n",
        "ip = pd.DataFrame(dicc, index = [0]) #al ser valores escalares hay que proporcionar índice\n",
        "                                     #al aportar índice se genera una única fila\n",
        "ip"
      ]
    },
    {
      "cell_type": "markdown",
      "metadata": {
        "id": "5h_BIGP-gT4Y"
      },
      "source": [
        "**Búsqueda según IP**\n",
        "\n",
        "https://tools.keycdn.com/geo?host=137.255.90.7"
      ]
    },
    {
      "cell_type": "code",
      "execution_count": 90,
      "metadata": {
        "colab": {
          "base_uri": "https://localhost:8080/",
          "height": 106
        },
        "id": "Eqz4-fyqMSpK",
        "outputId": "976df58e-b80d-426e-ee21-cb1c71715dac"
      },
      "outputs": [],
      "source": [
        "#Mi url ha cambiado\n",
        "url_ip = 'https://tools.keycdn.com/geo?host=88.30.60.7'"
      ]
    },
    {
      "cell_type": "code",
      "execution_count": 91,
      "metadata": {
        "id": "9IagFgwkgT4Y"
      },
      "outputs": [],
      "source": [
        "url_ip='https://tools.keycdn.com/geo?host=137.255.90.7' #tengo parámetros en la direccion en funcion de la IP que busque...🤔\n",
        "\n",
        "html = req.get(url_ip, headers = headers).content\n",
        "\n",
        "soup=bs(html, 'html.parser')"
      ]
    },
    {
      "cell_type": "code",
      "execution_count": 92,
      "metadata": {},
      "outputs": [
        {
          "name": "stdout",
          "output_type": "stream",
          "text": [
            "<!DOCTYPE html>\n",
            "<html lang=\"en\" prefix=\"og: https://ogp.me/ns#\">\n",
            " <head>\n",
            "  <meta charset=\"utf-8\"/>\n",
            "  <meta content=\"width=device-width, initial-scale=1, shrink-to-fit=no\" name=\"viewport\"/>\n",
            "  <meta content=\"57ed0a7e3b29ae8f3a50b7d383902359f80ff602\" name=\"version\"/>\n",
            "  <title>\n",
            "   IP Location Finder - IP Lookup With Detailed Geolocation Data | KeyCDN Tools\n",
            "  </title>\n",
            "  <meta content=\"What is my IP address? Lookup an IP address or hostname to get the geographical location.\" name=\"description\"/>\n",
            "  <meta content=\"summary_large_image\" name=\"twitter:card\"/>\n",
            "  <meta content=\"@KeyCDN\" name=\"twitter:site\"/>\n",
            "  <meta content=\"@KeyCDN\" name=\"twitter:creator\"/>\n",
            "  <meta content=\"https://tools.keycdn.com/geo?host=137.255.90.7\" property=\"og:url\"/>\n",
            "  <meta content=\"website\" property=\"og:type\"/>\n",
            "  <meta content=\"IP Location Finder - IP Lookup With Detailed Geolocation Data | KeyCDN Tools\" property=\"og:title\"/>\n",
            "  <meta content=\"What is my IP address? Lookup an IP address or hostname to get the geographical location.\" property=\"og:description\"/>\n",
            "  <meta content=\"https://tools-7.kxcdn.com/img/og-image.png\" property=\"og:image\"/>\n",
            "  <meta content=\"KeyCDN\" property=\"og:site_name\"/>\n",
            "  <meta content=\"en_US\" property=\"og:locale\"/>\n",
            "  <meta content=\"#047aed\" name=\"theme-color\"/>\n",
            "  <link href=\"https://tools-7.kxcdn.com/img/favicon/apple-touch-icon.png\" rel=\"apple-touch-icon\" sizes=\"180x180\"/>\n",
            "  <link href=\"https://tools-7.kxcdn.com/img/favicon/favicon-32x32.png\" rel=\"icon\" sizes=\"32x32\" type=\"image/png\"/>\n",
            "  <link href=\"https://tools-7.kxcdn.com/img/favicon/favicon-16x16.png\" rel=\"icon\" sizes=\"16x16\" type=\"image/png\"/>\n",
            "  <link href=\"https://tools-7.kxcdn.com/img/favicon/manifest.json\" rel=\"manifest\"/>\n",
            "  <link color=\"#047aed\" href=\"https://tools-7.kxcdn.com/img/favicon/safari-pinned-tab.svg\" rel=\"mask-icon\"/>\n",
            "  <link href=\"https://tools-7.kxcdn.com/img/favicon/favicon.ico\" rel=\"shortcut icon\"/>\n",
            "  <script async=\"\" src=\"https://www.googletagmanager.com/gtag/js?id=G-BVMBHWSK8Y\">\n",
            "  </script>\n",
            "  <script>\n",
            "   window.dataLayer = window.dataLayer || [];\n",
            "            function gtag(){dataLayer.push(arguments);}\n",
            "            gtag('js', new Date());\n",
            "\n",
            "            gtag('config', 'G-BVMBHWSK8Y');\n",
            "  </script>\n",
            "  <link href=\"https://tools-7.kxcdn.com/css/style-ae6967f11e.css\" rel=\"stylesheet\"/>\n",
            "  <script src=\"https://tools-7.kxcdn.com/js/jquery-3218f98010.js\" type=\"text/javascript\">\n",
            "  </script>\n",
            " </head>\n",
            " <body>\n",
            "  <nav class=\"navbar navbar--static navbar-expand-md bg-dark navbar-dark\" id=\"navbar\">\n",
            "   <div class=\"container\">\n",
            "    <div class=\"position-relative mr-lg-5 mr-md-3\">\n",
            "     <a class=\"navbar-brand mr-0\" href=\"https://www.keycdn.com\">\n",
            "      <svg class=\"icon-logo\" id=\"logo-white\" viewbox=\"0 0 137.09 39.849\" xmlns=\"http://www.w3.org/2000/svg\">\n",
            "       <path d=\"M3.971 32.104c.39.016.784.07 1.151.205v-.004l.056.02 4.842-4.723.178.237c.251.34.518.651.8.962l.103.119c.074.074.133.148.207.222l.12.118.117.119.104.103.118.119.104.103.133.119.12.104a12.868 12.868 0 0 0 8.025 3.065 12.983 12.983 0 0 0 6.915-1.792l.37.385c.43.459.874.918 1.304 1.377a15.234 15.234 0 0 1-8.648 2.414 15.224 15.224 0 0 1-9.418-3.554l.015-.03-3.107 3.063a3.873 3.873 0 1 1-3.707-2.752h.1zM33.58 12.127a15.231 15.231 0 0 1 2.206 8.323 15.172 15.172 0 0 1-3.805 9.684l.015.015 1.91 2.029c.77-.104 1.54.162 2.073.725a2.405 2.405 0 0 1-.089 3.391 2.405 2.405 0 0 1-3.39-.089 2.388 2.388 0 0 1-.608-2.102 739.91 739.91 0 0 0-3.36-3.569l-.194-.207.222-.178a12 12 0 0 0 1.6-1.525 12.818 12.818 0 0 0 3.243-8.233 12.84 12.84 0 0 0-1.6-6.575zM6.597 3.076c.68-.01 1.32.259 1.794.744a2.39 2.39 0 0 1 .607 2.103l3.673 3.85-.223.178c-.577.459-1.11.962-1.599 1.525a12.927 12.927 0 0 0-1.658 14.822l-1.763 1.718a15.112 15.112 0 0 1-2.22-8.366c.076-3.565 1.465-7.009 3.798-9.691l-2.022-2.11a2.406 2.406 0 0 1-2.073-.727 2.405 2.405 0 0 1 .09-3.391 2.43 2.43 0 0 1 1.367-.64c.076-.008.153-.01.23-.016zM37.498 0a3.873 3.873 0 1 1-1.208 7.553v.005l-.06-.021-5.257 4.99-.178-.237c-.28-.37-.592-.74-.918-1.08l-.06-.075-.162-.163-.296-.296-.104-.089-.103-.088-.133-.119-.104-.089-.134-.118a12.862 12.862 0 0 0-7.966-3.021c-2.444-.06-4.828.548-6.9 1.792l-1.689-1.763a15.233 15.233 0 0 1 8.648-2.414 15.154 15.154 0 0 1 9.418 3.569h.03l3.48-3.305A3.873 3.873 0 0 1 37.5 0z\" fill=\"#fff\">\n",
            "       </path>\n",
            "       <path d=\"M20.617 8.646c.438.002.875.036 1.309.086 6.249.785 10.676 6.486 9.906 12.735-.785 6.25-6.486 10.677-12.735 9.907-6.249-.785-10.677-6.487-9.907-12.735.746-5.797 5.616-9.973 11.427-9.993zm-.171 4.894c-2.53.203-4.36 2.116-4.425 4.659.04 1.766.802 3.013 2.246 3.989l.348.189-.88 4.139h5.901l-.879-4.14c1.62-.834 2.547-2.365 2.593-4.177-.034-2.624-2.064-4.6-4.664-4.665l-.24.006zm.088-.025h-.015.015zM50.991 14.514c-.287 0-.489.058-.834.518l-4.772 6.21 2.07-11.644c.086-.431-.144-.575-.489-.575h-4.313c-.517 0-.66.259-.718.575l-3.709 21.016c-.086.46.201.633.517.633h4.313c.316 0 .632-.317.69-.633l1.15-6.555 2.501 6.555c.173.46.403.633.719.633h5.175c.374 0 .517-.345.374-.633l-3.68-8.05 6.555-7.446c.23-.23.201-.604-.202-.604zm20.014 5.923c0-3.422-1.955-6.182-6.124-6.182-4.801 0-8.079 2.128-9.027 7.82l-.317 1.898a8.854 8.854 0 0 0-.115 1.466c0 4.083 3.163 6.066 6.354 6.066 2.415 0 4.37-.287 6.296-.89.489-.145.633-.346.719-.806l.46-2.587v-.115c0-.26-.173-.374-.431-.374h-.115c-1.093.115-3.997.23-5.52.23-1.438 0-2.358-.201-2.358-1.639 0-.259.029-.546.086-.891h8.942a.737.737 0 0 0 .718-.633l.288-1.725c.086-.546.144-1.092.144-1.638zm-5.175-.202c0 .345-.058.748-.144 1.15h-4.255c.345-1.638 1.035-2.846 2.645-2.846 1.294 0 1.754.69 1.754 1.696zm24.527-5.29c0-.23-.259-.43-.517-.43h-4.744c-.316 0-.604.23-.719.545l-4.111 10.408h-.23c-.172 0-.201-.144-.23-.489l-.518-9.89c-.028-.316-.143-.575-.46-.575h-4.627c-.489 0-.719.23-.719.546v.087l1.667 13.685c.173 1.466.92 1.983 2.272 1.983h.374l-.403.95c-.345.833-.949 1.092-1.754 1.092-1.092 0-2.817-.173-3.881-.23h-.029c-.345 0-.69.287-.747.603l-.489 2.79v.085c0 .26.259.345.546.46.748.288 2.645.518 3.795.518 4.514 0 6.153-1.783 7.562-4.859l7.906-17.077a.533.533 0 0 0 .057-.202z\" fill=\"#fff\">\n",
            "       </path>\n",
            "       <path d=\"M103.13 15.175c0-.287-.173-.373-.489-.46-.776-.2-2.156-.46-3.853-.46-4.427 0-7.273 2.214-8.193 7.562l-.374 2.156a11.156 11.156 0 0 0-.144 1.639c0 3.363 1.955 5.893 5.664 5.893 1.696 0 3.019-.23 4.025-.46.403-.086.633-.23.69-.603l.575-3.22v-.115c0-.26-.201-.432-.46-.432h-.057c-1.007.058-1.927.173-3.335.173-.978 0-1.553-.345-1.553-1.639 0-.345.029-.747.115-1.236l.374-2.156c.402-2.387 1.236-2.904 2.472-2.904 1.409 0 2.272.144 3.249.201h.058c.316 0 .603-.23.66-.546l.576-3.249zm17.943-5.663c0-.288-.258-.49-.546-.49h-4.284c-.316 0-.603.26-.66.576l-.863 4.859c-.575-.087-1.553-.202-2.013-.202-5.232 0-7.849 2.185-8.797 7.504l-.403 2.243a9.023 9.023 0 0 0-.144 1.466c0 3.536 2.444 6.037 6.383 6.037 2.587 0 5.031-.402 6.584-.718.92-.202 1.063-.374 1.15-.92l3.594-20.27zm-7.158 9.43l-1.38 7.877c-.547.086-1.15.144-1.984.144-1.236 0-1.667-.719-1.667-1.84 0-.345.028-.719.114-1.121l.403-2.243c.287-1.667.977-2.932 2.587-2.932.69 0 1.352.057 1.927.115zm23.176.2c0-3.22-1.323-4.887-4.514-4.887-1.063 0-2.645.26-4.657 1.582l.144-.748c.086-.431-.115-.575-.49-.575h-3.938c-.316 0-.604.259-.661.575l-2.76 15.525c-.058.403.259.633.661.633h4.111c.432 0 .719-.288.777-.633l1.955-11.126c.517-.288 1.58-.633 2.443-.633.978 0 1.352.23 1.352 1.122 0 .488-.115.977-.202 1.466l-1.61 9.171c-.057.288 0 .633.489.633h4.313c.345 0 .66-.317.718-.633l1.582-8.97c.143-.805.287-1.754.287-2.501z\" fill=\"#fff\">\n",
            "       </path>\n",
            "      </svg>\n",
            "      <svg class=\"icon-logo d-none\" id=\"logo\" viewbox=\"0 0 137.09 39.849\" xmlns=\"http://www.w3.org/2000/svg\">\n",
            "       <path d=\"M3.971 32.104c.39.016.784.07 1.151.205v-.004l.056.02 4.842-4.723.178.237c.251.34.518.651.8.962l.103.119c.074.074.133.148.207.222l.12.118.117.119.104.103.118.119.104.103.133.119.12.104a12.868 12.868 0 0 0 8.025 3.065 12.983 12.983 0 0 0 6.915-1.792l.37.385c.43.459.874.918 1.304 1.377a15.234 15.234 0 0 1-8.648 2.414 15.224 15.224 0 0 1-9.418-3.554l.015-.03-3.107 3.063a3.873 3.873 0 1 1-3.707-2.752h.1zM33.58 12.127a15.231 15.231 0 0 1 2.206 8.323 15.172 15.172 0 0 1-3.805 9.684l.015.015 1.91 2.029c.77-.104 1.54.162 2.073.725a2.405 2.405 0 0 1-.089 3.391 2.405 2.405 0 0 1-3.39-.089 2.388 2.388 0 0 1-.608-2.102 739.91 739.91 0 0 0-3.36-3.569l-.194-.207.222-.178a12 12 0 0 0 1.6-1.525 12.818 12.818 0 0 0 3.243-8.233 12.84 12.84 0 0 0-1.6-6.575zM6.597 3.076c.68-.01 1.32.259 1.794.744a2.39 2.39 0 0 1 .607 2.103l3.673 3.85-.223.178c-.577.459-1.11.962-1.599 1.525a12.927 12.927 0 0 0-1.658 14.822l-1.763 1.718a15.112 15.112 0 0 1-2.22-8.366c.076-3.565 1.465-7.009 3.798-9.691l-2.022-2.11a2.406 2.406 0 0 1-2.073-.727 2.405 2.405 0 0 1 .09-3.391 2.43 2.43 0 0 1 1.367-.64c.076-.008.153-.01.23-.016zM37.498 0a3.873 3.873 0 1 1-1.208 7.553v.005l-.06-.021-5.257 4.99-.178-.237c-.28-.37-.592-.74-.918-1.08l-.06-.075-.162-.163-.296-.296-.104-.089-.103-.088-.133-.119-.104-.089-.134-.118a12.862 12.862 0 0 0-7.966-3.021c-2.444-.06-4.828.548-6.9 1.792l-1.689-1.763a15.233 15.233 0 0 1 8.648-2.414 15.154 15.154 0 0 1 9.418 3.569h.03l3.48-3.305A3.873 3.873 0 0 1 37.5 0z\" fill=\"#2e3234\">\n",
            "       </path>\n",
            "       <path d=\"M20.617 8.646c.438.002.875.036 1.309.086 6.249.785 10.676 6.486 9.906 12.735-.785 6.25-6.486 10.677-12.735 9.907-6.249-.785-10.677-6.487-9.907-12.735.746-5.797 5.616-9.973 11.427-9.993zm-.171 4.894c-2.53.203-4.36 2.116-4.425 4.659.04 1.766.802 3.013 2.246 3.989l.348.189-.88 4.139h5.901l-.879-4.14c1.62-.834 2.547-2.365 2.593-4.177-.034-2.624-2.064-4.6-4.664-4.665l-.24.006zm.088-.025h-.015.015zM50.991 14.514c-.287 0-.489.058-.834.518l-4.772 6.21 2.07-11.644c.086-.431-.144-.575-.489-.575h-4.313c-.517 0-.66.259-.718.575l-3.709 21.016c-.086.46.201.633.517.633h4.313c.316 0 .632-.317.69-.633l1.15-6.555 2.501 6.555c.173.46.403.633.719.633h5.175c.374 0 .517-.345.374-.633l-3.68-8.05 6.555-7.446c.23-.23.201-.604-.202-.604zm20.014 5.923c0-3.422-1.955-6.182-6.124-6.182-4.801 0-8.079 2.128-9.027 7.82l-.317 1.898a8.854 8.854 0 0 0-.115 1.466c0 4.083 3.163 6.066 6.354 6.066 2.415 0 4.37-.287 6.296-.89.489-.145.633-.346.719-.806l.46-2.587v-.115c0-.26-.173-.374-.431-.374h-.115c-1.093.115-3.997.23-5.52.23-1.438 0-2.358-.201-2.358-1.639 0-.259.029-.546.086-.891h8.942a.737.737 0 0 0 .718-.633l.288-1.725c.086-.546.144-1.092.144-1.638zm-5.175-.202c0 .345-.058.748-.144 1.15h-4.255c.345-1.638 1.035-2.846 2.645-2.846 1.294 0 1.754.69 1.754 1.696zm24.527-5.29c0-.23-.259-.43-.517-.43h-4.744c-.316 0-.604.23-.719.545l-4.111 10.408h-.23c-.172 0-.201-.144-.23-.489l-.518-9.89c-.028-.316-.143-.575-.46-.575h-4.627c-.489 0-.719.23-.719.546v.087l1.667 13.685c.173 1.466.92 1.983 2.272 1.983h.374l-.403.95c-.345.833-.949 1.092-1.754 1.092-1.092 0-2.817-.173-3.881-.23h-.029c-.345 0-.69.287-.747.603l-.489 2.79v.085c0 .26.259.345.546.46.748.288 2.645.518 3.795.518 4.514 0 6.153-1.783 7.562-4.859l7.906-17.077a.533.533 0 0 0 .057-.202z\" fill=\"#047aed\">\n",
            "       </path>\n",
            "       <path d=\"M103.13 15.175c0-.287-.173-.373-.489-.46-.776-.2-2.156-.46-3.853-.46-4.427 0-7.273 2.214-8.193 7.562l-.374 2.156a11.156 11.156 0 0 0-.144 1.639c0 3.363 1.955 5.893 5.664 5.893 1.696 0 3.019-.23 4.025-.46.403-.086.633-.23.69-.603l.575-3.22v-.115c0-.26-.201-.432-.46-.432h-.057c-1.007.058-1.927.173-3.335.173-.978 0-1.553-.345-1.553-1.639 0-.345.029-.747.115-1.236l.374-2.156c.402-2.387 1.236-2.904 2.472-2.904 1.409 0 2.272.144 3.249.201h.058c.316 0 .603-.23.66-.546l.576-3.249zm17.943-5.663c0-.288-.258-.49-.546-.49h-4.284c-.316 0-.603.26-.66.576l-.863 4.859c-.575-.087-1.553-.202-2.013-.202-5.232 0-7.849 2.185-8.797 7.504l-.403 2.243a9.023 9.023 0 0 0-.144 1.466c0 3.536 2.444 6.037 6.383 6.037 2.587 0 5.031-.402 6.584-.718.92-.202 1.063-.374 1.15-.92l3.594-20.27zm-7.158 9.43l-1.38 7.877c-.547.086-1.15.144-1.984.144-1.236 0-1.667-.719-1.667-1.84 0-.345.028-.719.114-1.121l.403-2.243c.287-1.667.977-2.932 2.587-2.932.69 0 1.352.057 1.927.115zm23.176.2c0-3.22-1.323-4.887-4.514-4.887-1.063 0-2.645.26-4.657 1.582l.144-.748c.086-.431-.115-.575-.49-.575h-3.938c-.316 0-.604.259-.661.575l-2.76 15.525c-.058.403.259.633.661.633h4.111c.432 0 .719-.288.777-.633l1.955-11.126c.517-.288 1.58-.633 2.443-.633.978 0 1.352.23 1.352 1.122 0 .488-.115.977-.202 1.466l-1.61 9.171c-.057.288 0 .633.489.633h4.313c.345 0 .66-.317.718-.633l1.582-8.97c.143-.805.287-1.754.287-2.501z\" fill=\"#2e3234\">\n",
            "       </path>\n",
            "      </svg>\n",
            "     </a>\n",
            "     <div class=\"navbar-nav d-md-block d-none\">\n",
            "      <a class=\"xsmall logo-sub nav-link position-absolute p-0\" href=\"/\">\n",
            "       Tools\n",
            "      </a>\n",
            "     </div>\n",
            "    </div>\n",
            "    <div>\n",
            "     <a class=\"text-white t-none d-md-none d-inline py-2 px-3\" data-toggle=\"modal\" href=\"#search\" id=\"link-search-mobi\">\n",
            "      <svg height=\"20\" viewbox=\"0 0 16 16\" width=\"20\" xmlns=\"http://www.w3.org/2000/svg\">\n",
            "       <path d=\"M24.997 43.903c4.098 0 7.862-1.444 10.822-3.842l12.843 12.843 2.565-2.564-12.844-12.843a17.14 17.14 0 0 0 3.84-10.82c0-9.5-7.727-17.227-17.226-17.227-9.498 0-17.226 7.728-17.226 17.227 0 9.498 7.728 17.226 17.226 17.226zm0-32.64c8.5 0 15.414 6.915 15.414 15.414 0 8.498-6.915 15.413-15.414 15.413-8.498 0-15.413-6.915-15.413-15.413 0-8.5 6.915-15.414 15.413-15.414z\" fill=\"currentColor\" stroke=\"currentColor\" stroke-width=\"4\" transform=\"matrix(.31782 0 0 .31783 -1.563 -2.097)\">\n",
            "       </path>\n",
            "      </svg>\n",
            "     </a>\n",
            "     <button class=\"navbar-toggler\" data-target=\"#navbar-nav\" data-toggle=\"collapse\" id=\"navbar-toggler\" type=\"button\">\n",
            "      <span class=\"navbar-toggler-icon\">\n",
            "      </span>\n",
            "     </button>\n",
            "    </div>\n",
            "    <div class=\"collapse navbar-collapse\" id=\"navbar-nav\">\n",
            "     <ul class=\"navbar-nav mr-md-auto\">\n",
            "      <li class=\"nav-item mt-md-0 mt-2\">\n",
            "       <a class=\"nav-link px-lg-3\" href=\"https://www.keycdn.com/features\">\n",
            "        Features\n",
            "       </a>\n",
            "      </li>\n",
            "      <li class=\"nav-item dropdown\" id=\"dropdown-solutions\">\n",
            "       <button class=\"btn btn-link btn-link--dropdown nav-link d-md-flex align-items-md-center px-lg-3\" data-toggle=\"dropdown\" id=\"button-solutions\" type=\"button\">\n",
            "        Solutions\n",
            "        <svg class=\"icon-caret icon-caret--sm icon-caret--dropdown\" viewbox=\"0 0 42.242 23.949\" xmlns=\"http://www.w3.org/2000/svg\">\n",
            "         <path d=\"M2.828 1.414l18.293 18.293L39.414 1.414l1.414 1.414-19.707 19.707L1.414 2.828z\" fill=\"currentColor\" stroke=\"currentColor\" stroke-width=\"4\">\n",
            "         </path>\n",
            "        </svg>\n",
            "       </button>\n",
            "       <div class=\"dropdown-menu\">\n",
            "        <a class=\"dropdown-item\" href=\"https://www.keycdn.com/cdn-services\">\n",
            "         Website Acceleration\n",
            "        </a>\n",
            "        <a class=\"dropdown-item\" href=\"https://www.keycdn.com/image-processing\">\n",
            "         Image Processing\n",
            "        </a>\n",
            "        <a class=\"dropdown-item\" href=\"https://www.keycdn.com/video-cdn\">\n",
            "         Video &amp; Streaming\n",
            "        </a>\n",
            "        <a class=\"dropdown-item\" href=\"https://www.keycdn.com/cdn-storage\">\n",
            "         Cloud Storage\n",
            "        </a>\n",
            "       </div>\n",
            "      </li>\n",
            "      <li class=\"nav-item\">\n",
            "       <a class=\"nav-link px-lg-3\" href=\"https://www.keycdn.com/network\">\n",
            "        Network\n",
            "       </a>\n",
            "      </li>\n",
            "      <li class=\"nav-item\">\n",
            "       <a class=\"nav-link px-lg-3\" href=\"https://www.keycdn.com/pricing\">\n",
            "        Pricing\n",
            "       </a>\n",
            "      </li>\n",
            "      <li class=\"nav-item d-md-block d-none\">\n",
            "       <a class=\"nav-link px-lg-3\" data-toggle=\"modal\" href=\"#search\" id=\"link-search\">\n",
            "        <svg height=\"16\" viewbox=\"0 0 16 16\" width=\"16\" xmlns=\"http://www.w3.org/2000/svg\">\n",
            "         <path d=\"M24.997 43.903c4.098 0 7.862-1.444 10.822-3.842l12.843 12.843 2.565-2.564-12.844-12.843a17.14 17.14 0 0 0 3.84-10.82c0-9.5-7.727-17.227-17.226-17.227-9.498 0-17.226 7.728-17.226 17.227 0 9.498 7.728 17.226 17.226 17.226zm0-32.64c8.5 0 15.414 6.915 15.414 15.414 0 8.498-6.915 15.413-15.414 15.413-8.498 0-15.413-6.915-15.413-15.413 0-8.5 6.915-15.414 15.413-15.414z\" fill=\"currentColor\" stroke=\"currentColor\" stroke-width=\"4\" transform=\"matrix(.31782 0 0 .31783 -1.563 -2.097)\">\n",
            "         </path>\n",
            "        </svg>\n",
            "       </a>\n",
            "      </li>\n",
            "     </ul>\n",
            "     <ul class=\"navbar-nav\">\n",
            "      <li class=\"nav-item d-lg-block d-md-none d-sm-block\">\n",
            "       <a class=\"nav-link px-lg-3\" href=\"https://www.keycdn.com/support\">\n",
            "        Support\n",
            "       </a>\n",
            "      </li>\n",
            "      <li class=\"nav-item\">\n",
            "       <a class=\"nav-link px-lg-3\" href=\"https://app.keycdn.com/login\">\n",
            "        Login\n",
            "       </a>\n",
            "      </li>\n",
            "      <li class=\"nav-item d-md-block d-none pl-lg-3 pl-2\">\n",
            "       <a class=\"btn btn-white text-dark\" href=\"https://app.keycdn.com/signup\" id=\"button-sign-up\">\n",
            "        Sign Up\n",
            "       </a>\n",
            "      </li>\n",
            "      <li class=\"nav-item d-md-none\">\n",
            "       <a class=\"nav-link text-primary\" href=\"https://app.keycdn.com/signup\" id=\"link-sign-up\">\n",
            "        Sign Up\n",
            "       </a>\n",
            "      </li>\n",
            "     </ul>\n",
            "    </div>\n",
            "   </div>\n",
            "  </nav>\n",
            "  <div class=\"bg-dark text-white pt-9 pb-6\">\n",
            "   <div class=\"container\">\n",
            "    <div class=\"row justify-content-center\">\n",
            "     <div class=\"col-md-8 text-center\">\n",
            "      <h1>\n",
            "       Tools\n",
            "      </h1>\n",
            "      <p class=\"lead opacity--7 mb-0\">\n",
            "       Troubleshoot website, network, and CDN issues for fast resolutions.\n",
            "      </p>\n",
            "     </div>\n",
            "    </div>\n",
            "   </div>\n",
            "  </div>\n",
            "  <section class=\"py-6\">\n",
            "   <div class=\"container\">\n",
            "    <div class=\"content content--tools\">\n",
            "     <div class=\"row\">\n",
            "      <div class=\"col-lg-2 col-md-3 d-md-block d-none\">\n",
            "       <ul class=\"sidebar__list sticky-top sticky-top--sidebar\" id=\"sidebar\">\n",
            "        <li class=\"sidebar__list-item\">\n",
            "         <button class=\"btn btn-link sidebar__link p-0\" data-target=\"#web\" data-toggle=\"collapse\" type=\"button\">\n",
            "          Web\n",
            "         </button>\n",
            "         <ul class=\"list-unstyled border-left-2 collapse py-1 pl-3 mt-2\" data-parent=\"#sidebar\" id=\"web\">\n",
            "          <li class=\"sidebar__list-item-sub\">\n",
            "           <a class=\"sidebar__link\" href=\"/speed\">\n",
            "            Website Speed Test\n",
            "           </a>\n",
            "          </li>\n",
            "          <li class=\"sidebar__list-item-sub\">\n",
            "           <a class=\"sidebar__link\" href=\"/performance\">\n",
            "            Performance Test\n",
            "           </a>\n",
            "          </li>\n",
            "          <li class=\"sidebar__list-item-sub\">\n",
            "           <a class=\"sidebar__link\" href=\"/curl\">\n",
            "            HTTP Header Checker\n",
            "           </a>\n",
            "          </li>\n",
            "          <li class=\"sidebar__list-item-sub\">\n",
            "           <a class=\"sidebar__link\" href=\"/http2-test\">\n",
            "            HTTP/2 Test\n",
            "           </a>\n",
            "          </li>\n",
            "          <li class=\"sidebar__list-item-sub\">\n",
            "           <a class=\"sidebar__link\" href=\"/brotli-test\">\n",
            "            Brotli Test\n",
            "           </a>\n",
            "          </li>\n",
            "         </ul>\n",
            "        </li>\n",
            "        <li class=\"sidebar__list-item\">\n",
            "         <span class=\"text-primary\">\n",
            "          Network\n",
            "         </span>\n",
            "         <ul class=\"list-unstyled border-left-2 py-1 pl-3 mt-2\" data-parent=\"#sidebar\" id=\"network\">\n",
            "          <li class=\"sidebar__list-item-sub\">\n",
            "           <a class=\"sidebar__link text-primary\" href=\"/geo\">\n",
            "            IP Location Finder\n",
            "           </a>\n",
            "          </li>\n",
            "          <li class=\"sidebar__list-item-sub\">\n",
            "           <a class=\"sidebar__link\" href=\"/dig\">\n",
            "            DNS Checker\n",
            "           </a>\n",
            "          </li>\n",
            "          <li class=\"sidebar__list-item-sub\">\n",
            "           <a class=\"sidebar__link\" href=\"/ping\">\n",
            "            Ping Test\n",
            "           </a>\n",
            "          </li>\n",
            "          <li class=\"sidebar__list-item-sub\">\n",
            "           <a class=\"sidebar__link\" href=\"/ipv6-ping\">\n",
            "            Ping IPv6 Test\n",
            "           </a>\n",
            "          </li>\n",
            "          <li class=\"sidebar__list-item-sub\">\n",
            "           <a class=\"sidebar__link\" href=\"/traceroute\">\n",
            "            Traceroute Test\n",
            "           </a>\n",
            "          </li>\n",
            "          <li class=\"sidebar__list-item-sub\">\n",
            "           <a class=\"sidebar__link\" href=\"/bgp-looking-glass\">\n",
            "            BGP Looking Glass\n",
            "           </a>\n",
            "          </li>\n",
            "         </ul>\n",
            "        </li>\n",
            "        <li class=\"sidebar__list-item\">\n",
            "         <button class=\"btn btn-link sidebar__link p-0\" data-target=\"#security\" data-toggle=\"collapse\" type=\"button\">\n",
            "          Security\n",
            "         </button>\n",
            "         <ul class=\"list-unstyled border-left-2 collapse py-1 pl-3 mt-2\" data-parent=\"#sidebar\" id=\"security\">\n",
            "          <li class=\"sidebar__list-item-sub\">\n",
            "           <a class=\"sidebar__link\" href=\"/ssl\">\n",
            "            Certificate Checker\n",
            "           </a>\n",
            "          </li>\n",
            "          <li class=\"sidebar__list-item-sub\">\n",
            "           <a class=\"sidebar__link\" href=\"/certificate-chain\">\n",
            "            Certificate Chain Composer\n",
            "           </a>\n",
            "          </li>\n",
            "          <li class=\"sidebar__list-item-sub\">\n",
            "           <a class=\"sidebar__link\" href=\"/sha256-online-generator\">\n",
            "            SHA256 Generator\n",
            "           </a>\n",
            "          </li>\n",
            "          <li class=\"sidebar__list-item-sub\">\n",
            "           <a class=\"sidebar__link\" href=\"/freak\">\n",
            "            SSL FREAK Test\n",
            "           </a>\n",
            "          </li>\n",
            "          <li class=\"sidebar__list-item-sub\">\n",
            "           <a class=\"sidebar__link\" href=\"/logjam\">\n",
            "            TLS Logjam Test\n",
            "           </a>\n",
            "          </li>\n",
            "         </ul>\n",
            "        </li>\n",
            "        <li class=\"sidebar__list-item\">\n",
            "         <button class=\"btn btn-link sidebar__link p-0\" data-target=\"#other\" data-toggle=\"collapse\" type=\"button\">\n",
            "          Other\n",
            "         </button>\n",
            "         <ul class=\"list-unstyled border-left-2 collapse py-1 pl-3 mt-2\" data-parent=\"#sidebar\" id=\"other\">\n",
            "          <li class=\"sidebar__list-item-sub\">\n",
            "           <a class=\"sidebar__link\" href=\"/epoch-converter\">\n",
            "            Epoch Converter\n",
            "           </a>\n",
            "          </li>\n",
            "          <li class=\"sidebar__list-item-sub\">\n",
            "           <a class=\"sidebar__link\" href=\"/hex-converter\">\n",
            "            Hex Converter\n",
            "           </a>\n",
            "          </li>\n",
            "         </ul>\n",
            "        </li>\n",
            "       </ul>\n",
            "      </div>\n",
            "      <div class=\"col-12 mt-nav-secondary mb-nav-secondary d-md-none d-block\">\n",
            "       <div id=\"accordion-nav-tools-mobi\">\n",
            "        <div class=\"card card--accordion card--shadow card--shadow-hfa mw-100\" id=\"parent-nav-tools-mobi\">\n",
            "         <div class=\"card-header card-header--accordion p-0\" id=\"nav-tools-mobi\">\n",
            "          <button class=\"btn btn-link text-muted font-weight-semi-bold w-100 p-3\" data-target=\"#body-nav-tools-mobi\" data-toggle=\"collapse\" type=\"button\">\n",
            "           Tools\n",
            "           <svg class=\"icon-caret icon-caret--accordion\" viewbox=\"0 0 42.242 23.949\" xmlns=\"http://www.w3.org/2000/svg\">\n",
            "            <path d=\"M2.828 1.414l18.293 18.293L39.414 1.414l1.414 1.414-19.707 19.707L1.414 2.828z\" fill=\"#868e96\" stroke=\"#868e96\" stroke-width=\"3\">\n",
            "            </path>\n",
            "           </svg>\n",
            "          </button>\n",
            "         </div>\n",
            "         <div class=\"collapse\" data-parent=\"#accordion-nav-tools-mobi\" id=\"body-nav-tools-mobi\">\n",
            "          <div class=\"card-body card-body--accordion p-3\">\n",
            "           <ul class=\"sidebar__list\">\n",
            "            <li class=\"sidebar__list-item\">\n",
            "             <span class=\"text-muted\">\n",
            "              Web\n",
            "             </span>\n",
            "             <ul class=\"sidebar__list-sub border-left-2\">\n",
            "              <li class=\"sidebar__list-item-sub\">\n",
            "               <a class=\"sidebar__link\" href=\"/speed\">\n",
            "                Website Speed Test\n",
            "               </a>\n",
            "              </li>\n",
            "              <li class=\"sidebar__list-item-sub\">\n",
            "               <a class=\"sidebar__link\" href=\"/performance\">\n",
            "                Performance Test\n",
            "               </a>\n",
            "              </li>\n",
            "              <li class=\"sidebar__list-item-sub\">\n",
            "               <a class=\"sidebar__link\" href=\"/curl\">\n",
            "                HTTP Header Checker\n",
            "               </a>\n",
            "              </li>\n",
            "              <li class=\"sidebar__list-item-sub\">\n",
            "               <a class=\"sidebar__link\" href=\"/http2-test\">\n",
            "                HTTP/2 Test\n",
            "               </a>\n",
            "              </li>\n",
            "              <li class=\"sidebar__list-item-sub\">\n",
            "               <a class=\"sidebar__link\" href=\"/brotli-test\">\n",
            "                Brotli Test\n",
            "               </a>\n",
            "              </li>\n",
            "             </ul>\n",
            "            </li>\n",
            "            <li class=\"sidebar__list-item\">\n",
            "             <span class=\"text-primary\">\n",
            "              Network\n",
            "             </span>\n",
            "             <ul class=\"sidebar__list-sub border-left-2\">\n",
            "              <li class=\"sidebar__list-item-sub\">\n",
            "               <a class=\"sidebar__link text-primary\" href=\"/geo\">\n",
            "                IP Location Finder\n",
            "               </a>\n",
            "              </li>\n",
            "              <li class=\"sidebar__list-item-sub\">\n",
            "               <a class=\"sidebar__link\" href=\"/dig\">\n",
            "                DNS Checker\n",
            "               </a>\n",
            "              </li>\n",
            "              <li class=\"sidebar__list-item-sub\">\n",
            "               <a class=\"sidebar__link\" href=\"/ping\">\n",
            "                Ping Test\n",
            "               </a>\n",
            "              </li>\n",
            "              <li class=\"sidebar__list-item-sub\">\n",
            "               <a class=\"sidebar__link\" href=\"/ipv6-ping\">\n",
            "                Ping IPv6 Test\n",
            "               </a>\n",
            "              </li>\n",
            "              <li class=\"sidebar__list-item-sub\">\n",
            "               <a class=\"sidebar__link\" href=\"/traceroute\">\n",
            "                Traceroute Test\n",
            "               </a>\n",
            "              </li>\n",
            "              <li class=\"sidebar__list-item-sub\">\n",
            "               <a class=\"sidebar__link\" href=\"/bgp-looking-glass\">\n",
            "                BGP Looking Glass\n",
            "               </a>\n",
            "              </li>\n",
            "             </ul>\n",
            "            </li>\n",
            "            <li class=\"sidebar__list-item\">\n",
            "             <span class=\"text-muted\">\n",
            "              Security\n",
            "             </span>\n",
            "             <ul class=\"sidebar__list-sub border-left-2\">\n",
            "              <li class=\"sidebar__list-item-sub\">\n",
            "               <a class=\"sidebar__link\" href=\"/ssl\">\n",
            "                Certificate Checker\n",
            "               </a>\n",
            "              </li>\n",
            "              <li class=\"sidebar__list-item-sub\">\n",
            "               <a class=\"sidebar__link\" href=\"/certificate-chain\">\n",
            "                Certificate Chain Composer\n",
            "               </a>\n",
            "              </li>\n",
            "              <li class=\"sidebar__list-item-sub\">\n",
            "               <a class=\"sidebar__link\" href=\"/sha256-online-generator\">\n",
            "                SHA256 Generator\n",
            "               </a>\n",
            "              </li>\n",
            "              <li class=\"sidebar__list-item-sub\">\n",
            "               <a class=\"sidebar__link\" href=\"/freak\">\n",
            "                SSL FREAK Test\n",
            "               </a>\n",
            "              </li>\n",
            "              <li class=\"sidebar__list-item-sub\">\n",
            "               <a class=\"sidebar__link\" href=\"/logjam\">\n",
            "                TLS Logjam Test\n",
            "               </a>\n",
            "              </li>\n",
            "             </ul>\n",
            "            </li>\n",
            "            <li class=\"sidebar__list-item\">\n",
            "             <span class=\"text-muted\">\n",
            "              Other\n",
            "             </span>\n",
            "             <ul class=\"sidebar__list-sub border-left-2\">\n",
            "              <li class=\"sidebar__list-item-sub\">\n",
            "               <a class=\"sidebar__link\" href=\"/epoch-converter\">\n",
            "                Epoch Converter\n",
            "               </a>\n",
            "              </li>\n",
            "              <li class=\"sidebar__list-item-sub\">\n",
            "               <a class=\"sidebar__link\" href=\"/hex-converter\">\n",
            "                Hex Converter\n",
            "               </a>\n",
            "              </li>\n",
            "             </ul>\n",
            "            </li>\n",
            "           </ul>\n",
            "          </div>\n",
            "         </div>\n",
            "        </div>\n",
            "       </div>\n",
            "      </div>\n",
            "      <div class=\"col-lg-8 col-md-9 mt-col-sidebar\">\n",
            "       <h1>\n",
            "        IP Location Finder\n",
            "       </h1>\n",
            "       <p class=\"small text-uppercase text-muted font-weight-semi-bold line-height-headings mb-4\">\n",
            "        IP lookup or IP address lookup with detailed IP geolocation data\n",
            "       </p>\n",
            "       <form id=\"geoForm\">\n",
            "        <div class=\"row form-group\">\n",
            "         <div class=\"col-xl-10 col-md-9\">\n",
            "          <label class=\"col-form-label\" for=\"host\">\n",
            "           IP address or hostname\n",
            "          </label>\n",
            "          <input class=\"form-control\" id=\"host\" name=\"host\" placeholder=\"e.g. 137.255.90.7\" required=\"\" type=\"text\" value=\"137.255.90.7\"/>\n",
            "         </div>\n",
            "         <div class=\"col-xl-2 col-md-3 d-flex align-items-end mt-md-0 mt-4\">\n",
            "          <button class=\"btn btn-primary d-flex justify-content-center align-items-center w-md-100\" id=\"geoBtn\">\n",
            "           Find\n",
            "          </button>\n",
            "         </div>\n",
            "        </div>\n",
            "       </form>\n",
            "       <script type=\"text/javascript\">\n",
            "        const geoPlots = {\n",
            "                            'geolocation': {\n",
            "                                latitude: 9.5,\n",
            "                                longitude: 2.25,\n",
            "                                tooltip: {\n",
            "                                    content: 'Benin'\n",
            "                                }\n",
            "                            }\n",
            "                        }\n",
            "       </script>\n",
            "       <div id=\"ca-mobi\">\n",
            "       </div>\n",
            "       <div class=\"mt-4\" id=\"geoResult\">\n",
            "        <div class=\"bg-light medium rounded p-3\">\n",
            "         <p class=\"small text-uppercase text-muted font-weight-semi-bold line-height-headings mb-2\">\n",
            "          Location\n",
            "         </p>\n",
            "         <dl class=\"row mb-0\">\n",
            "          <dt class=\"col-4\">\n",
            "           Country\n",
            "          </dt>\n",
            "          <dd class=\"col-8 text-monospace\">\n",
            "           Benin (BJ)\n",
            "          </dd>\n",
            "          <dt class=\"col-4\">\n",
            "           Continent\n",
            "          </dt>\n",
            "          <dd class=\"col-8 text-monospace\">\n",
            "           Africa (AF)\n",
            "          </dd>\n",
            "          <dt class=\"col-4\">\n",
            "           Coordinates\n",
            "          </dt>\n",
            "          <dd class=\"col-8 text-monospace\">\n",
            "           9.5 (lat) / 2.25 (long)\n",
            "          </dd>\n",
            "          <dt class=\"col-4\">\n",
            "           Time\n",
            "          </dt>\n",
            "          <dd class=\"col-8 text-monospace\">\n",
            "           2024-09-13 20:13:20 (Africa/Porto-Novo)\n",
            "          </dd>\n",
            "         </dl>\n",
            "         <p class=\"small text-uppercase text-muted font-weight-semi-bold line-height-headings mt-4 mb-2\">\n",
            "          Network\n",
            "         </p>\n",
            "         <dl class=\"row mb-0\">\n",
            "          <dt class=\"col-4\">\n",
            "           IP address\n",
            "          </dt>\n",
            "          <dd class=\"col-8 text-monospace\">\n",
            "           137.255.90.7\n",
            "          </dd>\n",
            "          <dt class=\"col-4\">\n",
            "           Hostname\n",
            "          </dt>\n",
            "          <dd class=\"col-8 text-monospace\">\n",
            "           137.255.90.7\n",
            "          </dd>\n",
            "          <dt class=\"col-4\">\n",
            "           Provider\n",
            "          </dt>\n",
            "          <dd class=\"col-8 text-monospace\">\n",
            "           SBIN\n",
            "          </dd>\n",
            "          <dt class=\"col-4\">\n",
            "           ASN\n",
            "          </dt>\n",
            "          <dd class=\"col-8 text-monospace\">\n",
            "           28683\n",
            "          </dd>\n",
            "         </dl>\n",
            "        </div>\n",
            "        <div class=\"mapael mt-4\" id=\"geoMap\">\n",
            "         <div class=\"map position-relative\">\n",
            "         </div>\n",
            "        </div>\n",
            "       </div>\n",
            "       <h2 class=\"h4\" id=\"ip-location-finder-faq\">\n",
            "        IP Location Finder FAQ\n",
            "       </h2>\n",
            "       <div class=\"row\">\n",
            "        <div class=\"col-md-6\">\n",
            "         <h3 class=\"h6\">\n",
            "          What is IP Geolocation?\n",
            "         </h3>\n",
            "         <p>\n",
            "          <strong>\n",
            "           IP geolocation\n",
            "          </strong>\n",
            "          is the mapping of an IP address to the geographic location of the internet from the connected device. By geographically mapping the IP address, it provides you with location information such as the country, state, city, zip code, latitude/longitude, ISP, area code, and other information.\n",
            "         </p>\n",
            "         <h3 class=\"h6\">\n",
            "          How does the IP lookup work?\n",
            "         </h3>\n",
            "         <p>\n",
            "          <a class=\"text-dark\" href=\"https://whois.arin.net/ui\" rel=\"nofollow noopener\" target=\"_blank\">\n",
            "           ARIN's WHOIS\n",
            "          </a>\n",
            "          service gives contact and registration information for the IP address lookup and is freely available to access. When a company acquires a block of IP addresses, a request is submitted and then those IPs are assigned to the requested ISP.\n",
            "         </p>\n",
            "         <p>\n",
            "          The IP geolocation data gets updated automatically based on the databases of the regional Internet registry (RIR).\n",
            "          <strong>\n",
            "           Manual updates are not possible.\n",
            "          </strong>\n",
            "         </p>\n",
            "        </div>\n",
            "        <div class=\"col-md-6\">\n",
            "         <h3 class=\"h6\">\n",
            "          How accurate is IP Geolocation?\n",
            "         </h3>\n",
            "         <p>\n",
            "          There are many different\n",
            "          <strong>\n",
            "           IP location\n",
            "          </strong>\n",
            "          databases in which you can pull from. Most vendors claim a 98% or higher accuracy. IP mapping to specific cities can sometimes vary slightly based upon the location of the nearest ISP provider's network hub.\n",
            "         </p>\n",
            "         <h3 class=\"h6\">\n",
            "          Does it support IPv6 location lookups?\n",
            "         </h3>\n",
            "         <p>\n",
            "          Yes, IPv6 geoloaction is supported as well. Just enter a valid address above to perform the IPv6 lookup.\n",
            "         </p>\n",
            "        </div>\n",
            "       </div>\n",
            "       <h2 class=\"h4\" id=\"ip-location-finder-api\">\n",
            "        IP Location Finder API\n",
            "       </h2>\n",
            "       <p>\n",
            "        Get the IP geolocation data through the simple REST API. All the responses are JSON encoded. We are rate limiting requests (3r/s) to avoid overload of the system.\n",
            "       </p>\n",
            "       <p>\n",
            "        Please note that the use of this service requires a link back in your project:\n",
            "                    [IP Location Finder by KeyCDN](https://tools.keycdn.com/geo)\n",
            "       </p>\n",
            "       <p>\n",
            "        It is required to set the request header\n",
            "        <code>\n",
            "         User-Agent\n",
            "        </code>\n",
            "        in the format\n",
            "        <code>\n",
            "         keycdn-tools:https?://.*\n",
            "        </code>\n",
            "        , which must include the website you are using the API for. Missing attributions or invalid values will be blocked.\n",
            "       </p>\n",
            "       <pre class=\"language-none\">\n",
            "                        <code class=\"language-none\">\n",
            "                            <mark class=\"request request--get\">GET</mark>https://tools.keycdn.com/geo.json?host=<mark class=\"bg-warning\">{IP or hostname}</mark>\n",
            "                        </code>\n",
            "                    </pre>\n",
            "       <h3 class=\"h6\">\n",
            "        Request Parameters\n",
            "       </h3>\n",
            "       <div class=\"table-responsive table-responsive--tools text-nowrap\">\n",
            "        <table class=\"table table--api\">\n",
            "         <thead>\n",
            "          <tr>\n",
            "           <th>\n",
            "            Parameter\n",
            "           </th>\n",
            "           <th>\n",
            "            Value\n",
            "           </th>\n",
            "           <th>\n",
            "            Default\n",
            "           </th>\n",
            "          </tr>\n",
            "         </thead>\n",
            "         <tbody>\n",
            "          <tr>\n",
            "           <td>\n",
            "            <code>\n",
            "             host\n",
            "            </code>\n",
            "            <br/>\n",
            "            <span class=\"small text-muted ml-table-sub\">\n",
            "             required\n",
            "            </span>\n",
            "           </td>\n",
            "           <td>\n",
            "            <code>\n",
            "             {alphanumeric}\n",
            "            </code>\n",
            "           </td>\n",
            "           <td>\n",
            "           </td>\n",
            "          </tr>\n",
            "         </tbody>\n",
            "        </table>\n",
            "       </div>\n",
            "       <h3 class=\"h6\">\n",
            "        Response Parameters\n",
            "       </h3>\n",
            "       <div class=\"table-responsive table-responsive--tools text-nowrap\">\n",
            "        <table class=\"table table--api\">\n",
            "         <thead>\n",
            "          <tr>\n",
            "           <th>\n",
            "            Parameter\n",
            "           </th>\n",
            "          </tr>\n",
            "         </thead>\n",
            "         <tbody>\n",
            "          <tr>\n",
            "           <td>\n",
            "            <code>\n",
            "             host\n",
            "            </code>\n",
            "           </td>\n",
            "          </tr>\n",
            "          <tr>\n",
            "           <td>\n",
            "            <code>\n",
            "             ip\n",
            "            </code>\n",
            "           </td>\n",
            "          </tr>\n",
            "          <tr>\n",
            "           <td>\n",
            "            <code>\n",
            "             rdns\n",
            "            </code>\n",
            "           </td>\n",
            "          </tr>\n",
            "          <tr>\n",
            "           <td>\n",
            "            <code>\n",
            "             asn\n",
            "            </code>\n",
            "           </td>\n",
            "          </tr>\n",
            "          <tr>\n",
            "           <td>\n",
            "            <code>\n",
            "             country_name\n",
            "            </code>\n",
            "           </td>\n",
            "          </tr>\n",
            "          <tr>\n",
            "           <td>\n",
            "            <code>\n",
            "             country_code\n",
            "            </code>\n",
            "           </td>\n",
            "          </tr>\n",
            "          <tr>\n",
            "           <td>\n",
            "            <code>\n",
            "             region_name\n",
            "            </code>\n",
            "           </td>\n",
            "          </tr>\n",
            "          <tr>\n",
            "           <td>\n",
            "            <code>\n",
            "             region_code\n",
            "            </code>\n",
            "           </td>\n",
            "          </tr>\n",
            "          <tr>\n",
            "           <td>\n",
            "            <code>\n",
            "             city\n",
            "            </code>\n",
            "           </td>\n",
            "          </tr>\n",
            "          <tr>\n",
            "           <td>\n",
            "            <code>\n",
            "             postal_code\n",
            "            </code>\n",
            "           </td>\n",
            "          </tr>\n",
            "          <tr>\n",
            "           <td>\n",
            "            <code>\n",
            "             contitent_code\n",
            "            </code>\n",
            "           </td>\n",
            "          </tr>\n",
            "          <tr>\n",
            "           <td>\n",
            "            <code>\n",
            "             latitude\n",
            "            </code>\n",
            "           </td>\n",
            "          </tr>\n",
            "          <tr>\n",
            "           <td>\n",
            "            <code>\n",
            "             longitude\n",
            "            </code>\n",
            "           </td>\n",
            "          </tr>\n",
            "          <tr>\n",
            "           <td>\n",
            "            <code>\n",
            "             metro_code\n",
            "            </code>\n",
            "           </td>\n",
            "          </tr>\n",
            "          <tr>\n",
            "           <td>\n",
            "            <code>\n",
            "             timezone\n",
            "            </code>\n",
            "           </td>\n",
            "          </tr>\n",
            "          <tr>\n",
            "           <td>\n",
            "            <code>\n",
            "             datetime\n",
            "            </code>\n",
            "           </td>\n",
            "          </tr>\n",
            "         </tbody>\n",
            "        </table>\n",
            "       </div>\n",
            "       <h4 class=\"h6\">\n",
            "        Example\n",
            "       </h4>\n",
            "       <ul class=\"nav nav-tabs mt-3\" id=\"nav-tabs-ip-location-finder\">\n",
            "        <li class=\"nav-item\">\n",
            "         <a class=\"nav-link active\" data-toggle=\"tab\" href=\"#ip-location-finder-request\" id=\"nav-tabs-ip-location-finder-request\">\n",
            "          Request\n",
            "         </a>\n",
            "        </li>\n",
            "        <li class=\"nav-item\">\n",
            "         <a class=\"nav-link\" data-toggle=\"tab\" href=\"#ip-location-finder-response\" id=\"nav-tabs-ip-location-finder-response\">\n",
            "          Response\n",
            "         </a>\n",
            "        </li>\n",
            "       </ul>\n",
            "       <div class=\"tab-content\">\n",
            "        <div class=\"tab-pane tab-pane--api active\" id=\"ip-location-finder-request\">\n",
            "         <pre class=\"language-bash\">\n",
            "                                <code class=\"language-bash\">\n",
            "                                    $ curl -H \"User-Agent: keycdn-tools:https://www.example.com\" \"https://tools.keycdn.com/geo.json?host=www.example.com\"\n",
            "                                </code>\n",
            "                            </pre>\n",
            "        </div>\n",
            "        <div class=\"tab-pane tab-pane--api\" id=\"ip-location-finder-response\">\n",
            "         <pre class=\"language-javascript\">\n",
            "                                <code class=\"language-javascript\">\n",
            "                                    {\n",
            "                                        \"status\":\"success\",\n",
            "                                        \"description\":\"Data successfully received.\",\n",
            "                                        \"data\":{\n",
            "                                            \"geo\":{\n",
            "                                                \"host\":\"www.example.com\",\n",
            "                                                \"ip\":\"93.184.216.34\",\n",
            "                                                \"rdns\":\"93.184.216.34\",\n",
            "                                                \"asn\":15133,\n",
            "                                                \"isp\":\"MCI Communications Services, Inc. d\\/b\\/a Verizon Business\",\n",
            "                                                \"country_name\":\"United States\",\n",
            "                                                \"country_code\":\"US\",\n",
            "                                                \"region_name\":\"Massachusetts\",\n",
            "                                                \"region_code\":\"MA\",\n",
            "                                                \"city\":\"Norwell\",\n",
            "                                                \"postal_code\":\"02061\",\n",
            "                                                \"continent_name\":\"North America\",\n",
            "                                                \"continent_code\":\"NA\",\n",
            "                                                \"latitude\":42.1596,\n",
            "                                                \"longitude\":-70.8217,\n",
            "                                                \"metro_code\":506,\n",
            "                                                \"timezone\":\"America\\/New_York\",\n",
            "                                                \"datetime\":\"2019-06-01 00:00:00\"\n",
            "                                            }\n",
            "                                        }\n",
            "                                    }\n",
            "                                </code>\n",
            "                            </pre>\n",
            "        </div>\n",
            "       </div>\n",
            "      </div>\n",
            "      <div class=\"col-lg-2 d-lg-block d-none\">\n",
            "       <ul class=\"sidebar__list sticky-top sticky-top--sidebar\" id=\"sidebar-right\">\n",
            "        <li class=\"sidebar__list-item\" id=\"ca\">\n",
            "         <script id=\"_carbonads_js\" src=\"//cdn.carbonads.com/carbon.js?serve=CK7D52QN&amp;placement=toolskeycdncom\" type=\"text/javascript\">\n",
            "         </script>\n",
            "        </li>\n",
            "       </ul>\n",
            "      </div>\n",
            "     </div>\n",
            "    </div>\n",
            "   </div>\n",
            "  </section>\n",
            "  <section class=\"bg-light py-6\">\n",
            "   <div class=\"container\">\n",
            "    <div class=\"row\">\n",
            "     <div class=\"col text-center\">\n",
            "      <h2>\n",
            "       Get started for free\n",
            "      </h2>\n",
            "      <p class=\"mb-4\">\n",
            "       Try KeyCDN with a free 14 day trial, no credit card required.\n",
            "      </p>\n",
            "      <a class=\"btn btn-primary\" href=\"https://app.keycdn.com/signup\">\n",
            "       Get started\n",
            "      </a>\n",
            "      <a class=\"btn btn-outline-primary btn-outline-primary--cta ml-2\" href=\"https://www.keycdn.com/pricing\">\n",
            "       Pricing\n",
            "      </a>\n",
            "     </div>\n",
            "    </div>\n",
            "   </div>\n",
            "  </section>\n",
            "  <footer class=\"py-7\">\n",
            "   <div class=\"container\">\n",
            "    <div class=\"row justify-content-sm-center\">\n",
            "     <div class=\"col-auto px-lg-5 px-4\">\n",
            "      <h4 class=\"h6 text-uppercase\">\n",
            "       Product\n",
            "      </h4>\n",
            "      <ul class=\"list-unstyled mb-4\">\n",
            "       <li class=\"py-1\">\n",
            "        <a class=\"footer-dark__link\" href=\"https://www.keycdn.com/features\">\n",
            "         Features\n",
            "        </a>\n",
            "       </li>\n",
            "       <li class=\"py-1\">\n",
            "        <a class=\"footer-dark__link\" href=\"https://www.keycdn.com/network\">\n",
            "         Network\n",
            "        </a>\n",
            "       </li>\n",
            "       <li class=\"py-1\">\n",
            "        <a class=\"footer-dark__link\" href=\"https://www.keycdn.com/pricing\">\n",
            "         Pricing\n",
            "        </a>\n",
            "       </li>\n",
            "       <li class=\"py-1\">\n",
            "        <a class=\"footer-dark__link\" href=\"https://www.keycdn.com/api\">\n",
            "         API\n",
            "        </a>\n",
            "       </li>\n",
            "      </ul>\n",
            "     </div>\n",
            "     <div class=\"col-auto px-lg-5 px-4 mx-sm-0 mx-auto\">\n",
            "      <h4 class=\"h6 text-uppercase\">\n",
            "       Company\n",
            "      </h4>\n",
            "      <ul class=\"list-unstyled mb-4\">\n",
            "       <li class=\"py-1\">\n",
            "        <a class=\"footer-dark__link\" href=\"https://www.keycdn.com/about\">\n",
            "         About\n",
            "        </a>\n",
            "       </li>\n",
            "       <li class=\"py-1\">\n",
            "        <a class=\"footer-dark__link\" href=\"https://www.keycdn.com/blog\">\n",
            "         Blog\n",
            "        </a>\n",
            "       </li>\n",
            "       <li class=\"py-1\">\n",
            "        <a class=\"footer-dark__link\" href=\"https://www.keycdn.com/contact\">\n",
            "         Contact\n",
            "        </a>\n",
            "       </li>\n",
            "       <li class=\"py-1\">\n",
            "        <a class=\"footer-dark__link\" href=\"https://www.keycdn.com/referral-program\">\n",
            "         Referrals\n",
            "        </a>\n",
            "       </li>\n",
            "       <li class=\"py-1\">\n",
            "        <a class=\"footer-dark__link\" href=\"https://www.keycdn.com/careers\">\n",
            "         Careers\n",
            "        </a>\n",
            "       </li>\n",
            "      </ul>\n",
            "     </div>\n",
            "     <div class=\"col-auto px-lg-5 px-4\">\n",
            "      <h4 class=\"h6 text-uppercase\">\n",
            "       Support\n",
            "      </h4>\n",
            "      <ul class=\"list-unstyled mb-4\">\n",
            "       <li class=\"py-1\">\n",
            "        <a class=\"footer-dark__link\" href=\"https://www.keycdn.com/support\">\n",
            "         Knowledge Base\n",
            "        </a>\n",
            "       </li>\n",
            "       <li class=\"py-1\">\n",
            "        <a class=\"footer-dark__link\" href=\"https://status.keycdn.com\">\n",
            "         Network Status\n",
            "        </a>\n",
            "       </li>\n",
            "       <li class=\"py-1\">\n",
            "        <a class=\"footer-dark__link\" href=\"https://www.keycdn.com/open-source-cdn\">\n",
            "         Open Source\n",
            "        </a>\n",
            "       </li>\n",
            "       <li class=\"py-1\">\n",
            "        <a class=\"footer-dark__link\" href=\"https://www.keycdn.com/faq\">\n",
            "         FAQ\n",
            "        </a>\n",
            "       </li>\n",
            "       <li class=\"py-1\">\n",
            "        <a class=\"footer-dark__link\" href=\"https://tools.keycdn.com\">\n",
            "         Tools\n",
            "        </a>\n",
            "       </li>\n",
            "      </ul>\n",
            "     </div>\n",
            "     <div class=\"col-md-4 order-md-first text-md-left text-center mt-md-0 mt-5\">\n",
            "      <a href=\"https://www.keycdn.com\">\n",
            "       <svg class=\"icon-logo icon-logo--lg\" viewbox=\"0 0 137.09 39.849\" xmlns=\"http://www.w3.org/2000/svg\">\n",
            "        <path d=\"M3.971 32.104c.39.016.784.07 1.151.205v-.004l.056.02 4.842-4.723.178.237c.251.34.518.651.8.962l.103.119c.074.074.133.148.207.222l.12.118.117.119.104.103.118.119.104.103.133.119.12.104a12.868 12.868 0 0 0 8.025 3.065 12.983 12.983 0 0 0 6.915-1.792l.37.385c.43.459.874.918 1.304 1.377a15.234 15.234 0 0 1-8.648 2.414 15.224 15.224 0 0 1-9.418-3.554l.015-.03-3.107 3.063a3.873 3.873 0 1 1-3.707-2.752h.1zM33.58 12.127a15.231 15.231 0 0 1 2.206 8.323 15.172 15.172 0 0 1-3.805 9.684l.015.015 1.91 2.029c.77-.104 1.54.162 2.073.725a2.405 2.405 0 0 1-.089 3.391 2.405 2.405 0 0 1-3.39-.089 2.388 2.388 0 0 1-.608-2.102 739.91 739.91 0 0 0-3.36-3.569l-.194-.207.222-.178a12 12 0 0 0 1.6-1.525 12.818 12.818 0 0 0 3.243-8.233 12.84 12.84 0 0 0-1.6-6.575zM6.597 3.076c.68-.01 1.32.259 1.794.744a2.39 2.39 0 0 1 .607 2.103l3.673 3.85-.223.178c-.577.459-1.11.962-1.599 1.525a12.927 12.927 0 0 0-1.658 14.822l-1.763 1.718a15.112 15.112 0 0 1-2.22-8.366c.076-3.565 1.465-7.009 3.798-9.691l-2.022-2.11a2.406 2.406 0 0 1-2.073-.727 2.405 2.405 0 0 1 .09-3.391 2.43 2.43 0 0 1 1.367-.64c.076-.008.153-.01.23-.016zM37.498 0a3.873 3.873 0 1 1-1.208 7.553v.005l-.06-.021-5.257 4.99-.178-.237c-.28-.37-.592-.74-.918-1.08l-.06-.075-.162-.163-.296-.296-.104-.089-.103-.088-.133-.119-.104-.089-.134-.118a12.862 12.862 0 0 0-7.966-3.021c-2.444-.06-4.828.548-6.9 1.792l-1.689-1.763a15.233 15.233 0 0 1 8.648-2.414 15.154 15.154 0 0 1 9.418 3.569h.03l3.48-3.305A3.873 3.873 0 0 1 37.5 0z\" fill=\"#2e3234\">\n",
            "        </path>\n",
            "        <path d=\"M20.617 8.646c.438.002.875.036 1.309.086 6.249.785 10.676 6.486 9.906 12.735-.785 6.25-6.486 10.677-12.735 9.907-6.249-.785-10.677-6.487-9.907-12.735.746-5.797 5.616-9.973 11.427-9.993zm-.171 4.894c-2.53.203-4.36 2.116-4.425 4.659.04 1.766.802 3.013 2.246 3.989l.348.189-.88 4.139h5.901l-.879-4.14c1.62-.834 2.547-2.365 2.593-4.177-.034-2.624-2.064-4.6-4.664-4.665l-.24.006zm.088-.025h-.015.015zM50.991 14.514c-.287 0-.489.058-.834.518l-4.772 6.21 2.07-11.644c.086-.431-.144-.575-.489-.575h-4.313c-.517 0-.66.259-.718.575l-3.709 21.016c-.086.46.201.633.517.633h4.313c.316 0 .632-.317.69-.633l1.15-6.555 2.501 6.555c.173.46.403.633.719.633h5.175c.374 0 .517-.345.374-.633l-3.68-8.05 6.555-7.446c.23-.23.201-.604-.202-.604zm20.014 5.923c0-3.422-1.955-6.182-6.124-6.182-4.801 0-8.079 2.128-9.027 7.82l-.317 1.898a8.854 8.854 0 0 0-.115 1.466c0 4.083 3.163 6.066 6.354 6.066 2.415 0 4.37-.287 6.296-.89.489-.145.633-.346.719-.806l.46-2.587v-.115c0-.26-.173-.374-.431-.374h-.115c-1.093.115-3.997.23-5.52.23-1.438 0-2.358-.201-2.358-1.639 0-.259.029-.546.086-.891h8.942a.737.737 0 0 0 .718-.633l.288-1.725c.086-.546.144-1.092.144-1.638zm-5.175-.202c0 .345-.058.748-.144 1.15h-4.255c.345-1.638 1.035-2.846 2.645-2.846 1.294 0 1.754.69 1.754 1.696zm24.527-5.29c0-.23-.259-.43-.517-.43h-4.744c-.316 0-.604.23-.719.545l-4.111 10.408h-.23c-.172 0-.201-.144-.23-.489l-.518-9.89c-.028-.316-.143-.575-.46-.575h-4.627c-.489 0-.719.23-.719.546v.087l1.667 13.685c.173 1.466.92 1.983 2.272 1.983h.374l-.403.95c-.345.833-.949 1.092-1.754 1.092-1.092 0-2.817-.173-3.881-.23h-.029c-.345 0-.69.287-.747.603l-.489 2.79v.085c0 .26.259.345.546.46.748.288 2.645.518 3.795.518 4.514 0 6.153-1.783 7.562-4.859l7.906-17.077a.533.533 0 0 0 .057-.202z\" fill=\"#047aed\">\n",
            "        </path>\n",
            "        <path d=\"M103.13 15.175c0-.287-.173-.373-.489-.46-.776-.2-2.156-.46-3.853-.46-4.427 0-7.273 2.214-8.193 7.562l-.374 2.156a11.156 11.156 0 0 0-.144 1.639c0 3.363 1.955 5.893 5.664 5.893 1.696 0 3.019-.23 4.025-.46.403-.086.633-.23.69-.603l.575-3.22v-.115c0-.26-.201-.432-.46-.432h-.057c-1.007.058-1.927.173-3.335.173-.978 0-1.553-.345-1.553-1.639 0-.345.029-.747.115-1.236l.374-2.156c.402-2.387 1.236-2.904 2.472-2.904 1.409 0 2.272.144 3.249.201h.058c.316 0 .603-.23.66-.546l.576-3.249zm17.943-5.663c0-.288-.258-.49-.546-.49h-4.284c-.316 0-.603.26-.66.576l-.863 4.859c-.575-.087-1.553-.202-2.013-.202-5.232 0-7.849 2.185-8.797 7.504l-.403 2.243a9.023 9.023 0 0 0-.144 1.466c0 3.536 2.444 6.037 6.383 6.037 2.587 0 5.031-.402 6.584-.718.92-.202 1.063-.374 1.15-.92l3.594-20.27zm-7.158 9.43l-1.38 7.877c-.547.086-1.15.144-1.984.144-1.236 0-1.667-.719-1.667-1.84 0-.345.028-.719.114-1.121l.403-2.243c.287-1.667.977-2.932 2.587-2.932.69 0 1.352.057 1.927.115zm23.176.2c0-3.22-1.323-4.887-4.514-4.887-1.063 0-2.645.26-4.657 1.582l.144-.748c.086-.431-.115-.575-.49-.575h-3.938c-.316 0-.604.259-.661.575l-2.76 15.525c-.058.403.259.633.661.633h4.111c.432 0 .719-.288.777-.633l1.955-11.126c.517-.288 1.58-.633 2.443-.633.978 0 1.352.23 1.352 1.122 0 .488-.115.977-.202 1.466l-1.61 9.171c-.057.288 0 .633.489.633h4.313c.345 0 .66-.317.718-.633l1.582-8.97c.143-.805.287-1.754.287-2.501z\" fill=\"#2e3234\">\n",
            "        </path>\n",
            "       </svg>\n",
            "      </a>\n",
            "      <div class=\"small text-muted font-weight-light my-3\">\n",
            "       © 2024 proinity LLC\n",
            "       <br/>\n",
            "       <span class=\"footer__credits\">\n",
            "        Made in Switzerland\n",
            "        <span class=\"footer__credits-flag\">\n",
            "         <svg class=\"icon-flag\" viewbox=\"0 0 640 480\" xmlns=\"http://www.w3.org/2000/svg\">\n",
            "          <g fill-rule=\"evenodd\" stroke-width=\"1pt\">\n",
            "           <path d=\"M0 0h640v480H0z\" fill=\"#d52b1e\">\n",
            "           </path>\n",
            "           <g fill=\"#fff\">\n",
            "            <path d=\"M170 194.997h299.996v89.997H170z\">\n",
            "            </path>\n",
            "            <path d=\"M275 89.997h89.996v299.996H275z\">\n",
            "            </path>\n",
            "           </g>\n",
            "          </g>\n",
            "         </svg>\n",
            "        </span>\n",
            "       </span>\n",
            "      </div>\n",
            "      <ul class=\"list-inline d-flex justify-content-md-start justify-content-center\">\n",
            "       <li class=\"list-inline-item\">\n",
            "        <a class=\"footer-dark__link\" href=\"https://twitter.com/keycdn\" rel=\"noreferrer noopener\" target=\"_blank\">\n",
            "         <svg class=\"icon icon--sm\" viewbox=\"0 0 512 415.84\" xmlns=\"http://www.w3.org/2000/svg\">\n",
            "          <path d=\"M459.37 103.63c.325 4.548.325 9.097.325 13.645 0 138.72-105.58 298.56-298.56 298.56-59.452 0-114.68-17.219-161.14-47.106 8.447.974 16.568 1.299 25.34 1.299 49.055 0 94.213-16.568 130.27-44.832-46.132-.975-84.792-31.188-98.112-72.772 6.498.974 12.995 1.624 19.818 1.624 9.421 0 18.843-1.3 27.614-3.573-48.081-9.747-84.143-51.98-84.143-102.98v-1.299c13.969 7.797 30.214 12.67 47.431 13.319-28.264-18.843-46.781-51.005-46.781-87.391 0-19.492 5.197-37.36 14.294-52.954 51.655 63.675 129.3 105.26 216.36 109.81-1.624-7.797-2.599-15.918-2.599-24.04 0-57.828 46.782-104.93 104.93-104.93 30.213 0 57.502 12.67 76.67 33.137 23.715-4.548 46.456-13.32 66.599-25.34-7.798 24.366-24.366 44.833-46.132 57.827 21.117-2.273 41.584-8.122 60.426-16.243-14.292 20.791-32.161 39.308-52.628 54.253z\" fill=\"currentColor\">\n",
            "          </path>\n",
            "         </svg>\n",
            "        </a>\n",
            "       </li>\n",
            "       <li class=\"list-inline-item\">\n",
            "        <a class=\"footer-dark__link\" href=\"https://github.com/keycdn\" rel=\"noreferrer noopener\" target=\"_blank\">\n",
            "         <svg class=\"icon icon--sm\" viewbox=\"0 0 496 483.61\" xmlns=\"http://www.w3.org/2000/svg\">\n",
            "          <path d=\"M165.9 389.4c0 2-2.3 3.6-5.2 3.6-3.3.3-5.6-1.3-5.6-3.6 0-2 2.3-3.6 5.2-3.6 3-.3 5.6 1.3 5.6 3.6zm-31.1-4.5c-.7 2 1.3 4.3 4.3 4.9 2.6 1 5.6 0 6.2-2s-1.3-4.3-4.3-5.2c-2.6-.7-5.5.3-6.2 2.3zm44.2-1.7c-2.9.7-4.9 2.6-4.6 4.9.3 2 2.9 3.3 5.9 2.6 2.9-.7 4.9-2.6 4.6-4.6-.3-1.9-3-3.2-5.9-2.9zM244.8 0C106.1 0 0 105.3 0 244c0 110.9 69.8 205.8 169.5 239.2 12.8 2.3 17.3-5.6 17.3-12.1 0-6.2-.3-40.4-.3-61.4 0 0-70 15-84.7-29.8 0 0-11.4-29.1-27.8-36.6 0 0-22.9-15.7 1.6-15.4 0 0 24.9 2 38.6 25.8 21.9 38.6 58.6 27.5 72.9 20.9 2.3-16 8.8-27.1 16-33.7-55.9-6.2-112.3-14.3-112.3-110.5 0-27.5 7.6-41.3 23.6-58.9-2.6-6.5-11.1-33.3 2.6-67.9 20.9-6.5 69 27 69 27 20-5.6 41.5-8.5 62.8-8.5s42.8 2.9 62.8 8.5c0 0 48.1-33.6 69-27 13.7 34.7 5.2 61.4 2.6 67.9 16 17.7 25.8 31.5 25.8 58.9 0 96.5-58.9 104.2-114.8 110.5 9.2 7.9 17 22.9 17 46.4 0 33.7-.3 75.4-.3 83.6 0 6.5 4.6 14.4 17.3 12.1C428.2 449.8 496 354.9 496 244 496 105.3 383.5 0 244.8 0zM97.2 344.9c-1.3 1-1 3.3.7 5.2 1.6 1.6 3.9 2.3 5.2 1 1.3-1 1-3.3-.7-5.2-1.6-1.6-3.9-2.3-5.2-1zm-10.8-8.1c-.7 1.3.3 2.9 2.3 3.9 1.6 1 3.6.7 4.3-.7.7-1.3-.3-2.9-2.3-3.9-2-.6-3.6-.3-4.3.7zm32.4 35.6c-1.6 1.3-1 4.3 1.3 6.2 2.3 2.3 5.2 2.6 6.5 1 1.3-1.3.7-4.3-1.3-6.2-2.2-2.3-5.2-2.6-6.5-1zm-11.4-14.7c-1.6 1-1.6 3.6 0 5.9s4.3 3.3 5.6 2.3c1.6-1.3 1.6-3.9 0-6.2-1.4-2.3-4-3.3-5.6-2z\" fill=\"currentColor\">\n",
            "          </path>\n",
            "         </svg>\n",
            "        </a>\n",
            "       </li>\n",
            "      </ul>\n",
            "      <p class=\"small font-weight-light mt-4\">\n",
            "       <a class=\"footer-dark__link mr-2\" href=\"https://www.keycdn.com/terms\">\n",
            "        Terms\n",
            "       </a>\n",
            "       <a class=\"footer-dark__link mr-2\" href=\"https://www.keycdn.com/privacy\">\n",
            "        Privacy\n",
            "       </a>\n",
            "       <a class=\"footer-dark__link\" href=\"https://www.keycdn.com/gdpr\">\n",
            "        GDPR\n",
            "       </a>\n",
            "      </p>\n",
            "     </div>\n",
            "    </div>\n",
            "   </div>\n",
            "  </footer>\n",
            "  <div class=\"modal pr-0\" id=\"search\" tabindex=\"-1\">\n",
            "   <div class=\"modal-dialog modal-dialog--search\">\n",
            "    <div class=\"modal-content modal-content--search\">\n",
            "     <div>\n",
            "      <button class=\"close search__close p-3\" data-dismiss=\"modal\" type=\"button\">\n",
            "       <span>\n",
            "        ×\n",
            "       </span>\n",
            "      </button>\n",
            "     </div>\n",
            "     <div class=\"modal-body modal-body--search\">\n",
            "      <div class=\"container-fluid container-fluid--search\">\n",
            "       <div class=\"row\">\n",
            "        <div class=\"col\">\n",
            "         <input autocomplete=\"off\" class=\"form-control form-control--search mb-5\" id=\"search-input\" name=\"search-input\" placeholder=\"What are you looking for?\" type=\"text\"/>\n",
            "         <div id=\"search-results\">\n",
            "         </div>\n",
            "        </div>\n",
            "       </div>\n",
            "      </div>\n",
            "     </div>\n",
            "    </div>\n",
            "   </div>\n",
            "  </div>\n",
            "  <div class=\"cookies-warning position-fixed d-none\">\n",
            "   <div class=\"container-fluid\">\n",
            "    <div class=\"row\">\n",
            "     <div class=\"col\">\n",
            "      <div class=\"alert alert-cookies alert-dismissible my-0\">\n",
            "       KeyCDN uses cookies to make its website easier to use.\n",
            "       <a class=\"alert-cookies__link\" href=\"https://www.keycdn.com/privacy\">\n",
            "        Learn more about cookies.\n",
            "       </a>\n",
            "       <button class=\"close alert-cookies__close\" data-dismiss=\"alert\" type=\"button\">\n",
            "        <span>\n",
            "         ×\n",
            "        </span>\n",
            "       </button>\n",
            "      </div>\n",
            "     </div>\n",
            "    </div>\n",
            "   </div>\n",
            "  </div>\n",
            "  <script src=\"https://tools-7.kxcdn.com/js/app-9225d400aa.js\" type=\"text/javascript\">\n",
            "  </script>\n",
            "  <script src=\"https://tools-7.kxcdn.com/js/geo-374a17548f.js\" type=\"text/javascript\">\n",
            "  </script>\n",
            " </body>\n",
            "</html>\n",
            "\n"
          ]
        }
      ],
      "source": [
        "print(soup.prettify())"
      ]
    },
    {
      "cell_type": "markdown",
      "metadata": {
        "id": "-t-d9S5DcVlO"
      },
      "source": [
        "Es igual que antes, pues la estructura es la misma, primero saco todos los `<dd>`luego todos los `<dt>`"
      ]
    },
    {
      "cell_type": "code",
      "execution_count": 93,
      "metadata": {
        "colab": {
          "base_uri": "https://localhost:8080/"
        },
        "id": "l2Yp0DsfgT4Z",
        "outputId": "5dc14f69-f824-464f-f78e-37b9316964c7"
      },
      "outputs": [
        {
          "data": {
            "text/plain": [
              "[<dd class=\"col-8 text-monospace\">Benin (BJ)</dd>,\n",
              " <dd class=\"col-8 text-monospace\">Africa (AF)</dd>,\n",
              " <dd class=\"col-8 text-monospace\">9.5 (lat) / 2.25 (long)</dd>,\n",
              " <dd class=\"col-8 text-monospace\">2024-09-13 20:13:20 (Africa/Porto-Novo)</dd>,\n",
              " <dd class=\"col-8 text-monospace\">137.255.90.7</dd>,\n",
              " <dd class=\"col-8 text-monospace\">137.255.90.7</dd>,\n",
              " <dd class=\"col-8 text-monospace\">SBIN</dd>,\n",
              " <dd class=\"col-8 text-monospace\">28683</dd>]"
            ]
          },
          "execution_count": 93,
          "metadata": {},
          "output_type": "execute_result"
        }
      ],
      "source": [
        "tabla = soup.find('div', {'id': 'geoResult'})\n",
        "tabla.find_all('dd', {'class': 'col-8 text-monospace'})"
      ]
    },
    {
      "cell_type": "code",
      "execution_count": 94,
      "metadata": {
        "colab": {
          "base_uri": "https://localhost:8080/"
        },
        "id": "U5J9BYQ3gT4Z",
        "outputId": "8d44539c-6d7d-4eb9-97c4-0562be7c8c7c"
      },
      "outputs": [
        {
          "data": {
            "text/plain": [
              "[<dt class=\"col-4\">Country</dt>,\n",
              " <dt class=\"col-4\">Continent</dt>,\n",
              " <dt class=\"col-4\">Coordinates</dt>,\n",
              " <dt class=\"col-4\">Time</dt>,\n",
              " <dt class=\"col-4\">IP address</dt>,\n",
              " <dt class=\"col-4\">Hostname</dt>,\n",
              " <dt class=\"col-4\">Provider</dt>,\n",
              " <dt class=\"col-4\">ASN</dt>]"
            ]
          },
          "execution_count": 94,
          "metadata": {},
          "output_type": "execute_result"
        }
      ],
      "source": [
        "tabla.find_all('dt')"
      ]
    },
    {
      "cell_type": "code",
      "execution_count": null,
      "metadata": {
        "colab": {
          "base_uri": "https://localhost:8080/",
          "height": 35
        },
        "id": "2bgpLk4mgT4a",
        "outputId": "0403f83d-a8c5-4b56-dfb1-2e7e19f8c1e5"
      },
      "outputs": [],
      "source": [
        "#'{:2.2f}'.format(12.5436363636363)  # formato en strings de numeros"
      ]
    },
    {
      "cell_type": "markdown",
      "metadata": {
        "id": "jUglsxN8dZZt"
      },
      "source": [
        "Puedo hacer una función que haga de golpe todo lo que hemos hecho hasta ahora con una dirección IP"
      ]
    },
    {
      "cell_type": "code",
      "execution_count": null,
      "metadata": {
        "id": "pK2XdziagT4a"
      },
      "outputs": [],
      "source": [
        "def geo(ip):\n",
        "\n",
        "    url = f'https://tools.keycdn.com/geo?host={ip}' #Dinamica en fucnion de la IP que quiero buscar\n",
        "\n",
        "    html = req.get(url, headers = headers).content\n",
        "\n",
        "    soup = bs(html, 'html.parser')\n",
        "\n",
        "    tabla = soup.find('div', {'id': 'geoResult'})\n",
        "\n",
        "    conexion = [e.text for e in tabla.find_all('dd', {'class': 'col-8 text-monospace'})]\n",
        "\n",
        "    return conexion"
      ]
    },
    {
      "cell_type": "markdown",
      "metadata": {
        "id": "_Ilrer74csRJ"
      },
      "source": [
        "Vimos que una url también puede tener diferentes parámetros. ¿Qué pasa si tengo una lista de IP de la que quiero obtener la información y hacerme un dataframe?"
      ]
    },
    {
      "cell_type": "code",
      "execution_count": null,
      "metadata": {
        "id": "jnkT--EwgT4a"
      },
      "outputs": [],
      "source": [
        "list_ip = ['137.255.90.7', '195.255.90.10', '177.255.21.7']"
      ]
    },
    {
      "cell_type": "markdown",
      "metadata": {},
      "source": [
        "Sacad un DataFrame que tenga la información de las direcciones IP contenidas en `list_ip`:\n",
        "1. probad a hacer vuestra propia funcion\n",
        "2. haced el scrapeo \"manual\"\n",
        "3. hacedlo utilizando la funcion"
      ]
    },
    {
      "cell_type": "code",
      "execution_count": null,
      "metadata": {},
      "outputs": [],
      "source": [
        "# header\n",
        "header = headers\n",
        "# lista de ip\n",
        "list_ip\n",
        "# contenedor para diccionarios\n",
        "data = []\n",
        "# lo tengo que hacer por cada una de las IP\n",
        "    # tengo que recorrer la lista --> for ip in lista_ip:...\n",
        "for ip in list_ip:\n",
        "# llamada que voy a coger el html\n",
        "    # la llamada va dentro del bucle\n",
        "    # la url tiene que ser una f-string porque cada vuelta de bucle será una ip diferente\n",
        "    url = f'web/adahfa?{ip}'\n",
        "    html = req.get(url, headers=headers)\n",
        "    # soup\n",
        "    soup = bs()\n",
        "    # sacar las columnas\n",
        "    infor_colum = []\n",
        "    # sacar las filas\n",
        "    infor_fila = []\n",
        "        # diccionario\n",
        "    infor = {}\n",
        "        # tengo que guardar el diccionario... falta contenedor vaco\n",
        "    data.append(infor)\n",
        "\n",
        "\n",
        "# fuera del bucle ya puedo hacer mi df con la información del contenedor\n",
        "df = pd.DataFrame(data, index=???)"
      ]
    },
    {
      "cell_type": "code",
      "execution_count": null,
      "metadata": {
        "id": "F0aIPB0XfLIU"
      },
      "outputs": [],
      "source": [
        "# Inténtalo tú (alumnos)"
      ]
    },
    {
      "cell_type": "code",
      "execution_count": null,
      "metadata": {
        "id": "XbI46n3wksKi"
      },
      "outputs": [],
      "source": [
        "def funcion_ip(ip):\n",
        "    url = f'web/adahfa?{ip}'\n",
        "    html = req.get(url, headers=headers)\n",
        "    # soup\n",
        "    soup = bs()\n",
        "    # sacar las columnas\n",
        "    infor_colum = []\n",
        "    # sacar las filas\n",
        "    infor_fila = []\n",
        "        # diccionario\n",
        "    return {}"
      ]
    },
    {
      "cell_type": "code",
      "execution_count": null,
      "metadata": {},
      "outputs": [],
      "source": [
        "list_ip\n",
        "header\n",
        "data = [funcion_ip(ip) for ip in list_ip]\n",
        "df = pd.DataFrame(data, index=???)\n",
        "df\n"
      ]
    },
    {
      "cell_type": "markdown",
      "metadata": {
        "id": "Hvc_PTwpgT4b"
      },
      "source": [
        "### Ejemplo LinkedIn"
      ]
    },
    {
      "cell_type": "code",
      "execution_count": null,
      "metadata": {
        "id": "wOMoYPt_gT4b"
      },
      "outputs": [],
      "source": [
        "#Vamos intentar scrapear Linkedin\n",
        "URL='https://www.linkedin.com/jobs/search/' #Esta es la direccion de la pagina de busqueda de empleo de Linkedin general"
      ]
    },
    {
      "cell_type": "markdown",
      "metadata": {
        "id": "DzzcjcpXgT4b"
      },
      "source": [
        "A esta direccion le podemos poner parametros para afinar nuestra búsqueda.\n",
        "\n",
        "URL = 'https://www.linkedin.com/jobs/search/?keywords=data&location=Madrid&refresh=true'\n",
        "\n",
        "`?keywords=data` nos dice que la palabra clave que queremos buscar es 'data'\n",
        "    \n",
        "`&location=Madrid` nos dice que queremos buscar en Madrid\n",
        "    \n",
        "`&refresh=true` nos dice que queremos que nos devuelva los resultados más recientes\n",
        "\n",
        "Podemos filtrar más nuestra búsqueda en la web y veremos que van apareciendo más ***parametros*** en la URL.\n",
        "\n",
        "`&f_TPR=r120960` nos dice que empleos de la ultima semana. El parámetro va en segundos así que 60 * 60 * 24 * número de días atrás que queremos buscar\n",
        "\n",
        "`&start={i*25}` donde i sería el número de página\n"
      ]
    },
    {
      "cell_type": "code",
      "execution_count": null,
      "metadata": {
        "id": "prrEF2s1gT4q"
      },
      "outputs": [],
      "source": [
        "#Vamos a intentar scrapear esta URL\n",
        "import requests as req\n",
        "from bs4 import BeautifulSoup as bs\n",
        "url = 'https://www.linkedin.com/jobs/search/?keywords=data&location=Espa%C3%B1a&refresh=true%27&position=1&pageNum=0'\n",
        "html = req.get(url).content\n",
        "soup=bs(html, 'html.parser')"
      ]
    },
    {
      "cell_type": "code",
      "execution_count": null,
      "metadata": {
        "id": "pkczZhLRKXia"
      },
      "outputs": [],
      "source": [
        "print(soup.prettify())"
      ]
    },
    {
      "cell_type": "code",
      "execution_count": null,
      "metadata": {
        "id": "qAtLZ1IdgT4r"
      },
      "outputs": [],
      "source": [
        "# Intentad sacar los ingredientes de la recete de esta sopa y obtener para cada oferta de trabajo:\n",
        "\n",
        "# - Titulo\n",
        "# - Empresa\n",
        "# - Ubicacion\n",
        "# - Link de la empresa\n",
        "# - Link de la oferta\n",
        "# - Fecha de publicacion"
      ]
    },
    {
      "cell_type": "code",
      "execution_count": null,
      "metadata": {
        "id": "ynO74U6VgT4r"
      },
      "outputs": [],
      "source": [
        "#Os recomiendo ir echando una ojeada al html y la sopa poco a poco para ver como esta estructurado\n",
        "#Lo primero que tendremos que buscar será el elemento que contiene todas las ofertas....🤔\n",
        "\n",
        "#PISTA -- base-search-card__info\n",
        "#De aqui en adelante vosotros solos, tened presente que querremos guardar toda esa info en un dataframe"
      ]
    },
    {
      "cell_type": "code",
      "execution_count": null,
      "metadata": {
        "id": "uq-oVWFghhgP"
      },
      "outputs": [],
      "source": [
        "h3_titulos = soup.find_all('h3',{'class': 'base-search-card__title'})\n",
        "titulos_ofertas = [h3.text.replace('\\n','').strip() for h3 in h3_titulos]\n",
        "titulos_ofertas"
      ]
    },
    {
      "cell_type": "code",
      "execution_count": null,
      "metadata": {
        "id": "s7kCHBM0QrNB"
      },
      "outputs": [],
      "source": [
        "titulos_ofertas[0].replace('\\n','').strip()"
      ]
    },
    {
      "cell_type": "code",
      "execution_count": null,
      "metadata": {
        "id": "r0qRtso-iYOk"
      },
      "outputs": [],
      "source": [
        "# - Titulo\n",
        "# - Empresa\n",
        "# - Ubicacion\n",
        "# - Link de la empresa\n",
        "# - Link de la oferta\n",
        "# - Fecha de publicacion"
      ]
    },
    {
      "cell_type": "code",
      "execution_count": null,
      "metadata": {
        "id": "pciYYF2H3Ssp"
      },
      "outputs": [],
      "source": [
        "# SOLUCION para el primer elemento que aparece\n",
        "import pandas as pd\n",
        "\n",
        "data=[]\n",
        "tabla = soup.find('div', {'class': 'base-search-card__info'})\n",
        "\n",
        "titulo = tabla.find('h3', {'class': 'base-search-card__title'}).text.split('–')[0].strip() # - Titulo .sprit() para quitar espacios\n",
        "empresa = tabla.find('h4', {'class': 'base-search-card__subtitle'}).text.strip()  # - Empresa\n",
        "ubicacion = tabla.find('span', {'class': 'job-search-card__location'}).text.strip() # - Ubicacion\n",
        "link_empresa = tabla.find('a', {'class': 'hidden-nested-link'})['href'].split('?')[0] # - Link de la empresa\n",
        "link_oferta = soup.find('a', {'class': 'base-card__full-link absolute top-0 right-0 bottom-0 left-0 p-0 z-[2]'})['href'] # - Link de la oferta\n",
        "fecha_publicacion = tabla.find('time')['datetime'].strip()  # - Fecha de publicacion\n",
        "\n",
        "print(titulo)\n",
        "print(empresa)\n",
        "print(ubicacion)\n",
        "print(link_empresa)\n",
        "print(link_oferta)\n",
        "print(fecha_publicacion)\n",
        "\n",
        "data.append({\n",
        "    'titulo': titulo,\n",
        "    'empresa': empresa,\n",
        "    'ubicacion': ubicacion,\n",
        "    'link_empresa': link_empresa,\n",
        "    'link_oferta': link_oferta,\n",
        "    'fecha': fecha_publicacion\n",
        "})\n",
        "\n",
        "display(pd.DataFrame(data))"
      ]
    },
    {
      "cell_type": "markdown",
      "metadata": {
        "id": "SPkBAJ9FhJhu"
      },
      "source": [
        "### REDDIT - https://www.reddit.com/r/Python/"
      ]
    },
    {
      "cell_type": "code",
      "execution_count": null,
      "metadata": {
        "id": "sOSTjITbgT4s"
      },
      "outputs": [],
      "source": [
        "url = 'https://www.reddit.com/r/Python/'\n",
        "html = req.get(url).content\n",
        "soup = bs(html, 'html.parser')"
      ]
    },
    {
      "cell_type": "code",
      "execution_count": null,
      "metadata": {
        "id": "fs5r5Q1dgT4s"
      },
      "outputs": [],
      "source": [
        "print(soup.prettify())"
      ]
    },
    {
      "cell_type": "code",
      "execution_count": null,
      "metadata": {
        "id": "FmwrstFniw6p"
      },
      "outputs": [],
      "source": [
        "articulos = soup.find_all('shreddit-post')\n",
        "print(articulos[0].prettify())"
      ]
    },
    {
      "cell_type": "code",
      "execution_count": null,
      "metadata": {
        "id": "U7sHehNhuuYw"
      },
      "outputs": [],
      "source": [
        "len(articulos)"
      ]
    },
    {
      "cell_type": "markdown",
      "metadata": {
        "id": "z0kOKRcljbbo"
      },
      "source": [
        "Ya sé que tengo el autor del post dentro de `<span class=\"whitespace-nowrap\">` y quiero conseguir el nombre de los autores de los diferentes posts de reddit\n",
        "\n",
        "soup.find_all('span', {'class':'whitespace-nowrap'}) me va a dar una lista\n",
        "\n",
        "pues por cada elemento de la lista dame el texto y límpialo. (hemos visto que cada autor empieza por 'u/' y eso nos da igual)."
      ]
    },
    {
      "cell_type": "code",
      "execution_count": null,
      "metadata": {
        "id": "zKdwrjBfjZTt"
      },
      "outputs": [],
      "source": [
        "#Lista Autores\n",
        "autores =[autor.text.replace('u/','') for autor in soup.find_all('span', {'class':'whitespace-nowrap'})]\n",
        "autores[2]"
      ]
    },
    {
      "cell_type": "code",
      "execution_count": null,
      "metadata": {
        "id": "S_XnxLvOixDC"
      },
      "outputs": [],
      "source": [
        "#Titulos:\n",
        "titulos = []\n",
        "listado = soup.find_all('a', {'font-bold'})\n",
        "\n",
        "#este find_all me devuelve artículo y autor [0] no es lo que quiero, pero [1] sí es lo que quiero\n",
        "#necesito quedarme los impares\n",
        "for i in range(len(listado)):\n",
        "  if i%2 != 0:\n",
        "    titulos.append(listado[i].text.replace('\\n','').strip())\n",
        "titulos"
      ]
    },
    {
      "cell_type": "code",
      "execution_count": null,
      "metadata": {
        "id": "M1-sKv7rmolO"
      },
      "outputs": [],
      "source": [
        "#Tipo articulo\n",
        "tipos = [tipo.text.replace('\\n','').strip() for tipo in soup.find_all('div',{'class': 'md'})]"
      ]
    },
    {
      "cell_type": "markdown",
      "metadata": {
        "id": "5z6cSShTsNTG"
      },
      "source": [
        "Cuando tengo una etiqueta sea la que sea dentro tengo su clase, id, y más atributos. href, title, target...\n",
        "\n",
        "El contenido de los atributos también es accesible. Es como coger información de lo que pone por fuera de la caja. Puedo localizar cualquier etiqueta :"
      ]
    },
    {
      "cell_type": "code",
      "execution_count": null,
      "metadata": {
        "id": "11Y8m2rrixJ2"
      },
      "outputs": [],
      "source": [
        "#Queremos coger la info de los atributos\n",
        "soup.find_all('div', {'class': 'grow overflow-hidden'})[0]#.find('a').attrs#['href']"
      ]
    },
    {
      "cell_type": "code",
      "execution_count": null,
      "metadata": {
        "id": "_rKd-_aWjkM2"
      },
      "outputs": [],
      "source": [
        "soup.find_all('div', {'class': 'grow overflow-hidden'})[0].find('a')"
      ]
    },
    {
      "cell_type": "code",
      "execution_count": null,
      "metadata": {
        "id": "13bBDq-6jkqw"
      },
      "outputs": [],
      "source": [
        "soup.find_all('div', {'class':'grow overflow-hidden'})[0].find('a').attrs"
      ]
    },
    {
      "cell_type": "code",
      "execution_count": null,
      "metadata": {
        "id": "EDphEpFbjqVC"
      },
      "outputs": [],
      "source": [
        "soup.find_all('div', {'class':'grow overflow-hidden'})[0].find('a').attrs['href']"
      ]
    },
    {
      "cell_type": "markdown",
      "metadata": {
        "id": "OZ6ytQrqgT4s"
      },
      "source": [
        "### REPASO FUNCIONES"
      ]
    },
    {
      "cell_type": "code",
      "execution_count": null,
      "metadata": {
        "id": "IUwU65rrgT4t"
      },
      "outputs": [],
      "source": [
        "# repaso funciones\n",
        "\n",
        "def suma(*args):\n",
        "    return sum(args)\n",
        "\n",
        "suma(2, 2, 3, 45, 67, 890)"
      ]
    },
    {
      "cell_type": "code",
      "execution_count": null,
      "metadata": {
        "id": "27pleoccgT4t"
      },
      "outputs": [],
      "source": [
        "def saludar(nombre, lang='es', colega=True):\n",
        "    s=''\n",
        "\n",
        "    if colega:\n",
        "        s='colega!!!'\n",
        "\n",
        "    if lang=='es':\n",
        "        print('Hola {} {}'.format(nombre, s))\n",
        "\n",
        "    else:\n",
        "        print('Hello {} buddy!!!'.format(nombre))"
      ]
    },
    {
      "cell_type": "code",
      "execution_count": null,
      "metadata": {
        "id": "glnXOxIEgT4t"
      },
      "outputs": [],
      "source": [
        "def saludar_multiple(*lst, lang='es', colega=True):\n",
        "    for e in lst:\n",
        "        saludar(e, lang, colega)"
      ]
    },
    {
      "cell_type": "code",
      "execution_count": null,
      "metadata": {
        "id": "PnVJkC1dgT4u"
      },
      "outputs": [],
      "source": [
        "saludar('Pepe')"
      ]
    },
    {
      "cell_type": "code",
      "execution_count": null,
      "metadata": {
        "id": "Ay3JoUI2gT4u"
      },
      "outputs": [],
      "source": [
        "saludar(['Pepe', 'en'])"
      ]
    },
    {
      "cell_type": "code",
      "execution_count": null,
      "metadata": {
        "id": "kk-NzSZDgT4u"
      },
      "outputs": [],
      "source": [
        "saludar(*['Pepe', 'en'])"
      ]
    },
    {
      "cell_type": "code",
      "execution_count": null,
      "metadata": {
        "id": "wsQaalF0gT4v"
      },
      "outputs": [],
      "source": [
        "saludar_multiple('Ana', 'Pepe', 'Juan', 'Maria', lang='en')"
      ]
    },
    {
      "cell_type": "code",
      "execution_count": null,
      "metadata": {
        "id": "FnsJUHOZgT4v"
      },
      "outputs": [],
      "source": [
        "nombres=['Ana', 'Pepe', 'Juan', 'Maria']\n",
        "\n",
        "config={'lang': 'es', 'colega': True}"
      ]
    },
    {
      "cell_type": "code",
      "execution_count": null,
      "metadata": {
        "id": "Rq2p4RSpgT40"
      },
      "outputs": [],
      "source": [
        "saludar_multiple(*nombres, **config)"
      ]
    },
    {
      "cell_type": "code",
      "execution_count": null,
      "metadata": {
        "id": "UTaMdRO-gT41"
      },
      "outputs": [],
      "source": [
        "def function (*args, **kwargs):\n",
        "    return"
      ]
    }
  ],
  "metadata": {
    "colab": {
      "provenance": []
    },
    "kernelspec": {
      "display_name": "Python 3 (ipykernel)",
      "language": "python",
      "name": "python3"
    },
    "language_info": {
      "codemirror_mode": {
        "name": "ipython",
        "version": 3
      },
      "file_extension": ".py",
      "mimetype": "text/x-python",
      "name": "python",
      "nbconvert_exporter": "python",
      "pygments_lexer": "ipython3",
      "version": "3.12.4"
    },
    "varInspector": {
      "cols": {
        "lenName": 16,
        "lenType": 16,
        "lenVar": 40
      },
      "kernels_config": {
        "python": {
          "delete_cmd_postfix": "",
          "delete_cmd_prefix": "del ",
          "library": "var_list.py",
          "varRefreshCmd": "print(var_dic_list())"
        },
        "r": {
          "delete_cmd_postfix": ") ",
          "delete_cmd_prefix": "rm(",
          "library": "var_list.r",
          "varRefreshCmd": "cat(var_dic_list()) "
        }
      },
      "types_to_exclude": [
        "module",
        "function",
        "builtin_function_or_method",
        "instance",
        "_Feature"
      ],
      "window_display": false
    }
  },
  "nbformat": 4,
  "nbformat_minor": 0
}
