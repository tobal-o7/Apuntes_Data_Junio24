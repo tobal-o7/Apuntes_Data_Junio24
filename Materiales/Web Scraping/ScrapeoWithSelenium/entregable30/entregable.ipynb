{
 "cells": [
  {
   "cell_type": "code",
   "execution_count": 25,
   "metadata": {},
   "outputs": [],
   "source": [
    "from selenium import webdriver\n",
    "from webdriver_manager.chrome import ChromeDriverManager # sustituye al archivo\n",
    "from selenium.webdriver.chrome.options import Options # opciones de chrome\n",
    "from selenium.webdriver.common.by import By # By es para buscar por tag, clase, id...\n",
    "from selenium.webdriver.support.ui import WebDriverWait   # para meter esperaras\n",
    "from selenium.webdriver.support import expected_conditions as EC   # para esperar ciertos eventos\n",
    "from selenium.webdriver import ActionChains # para hacer acciones con el ratón\n",
    "import time\n",
    "import random\n",
    "import selenium.webdriver.common.keys as Keys # para simular teclas\n",
    "from dotenv import load_dotenv\n",
    "import os"
   ]
  },
  {
   "cell_type": "code",
   "execution_count": 26,
   "metadata": {},
   "outputs": [],
   "source": [
    "#Opciones de chrome\n",
    "opciones = webdriver.ChromeOptions()\n",
    "#opciones.add_argument('--start-maximized')\n",
    "opciones.add_argument('window-size=775,1400')\n",
    "opciones.add_argument('--disable-extensions')\n",
    "opciones.add_argument('--disable-blink-features=AutomationControlled')\n",
    "opciones.add_argument('--no-sandbox')\n",
    "opciones.add_experimental_option('useAutomationExtension', False)\n",
    "opciones.add_experimental_option('excludeSwitches', ['enable-automation'])\n",
    "\n",
    "# guardar las cookies\n",
    "# opciones.add_argument('user-data-dir=cookies')    # mantiene las cookies\n",
    "opciones.add_argument('--incognito') # modo incognito"
   ]
  },
  {
   "cell_type": "code",
   "execution_count": 27,
   "metadata": {},
   "outputs": [],
   "source": [
    "# habrir el url de el forum\n",
    "\n",
    "url = 'https://forms.gle/7jKq7vHV7V1R3NbR8'\n",
    "driver = webdriver.Chrome(options=opciones)\n",
    "driver.get(url)"
   ]
  },
  {
   "cell_type": "code",
   "execution_count": 28,
   "metadata": {},
   "outputs": [],
   "source": [
    "load_dotenv()\n",
    "email = os.getenv('email')\n",
    "password = os.getenv('password')\n"
   ]
  },
  {
   "cell_type": "code",
   "execution_count": 29,
   "metadata": {},
   "outputs": [],
   "source": [
    "email_box = driver.find_element(By.XPATH,'//*[@id=\"identifierId\"]')\n",
    "email_box.click()"
   ]
  },
  {
   "cell_type": "code",
   "execution_count": 30,
   "metadata": {},
   "outputs": [],
   "source": [
    "# Y ahora vamos a escribir letra a letra:\n",
    "for letra in email:\n",
    "    email_box.send_keys(letra)\n",
    "    time.sleep(random.uniform(0.2,0.4))\n",
    "# email_box.send_keys(email)"
   ]
  },
  {
   "cell_type": "code",
   "execution_count": 31,
   "metadata": {},
   "outputs": [],
   "source": [
    "next = driver.find_element(By.XPATH, '//*[@id=\"identifierNext\"]/div/button/span')\n",
    "next.click()"
   ]
  },
  {
   "cell_type": "code",
   "execution_count": 32,
   "metadata": {},
   "outputs": [],
   "source": [
    "time.sleep(1)\n",
    "\n",
    "password_box = driver.find_element(By.XPATH,'//*[@id=\"password\"]/div[1]/div/div[1]/input')\n",
    "password_box.click()"
   ]
  },
  {
   "cell_type": "code",
   "execution_count": 33,
   "metadata": {},
   "outputs": [],
   "source": [
    "for letra in password:\n",
    "    password_box.send_keys(letra)\n",
    "    time.sleep(random.uniform(0.2,0.4))"
   ]
  },
  {
   "cell_type": "code",
   "execution_count": 34,
   "metadata": {},
   "outputs": [],
   "source": [
    "password_next = driver.find_element(By.XPATH, '//*[@id=\"passwordNext\"]/div/button/span')\n",
    "password_next.click()"
   ]
  }
 ],
 "metadata": {
  "kernelspec": {
   "display_name": "Python 3",
   "language": "python",
   "name": "python3"
  },
  "language_info": {
   "codemirror_mode": {
    "name": "ipython",
    "version": 3
   },
   "file_extension": ".py",
   "mimetype": "text/x-python",
   "name": "python",
   "nbconvert_exporter": "python",
   "pygments_lexer": "ipython3",
   "version": "3.12.3"
  }
 },
 "nbformat": 4,
 "nbformat_minor": 2
}
