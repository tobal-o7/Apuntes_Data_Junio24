{
 "cells": [
  {
   "cell_type": "code",
   "execution_count": null,
   "metadata": {},
   "outputs": [],
   "source": [
    "#Vamos a sacar el nombre del producto, el precio y el link\n",
    "\n",
    "for i,producto in enumerate(productos):\n",
    "    try:\n",
    "       nombre = producto.find_element(By.CLASS_NAME, 'a-size-base-plus').text\n",
    "    except: # Exception as e:\n",
    "        nombre = (f\"El producto[{i}] sin nombre\")#-->error: {e}\n",
    "    try:\n",
    "        precio = producto.find_element(By.CLASS_NAME, 'a-price-whole').text\n",
    "    except:\n",
    "        precio = (f\"El producto[{i}] sin precio\")\n",
    "    try:\n",
    "        link = producto.find_element(By.CLASS_NAME, 'a-link-normal.a-text-normal').get_attribute('href')\n",
    "    except:\n",
    "        link = (f\"El producto[{i}] sin link\")\n",
    "    print(nombre, precio, link)"
   ]
  }
 ],
 "metadata": {
  "language_info": {
   "name": "python"
  }
 },
 "nbformat": 4,
 "nbformat_minor": 2
}
